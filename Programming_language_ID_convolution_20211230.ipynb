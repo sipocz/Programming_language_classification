{
  "cells": [
    {
      "cell_type": "markdown",
      "metadata": {
        "id": "view-in-github",
        "colab_type": "text"
      },
      "source": [
        "<a href=\"https://colab.research.google.com/github/sipocz/Programming_language_classification/blob/main/Programming_language_ID_convolution_20211230.ipynb\" target=\"_parent\"><img src=\"https://colab.research.google.com/assets/colab-badge.svg\" alt=\"Open In Colab\"/></a>"
      ]
    },
    {
      "cell_type": "code",
      "execution_count": null,
      "metadata": {
        "id": "3VoDnJFuApPY"
      },
      "outputs": [],
      "source": [
        ""
      ]
    },
    {
      "cell_type": "code",
      "execution_count": null,
      "metadata": {
        "id": "lS8T-dxnwfjO"
      },
      "outputs": [],
      "source": [
        "import pandas as pd"
      ]
    },
    {
      "cell_type": "code",
      "execution_count": null,
      "metadata": {
        "id": "xFjap2PTfYbv"
      },
      "outputs": [],
      "source": [
        ""
      ]
    },
    {
      "cell_type": "code",
      "execution_count": null,
      "metadata": {
        "colab": {
          "base_uri": "https://localhost:8080/"
        },
        "id": "TVKfMbXhg0ZO",
        "outputId": "8f7cbb71-c659-4acc-8584-9d6fcdd76b6a"
      },
      "outputs": [
        {
          "output_type": "stream",
          "name": "stdout",
          "text": [
            "Collecting emoji\n",
            "  Downloading emoji-1.6.1.tar.gz (170 kB)\n",
            "\u001b[?25l\r\u001b[K     |██                              | 10 kB 19.4 MB/s eta 0:00:01\r\u001b[K     |███▉                            | 20 kB 14.8 MB/s eta 0:00:01\r\u001b[K     |█████▉                          | 30 kB 5.0 MB/s eta 0:00:01\r\u001b[K     |███████▊                        | 40 kB 6.4 MB/s eta 0:00:01\r\u001b[K     |█████████▋                      | 51 kB 7.6 MB/s eta 0:00:01\r\u001b[K     |███████████▋                    | 61 kB 7.2 MB/s eta 0:00:01\r\u001b[K     |█████████████▌                  | 71 kB 6.9 MB/s eta 0:00:01\r\u001b[K     |███████████████▍                | 81 kB 7.6 MB/s eta 0:00:01\r\u001b[K     |█████████████████▍              | 92 kB 7.3 MB/s eta 0:00:01\r\u001b[K     |███████████████████▎            | 102 kB 7.3 MB/s eta 0:00:01\r\u001b[K     |█████████████████████▏          | 112 kB 7.3 MB/s eta 0:00:01\r\u001b[K     |███████████████████████▏        | 122 kB 7.3 MB/s eta 0:00:01\r\u001b[K     |█████████████████████████       | 133 kB 7.3 MB/s eta 0:00:01\r\u001b[K     |███████████████████████████     | 143 kB 7.3 MB/s eta 0:00:01\r\u001b[K     |█████████████████████████████   | 153 kB 7.3 MB/s eta 0:00:01\r\u001b[K     |██████████████████████████████▉ | 163 kB 7.3 MB/s eta 0:00:01\r\u001b[K     |████████████████████████████████| 170 kB 7.3 MB/s \n",
            "\u001b[?25hBuilding wheels for collected packages: emoji\n",
            "  Building wheel for emoji (setup.py) ... \u001b[?25l\u001b[?25hdone\n",
            "  Created wheel for emoji: filename=emoji-1.6.1-py3-none-any.whl size=169314 sha256=04a90245f4adac9b4956e4611ca31b8389dedaa2144f7664cddf3f4c51b5fb63\n",
            "  Stored in directory: /root/.cache/pip/wheels/ea/5f/d3/03d313ddb3c2a1a427bb4690f1621eea60fe6f2a30cc95940f\n",
            "Successfully built emoji\n",
            "Installing collected packages: emoji\n",
            "Successfully installed emoji-1.6.1\n"
          ]
        }
      ],
      "source": [
        "! pip install emoji\n",
        "import emoji"
      ]
    },
    {
      "cell_type": "code",
      "execution_count": null,
      "metadata": {
        "colab": {
          "base_uri": "https://localhost:8080/",
          "height": 35
        },
        "id": "UMHsrRn4f7Ct",
        "outputId": "6d36ebd5-880a-42f4-ba19-66d40495325f"
      },
      "outputs": [
        {
          "output_type": "execute_result",
          "data": {
            "application/vnd.google.colaboratory.intrinsic+json": {
              "type": "string"
            },
            "text/plain": [
              "'hello :thumbs_up:'"
            ]
          },
          "metadata": {},
          "execution_count": 3
        }
      ],
      "source": [
        "\n",
        "emoji.demojize(\"hello 👍\")"
      ]
    },
    {
      "cell_type": "markdown",
      "metadata": {
        "id": "YDQLvAy5gI0C"
      },
      "source": [
        "##Szószedet"
      ]
    },
    {
      "cell_type": "code",
      "source": [
        "train_file_url=\"https://github.com/sipocz/Programming_language_classification/raw/e61a328b63d89bc7f3ca744fefcbf9b162fe52c5/orig/train.csv\"\n",
        "test_file_url=\"https://github.com/sipocz/Programming_language_classification/raw/e61a328b63d89bc7f3ca744fefcbf9b162fe52c5/orig/test.csv\""
      ],
      "metadata": {
        "id": "_tYKeq-BTB0B"
      },
      "execution_count": null,
      "outputs": []
    },
    {
      "cell_type": "code",
      "execution_count": null,
      "metadata": {
        "colab": {
          "base_uri": "https://localhost:8080/"
        },
        "id": "lDUZMjUkgIIe",
        "outputId": "2ddd537b-8f81-43a4-d88a-e378ec9759fd"
      },
      "outputs": [
        {
          "output_type": "stream",
          "name": "stdout",
          "text": [
            "rm: cannot remove '*train*': No such file or directory\n",
            "rm: cannot remove '*test*': No such file or directory\n",
            "--2021-12-28 19:41:27--  https://github.com/sipocz/Programming_language_classification/raw/e61a328b63d89bc7f3ca744fefcbf9b162fe52c5/orig/train.csv\n",
            "Resolving github.com (github.com)... 192.30.255.112\n",
            "Connecting to github.com (github.com)|192.30.255.112|:443... connected.\n",
            "HTTP request sent, awaiting response... 302 Found\n",
            "Location: https://raw.githubusercontent.com/sipocz/Programming_language_classification/e61a328b63d89bc7f3ca744fefcbf9b162fe52c5/orig/train.csv [following]\n",
            "--2021-12-28 19:41:28--  https://raw.githubusercontent.com/sipocz/Programming_language_classification/e61a328b63d89bc7f3ca744fefcbf9b162fe52c5/orig/train.csv\n",
            "Resolving raw.githubusercontent.com (raw.githubusercontent.com)... 185.199.109.133, 185.199.108.133, 185.199.110.133, ...\n",
            "Connecting to raw.githubusercontent.com (raw.githubusercontent.com)|185.199.109.133|:443... connected.\n",
            "HTTP request sent, awaiting response... 200 OK\n",
            "Length: 7705880 (7.3M) [text/plain]\n",
            "Saving to: ‘train.csv’\n",
            "\n",
            "train.csv           100%[===================>]   7.35M  --.-KB/s    in 0.1s    \n",
            "\n",
            "2021-12-28 19:41:28 (73.9 MB/s) - ‘train.csv’ saved [7705880/7705880]\n",
            "\n",
            "--2021-12-28 19:41:28--  https://github.com/sipocz/Programming_language_classification/raw/e61a328b63d89bc7f3ca744fefcbf9b162fe52c5/orig/test.csv\n",
            "Resolving github.com (github.com)... 192.30.255.112\n",
            "Connecting to github.com (github.com)|192.30.255.112|:443... connected.\n",
            "HTTP request sent, awaiting response... 302 Found\n",
            "Location: https://raw.githubusercontent.com/sipocz/Programming_language_classification/e61a328b63d89bc7f3ca744fefcbf9b162fe52c5/orig/test.csv [following]\n",
            "--2021-12-28 19:41:29--  https://raw.githubusercontent.com/sipocz/Programming_language_classification/e61a328b63d89bc7f3ca744fefcbf9b162fe52c5/orig/test.csv\n",
            "Resolving raw.githubusercontent.com (raw.githubusercontent.com)... 185.199.109.133, 185.199.110.133, 185.199.111.133, ...\n",
            "Connecting to raw.githubusercontent.com (raw.githubusercontent.com)|185.199.109.133|:443... connected.\n",
            "HTTP request sent, awaiting response... 200 OK\n",
            "Length: 1500334 (1.4M) [text/plain]\n",
            "Saving to: ‘test.csv’\n",
            "\n",
            "test.csv            100%[===================>]   1.43M  --.-KB/s    in 0.04s   \n",
            "\n",
            "2021-12-28 19:41:29 (32.3 MB/s) - ‘test.csv’ saved [1500334/1500334]\n",
            "\n"
          ]
        }
      ],
      "source": [
        "!rm *train*\n",
        "!rm *test*\n",
        "\n",
        "!wget $train_file_url\n",
        "!wget $test_file_url\n",
        "\n"
      ]
    },
    {
      "cell_type": "code",
      "execution_count": null,
      "metadata": {
        "colab": {
          "base_uri": "https://localhost:8080/",
          "height": 206
        },
        "id": "YDtEcJB5haQF",
        "outputId": "3e911307-5017-4643-fe47-920aebad27a4"
      },
      "outputs": [
        {
          "output_type": "execute_result",
          "data": {
            "text/html": [
              "\n",
              "  <div id=\"df-008d41a4-83b3-4fd8-944c-b050ad8a40af\">\n",
              "    <div class=\"colab-df-container\">\n",
              "      <div>\n",
              "<style scoped>\n",
              "    .dataframe tbody tr th:only-of-type {\n",
              "        vertical-align: middle;\n",
              "    }\n",
              "\n",
              "    .dataframe tbody tr th {\n",
              "        vertical-align: top;\n",
              "    }\n",
              "\n",
              "    .dataframe thead th {\n",
              "        text-align: right;\n",
              "    }\n",
              "</style>\n",
              "<table border=\"1\" class=\"dataframe\">\n",
              "  <thead>\n",
              "    <tr style=\"text-align: right;\">\n",
              "      <th></th>\n",
              "      <th>id</th>\n",
              "      <th>code</th>\n",
              "    </tr>\n",
              "  </thead>\n",
              "  <tbody>\n",
              "    <tr>\n",
              "      <th>0</th>\n",
              "      <td>10684</td>\n",
              "      <td>28 = 22 + 23 + 24\\n\\n 33 = 32 + 23 + 24\\n\\n 49...</td>\n",
              "    </tr>\n",
              "    <tr>\n",
              "      <th>1</th>\n",
              "      <td>17536</td>\n",
              "      <td>this.path = path;\\n\\n       this.estimat...</td>\n",
              "    </tr>\n",
              "    <tr>\n",
              "      <th>2</th>\n",
              "      <td>26383</td>\n",
              "      <td>{\\n\\n                     ...</td>\n",
              "    </tr>\n",
              "    <tr>\n",
              "      <th>3</th>\n",
              "      <td>29090</td>\n",
              "      <td>/**\\n\\n  * Class for converting from \"any\" bas...</td>\n",
              "    </tr>\n",
              "    <tr>\n",
              "      <th>4</th>\n",
              "      <td>10482</td>\n",
              "      <td>{ cout&lt;&lt;\"Destructing base \\n\"; }      ...</td>\n",
              "    </tr>\n",
              "  </tbody>\n",
              "</table>\n",
              "</div>\n",
              "      <button class=\"colab-df-convert\" onclick=\"convertToInteractive('df-008d41a4-83b3-4fd8-944c-b050ad8a40af')\"\n",
              "              title=\"Convert this dataframe to an interactive table.\"\n",
              "              style=\"display:none;\">\n",
              "        \n",
              "  <svg xmlns=\"http://www.w3.org/2000/svg\" height=\"24px\"viewBox=\"0 0 24 24\"\n",
              "       width=\"24px\">\n",
              "    <path d=\"M0 0h24v24H0V0z\" fill=\"none\"/>\n",
              "    <path d=\"M18.56 5.44l.94 2.06.94-2.06 2.06-.94-2.06-.94-.94-2.06-.94 2.06-2.06.94zm-11 1L8.5 8.5l.94-2.06 2.06-.94-2.06-.94L8.5 2.5l-.94 2.06-2.06.94zm10 10l.94 2.06.94-2.06 2.06-.94-2.06-.94-.94-2.06-.94 2.06-2.06.94z\"/><path d=\"M17.41 7.96l-1.37-1.37c-.4-.4-.92-.59-1.43-.59-.52 0-1.04.2-1.43.59L10.3 9.45l-7.72 7.72c-.78.78-.78 2.05 0 2.83L4 21.41c.39.39.9.59 1.41.59.51 0 1.02-.2 1.41-.59l7.78-7.78 2.81-2.81c.8-.78.8-2.07 0-2.86zM5.41 20L4 18.59l7.72-7.72 1.47 1.35L5.41 20z\"/>\n",
              "  </svg>\n",
              "      </button>\n",
              "      \n",
              "  <style>\n",
              "    .colab-df-container {\n",
              "      display:flex;\n",
              "      flex-wrap:wrap;\n",
              "      gap: 12px;\n",
              "    }\n",
              "\n",
              "    .colab-df-convert {\n",
              "      background-color: #E8F0FE;\n",
              "      border: none;\n",
              "      border-radius: 50%;\n",
              "      cursor: pointer;\n",
              "      display: none;\n",
              "      fill: #1967D2;\n",
              "      height: 32px;\n",
              "      padding: 0 0 0 0;\n",
              "      width: 32px;\n",
              "    }\n",
              "\n",
              "    .colab-df-convert:hover {\n",
              "      background-color: #E2EBFA;\n",
              "      box-shadow: 0px 1px 2px rgba(60, 64, 67, 0.3), 0px 1px 3px 1px rgba(60, 64, 67, 0.15);\n",
              "      fill: #174EA6;\n",
              "    }\n",
              "\n",
              "    [theme=dark] .colab-df-convert {\n",
              "      background-color: #3B4455;\n",
              "      fill: #D2E3FC;\n",
              "    }\n",
              "\n",
              "    [theme=dark] .colab-df-convert:hover {\n",
              "      background-color: #434B5C;\n",
              "      box-shadow: 0px 1px 3px 1px rgba(0, 0, 0, 0.15);\n",
              "      filter: drop-shadow(0px 1px 2px rgba(0, 0, 0, 0.3));\n",
              "      fill: #FFFFFF;\n",
              "    }\n",
              "  </style>\n",
              "\n",
              "      <script>\n",
              "        const buttonEl =\n",
              "          document.querySelector('#df-008d41a4-83b3-4fd8-944c-b050ad8a40af button.colab-df-convert');\n",
              "        buttonEl.style.display =\n",
              "          google.colab.kernel.accessAllowed ? 'block' : 'none';\n",
              "\n",
              "        async function convertToInteractive(key) {\n",
              "          const element = document.querySelector('#df-008d41a4-83b3-4fd8-944c-b050ad8a40af');\n",
              "          const dataTable =\n",
              "            await google.colab.kernel.invokeFunction('convertToInteractive',\n",
              "                                                     [key], {});\n",
              "          if (!dataTable) return;\n",
              "\n",
              "          const docLinkHtml = 'Like what you see? Visit the ' +\n",
              "            '<a target=\"_blank\" href=https://colab.research.google.com/notebooks/data_table.ipynb>data table notebook</a>'\n",
              "            + ' to learn more about interactive tables.';\n",
              "          element.innerHTML = '';\n",
              "          dataTable['output_type'] = 'display_data';\n",
              "          await google.colab.output.renderOutput(dataTable, element);\n",
              "          const docLink = document.createElement('div');\n",
              "          docLink.innerHTML = docLinkHtml;\n",
              "          element.appendChild(docLink);\n",
              "        }\n",
              "      </script>\n",
              "    </div>\n",
              "  </div>\n",
              "  "
            ],
            "text/plain": [
              "      id                                               code\n",
              "0  10684  28 = 22 + 23 + 24\\n\\n 33 = 32 + 23 + 24\\n\\n 49...\n",
              "1  17536        this.path = path;\\n\\n       this.estimat...\n",
              "2  26383                      {\\n\\n                     ...\n",
              "3  29090  /**\\n\\n  * Class for converting from \"any\" bas...\n",
              "4  10482          { cout<<\"Destructing base \\n\"; }      ..."
            ]
          },
          "metadata": {},
          "execution_count": 6
        }
      ],
      "source": [
        "df_test=pd.read_csv(\"test.csv\")\n",
        "df_test.head()\n",
        "\n"
      ]
    },
    {
      "cell_type": "code",
      "execution_count": null,
      "metadata": {
        "id": "dA8Mk878pUdU"
      },
      "outputs": [],
      "source": [
        "df_train=pd.read_csv(\"train.csv\")\n"
      ]
    },
    {
      "cell_type": "code",
      "execution_count": null,
      "metadata": {
        "colab": {
          "base_uri": "https://localhost:8080/",
          "height": 363
        },
        "id": "OczaGqbTqKgz",
        "outputId": "35f56a00-185b-4d1c-d2f5-53957318e60e"
      },
      "outputs": [
        {
          "output_type": "execute_result",
          "data": {
            "text/html": [
              "\n",
              "  <div id=\"df-9e98f73e-6da5-4001-aada-79da9d24b106\">\n",
              "    <div class=\"colab-df-container\">\n",
              "      <div>\n",
              "<style scoped>\n",
              "    .dataframe tbody tr th:only-of-type {\n",
              "        vertical-align: middle;\n",
              "    }\n",
              "\n",
              "    .dataframe tbody tr th {\n",
              "        vertical-align: top;\n",
              "    }\n",
              "\n",
              "    .dataframe thead th {\n",
              "        text-align: right;\n",
              "    }\n",
              "</style>\n",
              "<table border=\"1\" class=\"dataframe\">\n",
              "  <thead>\n",
              "    <tr style=\"text-align: right;\">\n",
              "      <th></th>\n",
              "      <th>id</th>\n",
              "      <th>code</th>\n",
              "      <th>language</th>\n",
              "    </tr>\n",
              "  </thead>\n",
              "  <tbody>\n",
              "    <tr>\n",
              "      <th>0</th>\n",
              "      <td>14026</td>\n",
              "      <td>var result = testObj1 | testObj2;\\...</td>\n",
              "      <td>c-sharp</td>\n",
              "    </tr>\n",
              "    <tr>\n",
              "      <th>1</th>\n",
              "      <td>12201</td>\n",
              "      <td>///     Initializes a new instance of ...</td>\n",
              "      <td>c-sharp</td>\n",
              "    </tr>\n",
              "    <tr>\n",
              "      <th>2</th>\n",
              "      <td>17074</td>\n",
              "      <td>/*\\n\\n     Explanation :- a user gives a Strin...</td>\n",
              "      <td>javascript</td>\n",
              "    </tr>\n",
              "    <tr>\n",
              "      <th>3</th>\n",
              "      <td>21102</td>\n",
              "      <td>int sum = 0;\\n\\n         for (int i = ...</td>\n",
              "      <td>c-plus-plus</td>\n",
              "    </tr>\n",
              "    <tr>\n",
              "      <th>4</th>\n",
              "      <td>53065</td>\n",
              "      <td>if (p-&gt;data &lt; min)\\n\\n         {\\n\\n  ...</td>\n",
              "      <td>c</td>\n",
              "    </tr>\n",
              "    <tr>\n",
              "      <th>5</th>\n",
              "      <td>29901</td>\n",
              "      <td>&gt;&gt;&gt; insertion_sort([]) == sorted([])\\n\\n  ...</td>\n",
              "      <td>python</td>\n",
              "    </tr>\n",
              "    <tr>\n",
              "      <th>6</th>\n",
              "      <td>32980</td>\n",
              "      <td>* @details The Trie data structure is impleme...</td>\n",
              "      <td>c-plus-plus</td>\n",
              "    </tr>\n",
              "    <tr>\n",
              "      <th>7</th>\n",
              "      <td>22010</td>\n",
              "      <td>*/\\n\\n static void test() {\\n\\n     data_stru...</td>\n",
              "      <td>c-plus-plus</td>\n",
              "    </tr>\n",
              "    <tr>\n",
              "      <th>8</th>\n",
              "      <td>80574</td>\n",
              "      <td># =&gt; 2\\n\\n puts remove_elements([0, 1, 2, 2, 3...</td>\n",
              "      <td>ruby</td>\n",
              "    </tr>\n",
              "    <tr>\n",
              "      <th>9</th>\n",
              "      <td>35990</td>\n",
              "      <td>// graph is represented as an array of edg...</td>\n",
              "      <td>c</td>\n",
              "    </tr>\n",
              "  </tbody>\n",
              "</table>\n",
              "</div>\n",
              "      <button class=\"colab-df-convert\" onclick=\"convertToInteractive('df-9e98f73e-6da5-4001-aada-79da9d24b106')\"\n",
              "              title=\"Convert this dataframe to an interactive table.\"\n",
              "              style=\"display:none;\">\n",
              "        \n",
              "  <svg xmlns=\"http://www.w3.org/2000/svg\" height=\"24px\"viewBox=\"0 0 24 24\"\n",
              "       width=\"24px\">\n",
              "    <path d=\"M0 0h24v24H0V0z\" fill=\"none\"/>\n",
              "    <path d=\"M18.56 5.44l.94 2.06.94-2.06 2.06-.94-2.06-.94-.94-2.06-.94 2.06-2.06.94zm-11 1L8.5 8.5l.94-2.06 2.06-.94-2.06-.94L8.5 2.5l-.94 2.06-2.06.94zm10 10l.94 2.06.94-2.06 2.06-.94-2.06-.94-.94-2.06-.94 2.06-2.06.94z\"/><path d=\"M17.41 7.96l-1.37-1.37c-.4-.4-.92-.59-1.43-.59-.52 0-1.04.2-1.43.59L10.3 9.45l-7.72 7.72c-.78.78-.78 2.05 0 2.83L4 21.41c.39.39.9.59 1.41.59.51 0 1.02-.2 1.41-.59l7.78-7.78 2.81-2.81c.8-.78.8-2.07 0-2.86zM5.41 20L4 18.59l7.72-7.72 1.47 1.35L5.41 20z\"/>\n",
              "  </svg>\n",
              "      </button>\n",
              "      \n",
              "  <style>\n",
              "    .colab-df-container {\n",
              "      display:flex;\n",
              "      flex-wrap:wrap;\n",
              "      gap: 12px;\n",
              "    }\n",
              "\n",
              "    .colab-df-convert {\n",
              "      background-color: #E8F0FE;\n",
              "      border: none;\n",
              "      border-radius: 50%;\n",
              "      cursor: pointer;\n",
              "      display: none;\n",
              "      fill: #1967D2;\n",
              "      height: 32px;\n",
              "      padding: 0 0 0 0;\n",
              "      width: 32px;\n",
              "    }\n",
              "\n",
              "    .colab-df-convert:hover {\n",
              "      background-color: #E2EBFA;\n",
              "      box-shadow: 0px 1px 2px rgba(60, 64, 67, 0.3), 0px 1px 3px 1px rgba(60, 64, 67, 0.15);\n",
              "      fill: #174EA6;\n",
              "    }\n",
              "\n",
              "    [theme=dark] .colab-df-convert {\n",
              "      background-color: #3B4455;\n",
              "      fill: #D2E3FC;\n",
              "    }\n",
              "\n",
              "    [theme=dark] .colab-df-convert:hover {\n",
              "      background-color: #434B5C;\n",
              "      box-shadow: 0px 1px 3px 1px rgba(0, 0, 0, 0.15);\n",
              "      filter: drop-shadow(0px 1px 2px rgba(0, 0, 0, 0.3));\n",
              "      fill: #FFFFFF;\n",
              "    }\n",
              "  </style>\n",
              "\n",
              "      <script>\n",
              "        const buttonEl =\n",
              "          document.querySelector('#df-9e98f73e-6da5-4001-aada-79da9d24b106 button.colab-df-convert');\n",
              "        buttonEl.style.display =\n",
              "          google.colab.kernel.accessAllowed ? 'block' : 'none';\n",
              "\n",
              "        async function convertToInteractive(key) {\n",
              "          const element = document.querySelector('#df-9e98f73e-6da5-4001-aada-79da9d24b106');\n",
              "          const dataTable =\n",
              "            await google.colab.kernel.invokeFunction('convertToInteractive',\n",
              "                                                     [key], {});\n",
              "          if (!dataTable) return;\n",
              "\n",
              "          const docLinkHtml = 'Like what you see? Visit the ' +\n",
              "            '<a target=\"_blank\" href=https://colab.research.google.com/notebooks/data_table.ipynb>data table notebook</a>'\n",
              "            + ' to learn more about interactive tables.';\n",
              "          element.innerHTML = '';\n",
              "          dataTable['output_type'] = 'display_data';\n",
              "          await google.colab.output.renderOutput(dataTable, element);\n",
              "          const docLink = document.createElement('div');\n",
              "          docLink.innerHTML = docLinkHtml;\n",
              "          element.appendChild(docLink);\n",
              "        }\n",
              "      </script>\n",
              "    </div>\n",
              "  </div>\n",
              "  "
            ],
            "text/plain": [
              "      id                                               code     language\n",
              "0  14026              var result = testObj1 | testObj2;\\...      c-sharp\n",
              "1  12201          ///     Initializes a new instance of ...      c-sharp\n",
              "2  17074  /*\\n\\n     Explanation :- a user gives a Strin...   javascript\n",
              "3  21102          int sum = 0;\\n\\n         for (int i = ...  c-plus-plus\n",
              "4  53065          if (p->data < min)\\n\\n         {\\n\\n  ...            c\n",
              "5  29901      >>> insertion_sort([]) == sorted([])\\n\\n  ...       python\n",
              "6  32980   * @details The Trie data structure is impleme...  c-plus-plus\n",
              "7  22010   */\\n\\n static void test() {\\n\\n     data_stru...  c-plus-plus\n",
              "8  80574  # => 2\\n\\n puts remove_elements([0, 1, 2, 2, 3...         ruby\n",
              "9  35990      // graph is represented as an array of edg...            c"
            ]
          },
          "metadata": {},
          "execution_count": 8
        }
      ],
      "source": [
        "df_train.head(10)"
      ]
    },
    {
      "cell_type": "code",
      "source": [
        "languages=set(df_train.language)"
      ],
      "metadata": {
        "id": "gKWduEZGJdY0"
      },
      "execution_count": null,
      "outputs": []
    },
    {
      "cell_type": "code",
      "source": [
        "len(languages)"
      ],
      "metadata": {
        "colab": {
          "base_uri": "https://localhost:8080/"
        },
        "id": "Fc82uz3ZJm-h",
        "outputId": "cb0aa0b7-a153-40cf-9f68-2f52bd7e446e"
      },
      "execution_count": null,
      "outputs": [
        {
          "output_type": "execute_result",
          "data": {
            "text/plain": [
              "15"
            ]
          },
          "metadata": {},
          "execution_count": 10
        }
      ]
    },
    {
      "cell_type": "code",
      "execution_count": null,
      "metadata": {
        "id": "2vGSDdwGqneG"
      },
      "outputs": [],
      "source": [
        "test=list(df_test.code)\n",
        "train=list(df_train.code)\n"
      ]
    },
    {
      "cell_type": "code",
      "source": [
        "def decorate_list(inpstr:str):\n",
        "    aa=inpstr.split()\n",
        "    i=0\n",
        "    print(\"'''\")\n",
        "    for a in aa:\n",
        "        print(a, end=\" \")\n",
        "        i+=1\n",
        "        if i % 10==0:\n",
        "            print(\"\", end=\"\\n\")\n",
        "    print(\"\\n'''\")"
      ],
      "metadata": {
        "id": "SDMqa72say6c"
      },
      "execution_count": null,
      "outputs": []
    },
    {
      "cell_type": "code",
      "execution_count": null,
      "metadata": {
        "id": "tuRrm2HJja_6"
      },
      "outputs": [],
      "source": [
        "alltext=train+test"
      ]
    },
    {
      "cell_type": "code",
      "source": [
        "keywords_swift='''\n",
        "Class deinit Enum extension Func import Init operator private protocol \n",
        "public static struct subscript break case continue default do else \n",
        "for return switch where while as false is dynamicType super \n",
        "true _COLUMN_ Let in _FILE_ internal typealias if nil var \n",
        "self unowned _FUNCTION_ _LINE_ associativity convenience dynamic didSet precedence final \n",
        "get infix inout right set type lazy left mutating none \n",
        "weak willSet prefix nonmutating optional override postfix Protocol required \n",
        "'''"
      ],
      "metadata": {
        "id": "qMkENkO1Xkne"
      },
      "execution_count": null,
      "outputs": []
    },
    {
      "cell_type": "code",
      "source": [
        ""
      ],
      "metadata": {
        "id": "MWGSxmLtbOlQ"
      },
      "execution_count": null,
      "outputs": []
    },
    {
      "cell_type": "code",
      "source": [
        "keywords_ruby='''\n",
        "BEGIN END alias and begin break case class def module \n",
        "next nil not or redo rescue retry return elsif end \n",
        "false ensure for if true undef unless do else super \n",
        "then until when while defined? self \n",
        "'''"
      ],
      "metadata": {
        "id": "LI1t7EVcWV3A"
      },
      "execution_count": null,
      "outputs": []
    },
    {
      "cell_type": "code",
      "source": [
        "keywords_php='''\n",
        "__halt_compiler abstract and array as break callable case catch class \n",
        "clone const continue declare default die do echo else elseif \n",
        "empty enddeclare endfor endforeach endif endswitch endwhile eval exit extends \n",
        "final finally fn for foreach function global goto if implements \n",
        "include include_once instanceof insteadof interface isset list match namespace new \n",
        "or print private protected public readonly require require_once return static \n",
        "switch throw trait try unset use var while xor yield \n",
        "yield from \n",
        "'''"
      ],
      "metadata": {
        "id": "OI3pUmeGV6ov"
      },
      "execution_count": null,
      "outputs": []
    },
    {
      "cell_type": "code",
      "source": [
        "keywords_scala='''\n",
        "abstract case catch class def do else extends false final \n",
        "finally for forSome if implicit import lazy macro match new \n",
        "null object override package private protected return sealed super this \n",
        "throw trait try true type val var while with yield \n",
        "\n",
        "'''"
      ],
      "metadata": {
        "id": "DEv2KuY2WVHS"
      },
      "execution_count": null,
      "outputs": []
    },
    {
      "cell_type": "code",
      "source": [
        "keywords_julia='''\n",
        "@doc_str do macrocall struct __dot__ end memq toplevel _cmd eqv \n",
        "memv true _str false module try abstract finally mutable tuple \n",
        "bitstype for none type block function parameters typealias call global \n",
        "primitive typed_comprehension catch if quote typed_hcat cell1d kw ref typed_vcat \n",
        "comparison line return vect const local row where curly macro \n",
        "string \n",
        "'''"
      ],
      "metadata": {
        "id": "QqGWl6d3VaZt"
      },
      "execution_count": null,
      "outputs": []
    },
    {
      "cell_type": "code",
      "source": [
        "keywords_javascript='''\n",
        "abstract arguments boolean break byte case catch char class const \n",
        "continue debugger default delete do double else enum eval export \n",
        "extends false final finally float for function goto if implements \n",
        "import in instanceof int interface let long native new null \n",
        "package private protected public return short static super switch synchronized \n",
        "this throw throws transient true try typeof var void volatile \n",
        "while with yield Array Date eval function hasOwnProperty Infinity isFinite \n",
        "isNaN isPrototypeOf length Math NaN name Number Object prototype String \n",
        "toString undefined valueOf \n",
        "'''"
      ],
      "metadata": {
        "id": "__VT1ufyPSad"
      },
      "execution_count": null,
      "outputs": []
    },
    {
      "cell_type": "code",
      "source": [
        "keywords_java='''\n",
        "abstract assert boolean break byte case catch char class const \n",
        "continue default do double else enum extends final finally float \n",
        "for goto if implement imports instanceof int interface long native \n",
        "new package private protected public return short static strictfp super \n",
        "switch synchronized this throw throws transient try void volatile while \n",
        "false null true \n",
        "'''"
      ],
      "metadata": {
        "id": "QL5-xC5GOsAX"
      },
      "execution_count": null,
      "outputs": []
    },
    {
      "cell_type": "code",
      "source": [
        "keywords_go='''\n",
        "break case chan const continue default defer else fallthrough for \n",
        "func go goto if import interface map package range return \n",
        "select struct switch type var \n",
        "'''"
      ],
      "metadata": {
        "id": "JAFF3fmWOL0U"
      },
      "execution_count": null,
      "outputs": []
    },
    {
      "cell_type": "code",
      "source": [
        "keywords_f_sharp='''\n",
        "atomic break checked component const constraint constructor continue eager fixed \n",
        "fori functor include method mixin object parallel params process protected \n",
        "pure sealed tailcall trait virtual volatile \n",
        "'''"
      ],
      "metadata": {
        "id": "oyFNWwDoNePm"
      },
      "execution_count": null,
      "outputs": []
    },
    {
      "cell_type": "code",
      "source": [
        "keywords_dart='''\n",
        "assert break case catch class const continue default do else \n",
        "enum extends false final finally for if in is new \n",
        "null rethrow return super switch this throw true try var \n",
        "void while with \n",
        "'''"
      ],
      "metadata": {
        "id": "XUdQzbYLNFJd"
      },
      "execution_count": null,
      "outputs": []
    },
    {
      "cell_type": "code",
      "source": [
        "keywords_c='''\n",
        "auto break case char const continue default do double else \n",
        "enum extern float for goto if int long register return \n",
        "short signed sizeof static struct switch typedef union unsigned void \n",
        "volatile while \n",
        "'''\n"
      ],
      "metadata": {
        "id": "4OON-rBKGS9w"
      },
      "execution_count": null,
      "outputs": []
    },
    {
      "cell_type": "code",
      "source": [
        "keywords_python='''\n",
        "False await else import pass None break except in raise \n",
        "True class finally is return and continue for lambda try \n",
        "as def from nonlocal while assert del global not with \n",
        "async elif if or yield \n",
        "'''"
      ],
      "metadata": {
        "id": "OVXVR5wwHAIs"
      },
      "execution_count": null,
      "outputs": []
    },
    {
      "cell_type": "code",
      "source": [
        "keywords_cpp='''\n",
        "alignas double reinterpret_cast alignof dynamic_cast requires and else return and_eq \n",
        "enum short asm explicit signed atomic_cancel export sizeof atomic_commit extern \n",
        "static atomic_noexcept false static_assert auto float static_cast bitand for struct \n",
        "bitor friend switch bool goto synchronized break if template case \n",
        "import this catch inline thread_local char int throw char16_t long \n",
        "true char32_t module try class mutable typedef compl namespace typeid \n",
        "concept new typename const noexcept union constexpr not unsigned const_cast \n",
        "not_eq using continue nullptr virtual co_await operator void co_return or \n",
        "volatile co_yield or_eq wchar_t decltype private while default protected xor \n",
        "delete public xor_eq do register \n",
        "'''"
      ],
      "metadata": {
        "id": "sdKJWV2_LZpq"
      },
      "execution_count": null,
      "outputs": []
    },
    {
      "cell_type": "code",
      "source": [
        "keywords_c_sharp='''\n",
        "abstract as base bool break byte case catch char checked \n",
        "class const continue decimal default delegate do double else enum \n",
        "event explicit extern false finally fixed float for foreach goto \n",
        "if implicit in int interface internal is lock long namespace \n",
        "new null object operator out override params private protected public \n",
        "readonly ref return sbyte sealed short sizeof stackalloc static string \n",
        "struct switch this throw true try typeof uint ulong unchecked \n",
        "unsafe ushort using virtual void volatile while \n",
        "'''"
      ],
      "metadata": {
        "id": "1dGKnKE0Ie4V"
      },
      "execution_count": null,
      "outputs": []
    },
    {
      "cell_type": "code",
      "source": [
        "keywords_r='''\n",
        "if else repeat while function for in next break TRUE \n",
        "FALSE NULL Inf NaN NA NA_integer_ NA_real_ NA_complex_ NA_character_ ... \n",
        "'''"
      ],
      "metadata": {
        "id": "MMWbhghVK1N4"
      },
      "execution_count": null,
      "outputs": []
    },
    {
      "cell_type": "code",
      "source": [
        "def keyword_convert(keystr:str):\n",
        "    keywords_list=keystr.split()\n",
        "    out=[\"_\"+c+\"_\" for c in keywords_list]\n",
        "    return(out)"
      ],
      "metadata": {
        "id": "jfnPWTaRj1C8"
      },
      "execution_count": null,
      "outputs": []
    },
    {
      "cell_type": "code",
      "source": [
        "languages"
      ],
      "metadata": {
        "colab": {
          "base_uri": "https://localhost:8080/"
        },
        "id": "cD4peLFur1sN",
        "outputId": "c8787cfd-624d-484c-cda0-59363c219a68"
      },
      "execution_count": null,
      "outputs": [
        {
          "output_type": "execute_result",
          "data": {
            "text/plain": [
              "{'R',\n",
              " 'c',\n",
              " 'c-plus-plus',\n",
              " 'c-sharp',\n",
              " 'dart',\n",
              " 'f-sharp',\n",
              " 'go',\n",
              " 'java',\n",
              " 'javascript',\n",
              " 'julia',\n",
              " 'php',\n",
              " 'python',\n",
              " 'ruby',\n",
              " 'scala',\n",
              " 'swift'}"
            ]
          },
          "metadata": {},
          "execution_count": 30
        }
      ]
    },
    {
      "cell_type": "code",
      "source": [
        "list_of_pogramming_languages=(keywords_r,keywords_c,keywords_cpp,keywords_c_sharp,keywords_dart,\n",
        "                             keywords_f_sharp,keywords_go,keywords_java,keywords_javascript,\n",
        "                             keywords_julia,keywords_php,keywords_python,keywords_ruby,\n",
        "                             keywords_scala,keywords_swift\n",
        ")"
      ],
      "metadata": {
        "id": "MrnF06rIGsL_"
      },
      "execution_count": null,
      "outputs": []
    },
    {
      "cell_type": "code",
      "source": [
        "def create_keyword_set(prog_key_list:list):\n",
        "    output=[]\n",
        "    for keys in prog_key_list:\n",
        "        #print(keys)\n",
        "        setx=keyword_convert(keys)\n",
        "        output=output+setx\n",
        "        #print(output)\n",
        "    out=set(output)\n",
        "    outdict={o[1:-1]:o for o in out}\n",
        "    print(outdict)\n",
        "    return(outdict)"
      ],
      "metadata": {
        "id": "TS6yvr8vsMbc"
      },
      "execution_count": null,
      "outputs": []
    },
    {
      "cell_type": "code",
      "source": [
        "keyword_dict=create_keyword_set(list_of_pogramming_languages)"
      ],
      "metadata": {
        "colab": {
          "base_uri": "https://localhost:8080/"
        },
        "id": "gvVsHYsywExd",
        "outputId": "ebb16cfb-4fbc-4bf6-b7f7-3c550ae5699b"
      },
      "execution_count": null,
      "outputs": [
        {
          "output_type": "stream",
          "name": "stdout",
          "text": [
            "{'mixin': '_mixin_', 'undefined': '_undefined_', 'nullptr': '_nullptr_', 'chan': '_chan_', 'checked': '_checked_', 'typed_comprehension': '_typed_comprehension_', 'nonlocal': '_nonlocal_', 'typedef': '_typedef_', 'quote': '_quote_', 'sealed': '_sealed_', 'typeof': '_typeof_', 'functor': '_functor_', 'func': '_func_', 'global': '_global_', 'redo': '_redo_', 'NaN': '_NaN_', 'enddeclare': '_enddeclare_', 'fn': '_fn_', 'next': '_next_', 'endwhile': '_endwhile_', 'typed_vcat': '_typed_vcat_', 'require_once': '_require_once_', 'null': '_null_', 'pass': '_pass_', 'co_await': '_co_await_', 'process': '_process_', 'convenience': '_convenience_', 'using': '_using_', 'callable': '_callable_', 'bitstype': '_bitstype_', 'True': '_True_', '__dot__': '___dot___', 'primitive': '_primitive_', 'default': '_default_', 'Math': '_Math_', 'hasOwnProperty': '_hasOwnProperty_', 'operator': '_operator_', 'valueOf': '_valueOf_', 'template': '_template_', 'const': '_const_', 'true': '_true_', 'extends': '_extends_', 'do': '_do_', 'Array': '_Array_', 'not_eq': '_not_eq_', '_str': '__str_', 'Protocol': '_Protocol_', 'endswitch': '_endswitch_', 'undef': '_undef_', 'macrocall': '_macrocall_', 'atomic_commit': '_atomic_commit_', 'parallel': '_parallel_', 'class': '_class_', 'end': '_end_', 'comparison': '_comparison_', 'include_once': '_include_once_', 'alignas': '_alignas_', 'array': '_array_', 'virtual': '_virtual_', 'false': '_false_', 'unset': '_unset_', 'ensure': '_ensure_', 'eval': '_eval_', 'isset': '_isset_', 'Enum': '_Enum_', 'row': '_row_', 'call': '_call_', 'wchar_t': '_wchar_t_', 'insteadof': '_insteadof_', 'dynamic_cast': '_dynamic_cast_', 'lambda': '_lambda_', 'raise': '_raise_', 'for': '_for_', 'when': '_when_', 'decltype': '_decltype_', 'right': '_right_', 'Date': '_Date_', 'typename': '_typename_', '__halt_compiler': '___halt_compiler_', 'switch': '_switch_', 'implicit': '_implicit_', 'unowned': '_unowned_', 'boolean': '_boolean_', 'try': '_try_', 'prefix': '_prefix_', 'retry': '_retry_', 'foreach': '_foreach_', 'deinit': '_deinit_', 'asm': '_asm_', 'String': '_String_', 'unchecked': '_unchecked_', 'bitor': '_bitor_', 'char32_t': '_char32_t_', 'Number': '_Number_', 'alignof': '_alignof_', 'print': '_print_', 'Object': '_Object_', 'empty': '_empty_', 'NULL': '_NULL_', 'new': '_new_', 'yield': '_yield_', 'module': '_module_', 'break': '_break_', 'typed_hcat': '_typed_hcat_', 'bitand': '_bitand_', 'sbyte': '_sbyte_', 'assert': '_assert_', 'thread_local': '_thread_local_', 'params': '_params_', 'precedence': '_precedence_', 'delegate': '_delegate_', 'use': '_use_', 'uint': '_uint_', '_FILE_': '__FILE__', 'with': '_with_', 'until': '_until_', 'this': '_this_', 'clone': '_clone_', 'not': '_not_', 'if': '_if_', 'compl': '_compl_', 'unless': '_unless_', 'internal': '_internal_', 'elif': '_elif_', 'block': '_block_', 'toString': '_toString_', 'Infinity': '_Infinity_', 'native': '_native_', 'line': '_line_', 'imports': '_imports_', 'interface': '_interface_', 'namespace': '_namespace_', 'isPrototypeOf': '_isPrototypeOf_', 'base': '_base_', 'except': '_except_', 'super': '_super_', 'continue': '_continue_', 'or': '_or_', 'toplevel': '_toplevel_', 'defined?': '_defined?_', 'debugger': '_debugger_', 'mutable': '_mutable_', 'pure': '_pure_', 'END': '_END_', 'const_cast': '_const_cast_', 'mutating': '_mutating_', 'char': '_char_', 'didSet': '_didSet_', 'struct': '_struct_', 'False': '_False_', 'function': '_function_', 'throw': '_throw_', 'abstract': '_abstract_', 'kw': '_kw_', 'await': '_await_', 'defer': '_defer_', 'fori': '_fori_', 'select': '_select_', 'return': '_return_', 'ref': '_ref_', 'else': '_else_', '...': '_..._', 'prototype': '_prototype_', 'atomic_cancel': '_atomic_cancel_', 'macro': '_macro_', 'int': '_int_', 'BEGIN': '_BEGIN_', 'none': '_none_', 'dynamicType': '_dynamicType_', 'endforeach': '_endforeach_', '@doc_str': '_@doc_str_', 'char16_t': '_char16_t_', 'then': '_then_', 'or_eq': '_or_eq_', 'set': '_set_', 'import': '_import_', '_cmd': '__cmd_', 'component': '_component_', 'explicit': '_explicit_', 'private': '_private_', 'declare': '_declare_', 'go': '_go_', 'concept': '_concept_', 'requires': '_requires_', 'trait': '_trait_', 'echo': '_echo_', 'export': '_export_', 'Func': '_Func_', 'finally': '_finally_', 'eager': '_eager_', 'while': '_while_', 'extension': '_extension_', 'memq': '_memq_', 'get': '_get_', 'TRUE': '_TRUE_', 'None': '_None_', 'bool': '_bool_', 'exit': '_exit_', 'and_eq': '_and_eq_', 'infix': '_infix_', 'co_yield': '_co_yield_', 'event': '_event_', 'rescue': '_rescue_', 'arguments': '_arguments_', 'local': '_local_', 'dynamic': '_dynamic_', 'begin': '_begin_', 'decimal': '_decimal_', 'ushort': '_ushort_', 'Class': '_Class_', 'nonmutating': '_nonmutating_', 'atomic_noexcept': '_atomic_noexcept_', 'NA_complex_': '_NA_complex__', 'strictfp': '_strictfp_', 'nil': '_nil_', 'isFinite': '_isFinite_', 'constraint': '_constraint_', 'Init': '_Init_', 'out': '_out_', 'object': '_object_', 'unsigned': '_unsigned_', 'public': '_public_', 'alias': '_alias_', 'method': '_method_', 'case': '_case_', 'from': '_from_', 'fixed': '_fixed_', 'register': '_register_', 'final': '_final_', 'throws': '_throws_', 'let': '_let_', 'inout': '_inout_', 'optional': '_optional_', 'parameters': '_parameters_', 'vect': '_vect_', 'async': '_async_', 'elsif': '_elsif_', 'val': '_val_', 'xor_eq': '_xor_eq_', 'is': '_is_', 'weak': '_weak_', 'signed': '_signed_', 'lazy': '_lazy_', 'instanceof': '_instanceof_', 'lock': '_lock_', 'short': '_short_', 'static': '_static_', 'postfix': '_postfix_', 'in': '_in_', 'fallthrough': '_fallthrough_', 'del': '_del_', 'void': '_void_', 'protected': '_protected_', 'package': '_package_', 'isNaN': '_isNaN_', 'curly': '_curly_', 'co_return': '_co_return_', 'NA_integer_': '_NA_integer__', 'length': '_length_', 'typealias': '_typealias_', 'auto': '_auto_', 'Let': '_Let_', 'tailcall': '_tailcall_', 'ulong': '_ulong_', 'where': '_where_', 'friend': '_friend_', 'require': '_require_', 'name': '_name_', '_FUNCTION_': '__FUNCTION__', 'string': '_string_', 'Inf': '_Inf_', 'map': '_map_', 'static_cast': '_static_cast_', 'synchronized': '_synchronized_', 'range': '_range_', 'readonly': '_readonly_', 'double': '_double_', 'union': '_union_', 'elseif': '_elseif_', 'NA_real_': '_NA_real__', 'override': '_override_', '_COLUMN_': '__COLUMN__', 'static_assert': '_static_assert_', 'implement': '_implement_', 'required': '_required_', 'self': '_self_', 'match': '_match_', 'atomic': '_atomic_', 'associativity': '_associativity_', 'forSome': '_forSome_', 'stackalloc': '_stackalloc_', 'var': '_var_', 'sizeof': '_sizeof_', 'noexcept': '_noexcept_', 'inline': '_inline_', 'float': '_float_', 'long': '_long_', 'NA': '_NA_', 'volatile': '_volatile_', 'byte': '_byte_', 'goto': '_goto_', 'typeid': '_typeid_', 'willSet': '_willSet_', 'NA_character_': '_NA_character__', 'reinterpret_cast': '_reinterpret_cast_', 'delete': '_delete_', 'cell1d': '_cell1d_', 'eqv': '_eqv_', 'FALSE': '_FALSE_', '_LINE_': '__LINE__', 'constexpr': '_constexpr_', 'enum': '_enum_', 'constructor': '_constructor_', 'endif': '_endif_', 'list': '_list_', 'type': '_type_', 'include': '_include_', 'die': '_die_', 'subscript': '_subscript_', 'implements': '_implements_', 'repeat': '_repeat_', 'as': '_as_', 'and': '_and_', 'memv': '_memv_', 'protocol': '_protocol_', 'tuple': '_tuple_', 'def': '_def_', 'catch': '_catch_', 'extern': '_extern_', 'rethrow': '_rethrow_', 'endfor': '_endfor_', 'left': '_left_', 'unsafe': '_unsafe_', 'xor': '_xor_', 'transient': '_transient_'}\n"
          ]
        }
      ]
    },
    {
      "cell_type": "code",
      "source": [
        "keyword_dict[\"checked\"]"
      ],
      "metadata": {
        "colab": {
          "base_uri": "https://localhost:8080/",
          "height": 35
        },
        "id": "JXoSALSKwJ0d",
        "outputId": "2ac73d7f-f383-48ae-a8e5-385215e5d2b4"
      },
      "execution_count": null,
      "outputs": [
        {
          "output_type": "execute_result",
          "data": {
            "application/vnd.google.colaboratory.intrinsic+json": {
              "type": "string"
            },
            "text/plain": [
              "'_checked_'"
            ]
          },
          "metadata": {},
          "execution_count": 35
        }
      ]
    },
    {
      "cell_type": "code",
      "source": [
        ""
      ],
      "metadata": {
        "id": "h9gx6vqhG1hL"
      },
      "execution_count": null,
      "outputs": []
    },
    {
      "cell_type": "code",
      "source": [
        ""
      ],
      "metadata": {
        "id": "d5JF5V62JATC"
      },
      "execution_count": null,
      "outputs": []
    },
    {
      "cell_type": "code",
      "execution_count": null,
      "metadata": {
        "id": "RCN90l7Ijkb5"
      },
      "outputs": [],
      "source": [
        "import re\n",
        "\n",
        "def remove_URL(text):\n",
        "    \"\"\"Remove URLs from a text string\"\"\"\n",
        "    return re.sub(r\"http\\S+\", \"\", text)\n",
        "\n",
        "def remove_emoji(string):\n",
        "    emoji_pattern = re.compile(\"[\"\n",
        "                           u\"\\U0001F600-\\U0001F64F\"  # emoticons\n",
        "                           u\"\\U0001F300-\\U0001F5FF\"  # symbols & pictographs\n",
        "                           u\"\\U0001F680-\\U0001F6FF\"  # transport & map symbols\n",
        "                           u\"\\U0001F1E0-\\U0001F1FF\"  # flags (iOS)\n",
        "                           u\"\\U00002702-\\U000027B0\"\n",
        "                           u\"\\U000024C2-\\U0001F251\"\n",
        "                           \"]+\", flags=re.UNICODE)\n",
        "    return emoji_pattern.sub(r'', string)\n",
        "\n",
        "def is_number(inp:str):\n",
        "    a=re.search(\"[\\d]\",inp)\n",
        "    if a==None: \n",
        "        return(False)\n",
        "    return(True)\n",
        "\n",
        "def strip_all_entities(text):\n",
        "    import emoji\n",
        "    import re,string\n",
        "    entity_prefixes = ['“','@','#',\"!\",\"?\"]\n",
        "    for separator in  string.punctuation:\n",
        "        if separator not in entity_prefixes :\n",
        "            text = text.replace(separator,' ')\n",
        "    words = []\n",
        "    for word in text.split():\n",
        "        word = word.strip()\n",
        "        if word:\n",
        "            if word[0] not in entity_prefixes:\n",
        "                words.append(word)\n",
        "    return ' '.join(words)\n",
        "\n",
        "def query_sentence(alltext:list,index:int):\n",
        "    print(f\"orig: {alltext[index]}\")\n",
        "    \n",
        "    inp=alltext[index]\n",
        "    inp=remove_URL(inp)\n",
        "    inp=emoji.demojize(inp)\n",
        "    txt=inp\n",
        "    #inp=strip_all_entities(inp)\n",
        "    txt=txt.replace(\"_\",\" _underline_ \")\n",
        "    txt=re.sub(\"[-+]?[0-9]*\\.?[0-9]+(e[-+]?[0-9]+)?\",\" _number_ \",txt) #numeric\n",
        "    txt=re.sub(\"[\\\"]?[\\w]*[\\\"]\",\" _string_ \",txt) #string\n",
        "    txt=re.sub(\"[\\']?[\\w]*[\\']\",\" _string_ \",txt) #string\n",
        "    \n",
        "\n",
        "\n",
        "    txt=txt.replace(\",\",\" _comma_ \").replace(\".\",\" _point_ \").replace(\"!\",\" _exclamation_ \").replace(\"#\",\" _hashmark_ \").replace(\"???\",\"?\").replace(\"??\",\"?\").replace(\"?\",\" _questionmark_ \")\n",
        "    txt=txt.replace(\"  \",\" \").replace(\"*\",\" _star_ \").replace('\"',\" _apostrofe_ \").replace(\"“\",\" _apostrofe_ \").replace(\"'\",\" _apostrofe_ \")\n",
        "    txt=txt.replace(\"=>\",\" _identical_ \").replace(\"=\",\" _equal_ \").replace(\"-\",\" _minus_ \").replace(\"^\",\" _powerup_ \")\n",
        "    txt=txt.replace(\"[\",\" _crotchets_open_ \").replace(\"]\",\" _crotchets_close_ \").replace(\"{\",\" _brace_open_ \").replace(\"}\",\" _brace_close_ \").replace(\"(\",\" _bracket_open_ \").replace(\")\",\" _bracket_close_ \")\n",
        "    txt=txt.replace(\"\\n\",\" _new_line_ \").replace(\"\\t\",\" _tab_ \").replace(\";\",\" _semicolon_ \").replace(\":\",\" _colon_ \").replace(\"&\",\" _AND_ \").replace(\"|\",\" _OR_ \").replace(\"\\\\\",\" _switch_char_ \")\n",
        "    txt=txt.replace(\"<\",\" _smaller_sign_ \").replace(\">\",\" _larger_sign_ \").replace(\"+\",\" _plus_ \").replace(\"$\",\" _dollar_ \").replace(\"/\",\" _division_ \")\n",
        "    txt=txt.replace(\"%\",\" _percentage_ \").replace(\"@\",\" _at_sign_ \")\n",
        "    txt=txt.replace(\"~\",\" _wiggle_ \")\n",
        "\n",
        "    \n",
        "    \n",
        "    #txt=txt.lower()\n",
        "    print(\"after replace=\",txt)\n",
        "    #print(txt)\n",
        "    normal=\"\"\n",
        "    #keyword dict usage\n",
        "    for i in txt.split(\" \"):\n",
        "        w1=i.strip()\n",
        "        if w1 in keyword_dict:\n",
        "            w1=keyword_dict[w1]\n",
        "            print(w1)\n",
        "        print(\"**\"+w1+\"**\")\n",
        "        if len (w1)!=0:\n",
        "            if w1[0]!=\"_\" and w1[-1]!=\"_\":\n",
        "                w1=\"_ID_\"\n",
        "        print(\"--\"+w1+\"--\")\n",
        "        normal += w1+\" \"\n",
        "\n",
        "    print(f\"  conv: {normal}\")\n",
        "    return(normal)"
      ]
    },
    {
      "cell_type": "code",
      "source": [
        ""
      ],
      "metadata": {
        "id": "u9tQrQt_HyG7"
      },
      "execution_count": null,
      "outputs": []
    },
    {
      "cell_type": "code",
      "source": [
        ""
      ],
      "metadata": {
        "id": "xahobt8Yq2_0"
      },
      "execution_count": null,
      "outputs": []
    },
    {
      "cell_type": "code",
      "source": [
        "query_sentence(train,0)"
      ],
      "metadata": {
        "colab": {
          "base_uri": "https://localhost:8080/",
          "height": 1000
        },
        "id": "WExlmfSO80zf",
        "outputId": "fe71ff80-f4d1-4da5-f46e-be533da6006e"
      },
      "execution_count": null,
      "outputs": [
        {
          "output_type": "stream",
          "name": "stdout",
          "text": [
            "orig:             var result = testObj1 | testObj2;\n",
            "\n",
            "             // Assert\n",
            "\n",
            "             Assert.AreEqual(expected, result.ToString());\n",
            "\n",
            "         }\n",
            "\n",
            "         [TestCase(1, 1, 1, 1, \"1\")]\n",
            "\n",
            "         [TestCase(5, 3, 8, 4, \"0000\")]\n",
            "\n",
            "after replace=       var result  _equal_  testObj _number_  _OR_  testObj _number_  _semicolon_  _new_line_  _new_line_         _division_  _division_  Assert _new_line_  _new_line_        Assert _point_ AreEqual _bracket_open_ expected _comma_ result _point_ ToString _bracket_open_  _bracket_close_  _bracket_close_  _semicolon_  _new_line_  _new_line_       _brace_close_  _new_line_  _new_line_       _crotchets_open_ TestCase _bracket_open_  _number_ _comma_  _number_ _comma_  _number_ _comma_  _number_ _comma_  _string_ _number_ _string_  _bracket_close_  _crotchets_close_  _new_line_  _new_line_       _crotchets_open_ TestCase _bracket_open_  _number_ _comma_  _number_ _comma_  _number_ _comma_  _number_ _comma_  _string_ _number_ _string_  _bracket_close_  _crotchets_close_  _new_line_ \n",
            "****\n",
            "----\n",
            "****\n",
            "----\n",
            "****\n",
            "----\n",
            "****\n",
            "----\n",
            "****\n",
            "----\n",
            "****\n",
            "----\n",
            "_var_\n",
            "**_var_**\n",
            "--_var_--\n",
            "**result**\n",
            "--_ID_--\n",
            "****\n",
            "----\n",
            "**_equal_**\n",
            "--_equal_--\n",
            "****\n",
            "----\n",
            "**testObj**\n",
            "--_ID_--\n",
            "**_number_**\n",
            "--_number_--\n",
            "****\n",
            "----\n",
            "**_OR_**\n",
            "--_OR_--\n",
            "****\n",
            "----\n",
            "**testObj**\n",
            "--_ID_--\n",
            "**_number_**\n",
            "--_number_--\n",
            "****\n",
            "----\n",
            "**_semicolon_**\n",
            "--_semicolon_--\n",
            "****\n",
            "----\n",
            "**_new_line_**\n",
            "--_new_line_--\n",
            "****\n",
            "----\n",
            "**_new_line_**\n",
            "--_new_line_--\n",
            "****\n",
            "----\n",
            "****\n",
            "----\n",
            "****\n",
            "----\n",
            "****\n",
            "----\n",
            "****\n",
            "----\n",
            "****\n",
            "----\n",
            "****\n",
            "----\n",
            "****\n",
            "----\n",
            "**_division_**\n",
            "--_division_--\n",
            "****\n",
            "----\n",
            "**_division_**\n",
            "--_division_--\n",
            "****\n",
            "----\n",
            "**Assert**\n",
            "--_ID_--\n",
            "**_new_line_**\n",
            "--_new_line_--\n",
            "****\n",
            "----\n",
            "**_new_line_**\n",
            "--_new_line_--\n",
            "****\n",
            "----\n",
            "****\n",
            "----\n",
            "****\n",
            "----\n",
            "****\n",
            "----\n",
            "****\n",
            "----\n",
            "****\n",
            "----\n",
            "****\n",
            "----\n",
            "**Assert**\n",
            "--_ID_--\n",
            "**_point_**\n",
            "--_point_--\n",
            "**AreEqual**\n",
            "--_ID_--\n",
            "**_bracket_open_**\n",
            "--_bracket_open_--\n",
            "**expected**\n",
            "--_ID_--\n",
            "**_comma_**\n",
            "--_comma_--\n",
            "**result**\n",
            "--_ID_--\n",
            "**_point_**\n",
            "--_point_--\n",
            "**ToString**\n",
            "--_ID_--\n",
            "**_bracket_open_**\n",
            "--_bracket_open_--\n",
            "****\n",
            "----\n",
            "**_bracket_close_**\n",
            "--_bracket_close_--\n",
            "****\n",
            "----\n",
            "**_bracket_close_**\n",
            "--_bracket_close_--\n",
            "****\n",
            "----\n",
            "**_semicolon_**\n",
            "--_semicolon_--\n",
            "****\n",
            "----\n",
            "**_new_line_**\n",
            "--_new_line_--\n",
            "****\n",
            "----\n",
            "**_new_line_**\n",
            "--_new_line_--\n",
            "****\n",
            "----\n",
            "****\n",
            "----\n",
            "****\n",
            "----\n",
            "****\n",
            "----\n",
            "****\n",
            "----\n",
            "****\n",
            "----\n",
            "**_brace_close_**\n",
            "--_brace_close_--\n",
            "****\n",
            "----\n",
            "**_new_line_**\n",
            "--_new_line_--\n",
            "****\n",
            "----\n",
            "**_new_line_**\n",
            "--_new_line_--\n",
            "****\n",
            "----\n",
            "****\n",
            "----\n",
            "****\n",
            "----\n",
            "****\n",
            "----\n",
            "****\n",
            "----\n",
            "****\n",
            "----\n",
            "**_crotchets_open_**\n",
            "--_crotchets_open_--\n",
            "**TestCase**\n",
            "--_ID_--\n",
            "**_bracket_open_**\n",
            "--_bracket_open_--\n",
            "****\n",
            "----\n",
            "**_number_**\n",
            "--_number_--\n",
            "**_comma_**\n",
            "--_comma_--\n",
            "****\n",
            "----\n",
            "**_number_**\n",
            "--_number_--\n",
            "**_comma_**\n",
            "--_comma_--\n",
            "****\n",
            "----\n",
            "**_number_**\n",
            "--_number_--\n",
            "**_comma_**\n",
            "--_comma_--\n",
            "****\n",
            "----\n",
            "**_number_**\n",
            "--_number_--\n",
            "**_comma_**\n",
            "--_comma_--\n",
            "****\n",
            "----\n",
            "**_string_**\n",
            "--_string_--\n",
            "**_number_**\n",
            "--_number_--\n",
            "**_string_**\n",
            "--_string_--\n",
            "****\n",
            "----\n",
            "**_bracket_close_**\n",
            "--_bracket_close_--\n",
            "****\n",
            "----\n",
            "**_crotchets_close_**\n",
            "--_crotchets_close_--\n",
            "****\n",
            "----\n",
            "**_new_line_**\n",
            "--_new_line_--\n",
            "****\n",
            "----\n",
            "**_new_line_**\n",
            "--_new_line_--\n",
            "****\n",
            "----\n",
            "****\n",
            "----\n",
            "****\n",
            "----\n",
            "****\n",
            "----\n",
            "****\n",
            "----\n",
            "****\n",
            "----\n",
            "**_crotchets_open_**\n",
            "--_crotchets_open_--\n",
            "**TestCase**\n",
            "--_ID_--\n",
            "**_bracket_open_**\n",
            "--_bracket_open_--\n",
            "****\n",
            "----\n",
            "**_number_**\n",
            "--_number_--\n",
            "**_comma_**\n",
            "--_comma_--\n",
            "****\n",
            "----\n",
            "**_number_**\n",
            "--_number_--\n",
            "**_comma_**\n",
            "--_comma_--\n",
            "****\n",
            "----\n",
            "**_number_**\n",
            "--_number_--\n",
            "**_comma_**\n",
            "--_comma_--\n",
            "****\n",
            "----\n",
            "**_number_**\n",
            "--_number_--\n",
            "**_comma_**\n",
            "--_comma_--\n",
            "****\n",
            "----\n",
            "**_string_**\n",
            "--_string_--\n",
            "**_number_**\n",
            "--_number_--\n",
            "**_string_**\n",
            "--_string_--\n",
            "****\n",
            "----\n",
            "**_bracket_close_**\n",
            "--_bracket_close_--\n",
            "****\n",
            "----\n",
            "**_crotchets_close_**\n",
            "--_crotchets_close_--\n",
            "****\n",
            "----\n",
            "**_new_line_**\n",
            "--_new_line_--\n",
            "****\n",
            "----\n",
            "  conv:       _var_ _ID_  _equal_  _ID_ _number_  _OR_  _ID_ _number_  _semicolon_  _new_line_  _new_line_         _division_  _division_  _ID_ _new_line_  _new_line_        _ID_ _point_ _ID_ _bracket_open_ _ID_ _comma_ _ID_ _point_ _ID_ _bracket_open_  _bracket_close_  _bracket_close_  _semicolon_  _new_line_  _new_line_       _brace_close_  _new_line_  _new_line_       _crotchets_open_ _ID_ _bracket_open_  _number_ _comma_  _number_ _comma_  _number_ _comma_  _number_ _comma_  _string_ _number_ _string_  _bracket_close_  _crotchets_close_  _new_line_  _new_line_       _crotchets_open_ _ID_ _bracket_open_  _number_ _comma_  _number_ _comma_  _number_ _comma_  _number_ _comma_  _string_ _number_ _string_  _bracket_close_  _crotchets_close_  _new_line_  \n"
          ]
        },
        {
          "output_type": "execute_result",
          "data": {
            "application/vnd.google.colaboratory.intrinsic+json": {
              "type": "string"
            },
            "text/plain": [
              "'      _var_ _ID_  _equal_  _ID_ _number_  _OR_  _ID_ _number_  _semicolon_  _new_line_  _new_line_         _division_  _division_  _ID_ _new_line_  _new_line_        _ID_ _point_ _ID_ _bracket_open_ _ID_ _comma_ _ID_ _point_ _ID_ _bracket_open_  _bracket_close_  _bracket_close_  _semicolon_  _new_line_  _new_line_       _brace_close_  _new_line_  _new_line_       _crotchets_open_ _ID_ _bracket_open_  _number_ _comma_  _number_ _comma_  _number_ _comma_  _number_ _comma_  _string_ _number_ _string_  _bracket_close_  _crotchets_close_  _new_line_  _new_line_       _crotchets_open_ _ID_ _bracket_open_  _number_ _comma_  _number_ _comma_  _number_ _comma_  _number_ _comma_  _string_ _number_ _string_  _bracket_close_  _crotchets_close_  _new_line_  '"
            ]
          },
          "metadata": {},
          "execution_count": 56
        }
      ]
    },
    {
      "cell_type": "markdown",
      "metadata": {
        "id": "KzMOTKbN2G3R"
      },
      "source": [
        "##Mentés"
      ]
    },
    {
      "cell_type": "code",
      "source": [
        "t_train=[]\n",
        "for i in range(len(train)):   #len(alltext)\n",
        "    #print(f\"{i}\", end=\" \")\n",
        "    t_train.append(query_sentence(train,i))"
      ],
      "metadata": {
        "id": "oG-lrw20Mxv6"
      },
      "execution_count": null,
      "outputs": []
    },
    {
      "cell_type": "code",
      "source": [
        "t_test=[]\n",
        "for i in range(len(test)):   #len(alltext)\n",
        "    #print(f\"{i}\", end=\" \")\n",
        "    t_test.append(query_sentence(test,i))"
      ],
      "metadata": {
        "id": "Evqw82-wOI9S"
      },
      "execution_count": null,
      "outputs": []
    },
    {
      "cell_type": "code",
      "execution_count": null,
      "metadata": {
        "id": "N9ZUtwPWj2wv"
      },
      "outputs": [],
      "source": [
        "t=t_train+t_test\n"
      ]
    },
    {
      "cell_type": "code",
      "source": [
        ""
      ],
      "metadata": {
        "id": "1nVJioCXMxHG"
      },
      "execution_count": null,
      "outputs": []
    },
    {
      "cell_type": "code",
      "source": [
        "t_test"
      ],
      "metadata": {
        "id": "Zjwf-ZsDMphv"
      },
      "execution_count": null,
      "outputs": []
    },
    {
      "cell_type": "code",
      "execution_count": null,
      "metadata": {
        "colab": {
          "base_uri": "https://localhost:8080/"
        },
        "id": "ivPXsq3JoP0m",
        "outputId": "fc248f73-7e0f-4f7f-be48-dea924cd3290"
      },
      "outputs": [
        {
          "output_type": "stream",
          "name": "stdout",
          "text": [
            "284\n"
          ]
        }
      ],
      "source": [
        "s=set()\n",
        "for sent in t:\n",
        "    wlist=sent.strip().split()\n",
        "    for w in wlist:\n",
        "        s.add(w)\n",
        "print (len(s))\n",
        "ordered=list(s)\n",
        "ordered.sort()"
      ]
    },
    {
      "cell_type": "code",
      "execution_count": null,
      "metadata": {
        "id": "h-o1yO5_VeZq"
      },
      "outputs": [],
      "source": [
        "ordered2=set()\n",
        "for i in ordered:\n",
        "    if not (is_number(i)):\n",
        "        ordered2.add(i)\n",
        "    \n"
      ]
    },
    {
      "cell_type": "code",
      "execution_count": null,
      "metadata": {
        "id": "zsQOK5Mua4Ob"
      },
      "outputs": [],
      "source": [
        "ordered2"
      ]
    },
    {
      "cell_type": "code",
      "execution_count": null,
      "metadata": {
        "id": "EseYDR2MYJXL"
      },
      "outputs": [],
      "source": [
        "word_list=list(ordered2)"
      ]
    },
    {
      "cell_type": "code",
      "execution_count": null,
      "metadata": {
        "id": "i-lkunj7VuOL"
      },
      "outputs": [],
      "source": [
        "word_list.sort()"
      ]
    },
    {
      "cell_type": "code",
      "execution_count": null,
      "metadata": {
        "id": "AoxaxEZmbeWP"
      },
      "outputs": [],
      "source": [
        ""
      ]
    },
    {
      "cell_type": "code",
      "execution_count": null,
      "metadata": {
        "colab": {
          "base_uri": "https://localhost:8080/"
        },
        "id": "Yi9MDCpq6bJv",
        "outputId": "7b56bf95-780a-438d-997c-af00c6d9a733"
      },
      "outputs": [
        {
          "output_type": "stream",
          "name": "stdout",
          "text": [
            "['_AND_', '_Array_', '_BEGIN_', '_Class_', '_Date_', '_END_', '_Enum_', '_FALSE_', '_False_', '_Func_', '_ID_', '_Inf_', '_Infinity_', '_Init_', '_Let_', '_Math_', '_NA_', '_NULL_', '_NaN_', '_None_', '_Number_', '_OR_', '_Object_', '_Protocol_', '_String_', '_TRUE_', '_True_', '_abstract_', '_alias_', '_and_', '_apostrofe_', '_arguments_', '_array_', '_as_', '_asm_', '_assert_', '_async_', '_at_sign_', '_atomic_', '_auto_', '_base_', '_begin_', '_block_', '_bool_', '_boolean_', '_brace_close_', '_brace_open_', '_bracket_close_', '_bracket_open_', '_break_', '_byte_', '_call_', '_callable_', '_case_', '_catch_', '_chan_', '_char_', '_checked_', '_class_', '_clone_', '_colon_', '_comma_', '_comparison_', '_compl_', '_component_', '_concept_', '_const_', '_constexpr_', '_constraint_', '_constructor_', '_continue_', '_convenience_', '_crotchets_close_', '_crotchets_open_', '_decimal_', '_declare_', '_decltype_', '_def_', '_default_', '_defer_', '_del_', '_delete_', '_die_', '_division_', '_do_', '_dollar_', '_double_', '_dynamic_', '_echo_', '_elif_', '_else_', '_elseif_', '_elsif_', '_empty_', '_end_', '_endif_', '_ensure_', '_enum_', '_equal_', '_eval_', '_event_', '_except_', '_exclamation_', '_exit_', '_explicit_', '_export_', '_extends_', '_extension_', '_extern_', '_false_', '_final_', '_finally_', '_fixed_', '_float_', '_fn_', '_for_', '_foreach_', '_friend_', '_from_', '_func_', '_function_', '_functor_', '_get_', '_global_', '_go_', '_goto_', '_hasOwnProperty_', '_hashmark_', '_identical_', '_if_', '_implement_', '_implements_', '_implicit_', '_import_', '_in_', '_include_', '_infix_', '_inline_', '_instanceof_', '_int_', '_interface_', '_internal_', '_isFinite_', '_isNaN_', '_is_', '_isset_', '_kw_', '_lambda_', '_larger_sign_', '_lazy_', '_left_', '_length_', '_let_', '_line_', '_list_', '_local_', '_lock_', '_long_', '_macro_', '_map_', '_match_', '_method_', '_minus_', '_module_', '_mutable_', '_mutating_', '_name_', '_namespace_', '_native_', '_new_', '_new_line_', '_next_', '_nil_', '_noexcept_', '_none_', '_nonlocal_', '_not_', '_null_', '_nullptr_', '_number_', '_object_', '_operator_', '_optional_', '_or_', '_out_', '_override_', '_package_', '_parallel_', '_parameters_', '_params_', '_pass_', '_percentage_', '_plus_', '_point_', '_postfix_', '_powerup_', '_precedence_', '_prefix_', '_primitive_', '_print_', '_private_', '_process_', '_protected_', '_protocol_', '_prototype_', '_public_', '_pure_', '_questionmark_', '_raise_', '_range_', '_readonly_', '_ref_', '_register_', '_repeat_', '_require_', '_required_', '_requires_', '_rescue_', '_return_', '_right_', '_row_', '_sealed_', '_select_', '_self_', '_semicolon_', '_set_', '_short_', '_signed_', '_sizeof_', '_smaller_sign_', '_star_', '_static_', '_string_', '_struct_', '_subscript_', '_super_', '_switch_', '_switch_char_', '_synchronized_', '_tab_', '_template_', '_then_', '_this_', '_throw_', '_throws_', '_toString_', '_true_', '_try_', '_tuple_', '_type_', '_typealias_', '_typedef_', '_typeid_', '_typename_', '_typeof_', '_uint_', '_ulong_', '_undef_', '_undefined_', '_underline_', '_union_', '_unless_', '_unsafe_', '_unset_', '_unsigned_', '_until_', '_use_', '_ushort_', '_using_', '_val_', '_valueOf_', '_var_', '_vect_', '_virtual_', '_void_', '_volatile_', '_weak_', '_when_', '_where_', '_while_', '_wiggle_', '_with_', '_xor_', '_yield_']\n"
          ]
        }
      ],
      "source": [
        "print(word_list)"
      ]
    },
    {
      "cell_type": "code",
      "execution_count": null,
      "metadata": {
        "id": "IIoSRwse2GOY"
      },
      "outputs": [],
      "source": [
        "word_dict={v:i+1 for i,v in enumerate(word_list)}"
      ]
    },
    {
      "cell_type": "code",
      "source": [
        "len(word_dict)"
      ],
      "metadata": {
        "colab": {
          "base_uri": "https://localhost:8080/"
        },
        "id": "rphnkvcJgfD2",
        "outputId": "bfec863a-415d-4f28-e49a-3997cf645623"
      },
      "execution_count": null,
      "outputs": [
        {
          "output_type": "execute_result",
          "data": {
            "text/plain": [
              "284"
            ]
          },
          "metadata": {},
          "execution_count": 68
        }
      ]
    },
    {
      "cell_type": "code",
      "source": [
        "df_train[\"Word_list\"]=t_train\n",
        "df_test[\"Word_list\"]=t_test\n"
      ],
      "metadata": {
        "id": "LDx7viC5QMrc"
      },
      "execution_count": null,
      "outputs": []
    },
    {
      "cell_type": "code",
      "execution_count": null,
      "metadata": {
        "colab": {
          "base_uri": "https://localhost:8080/",
          "height": 206
        },
        "id": "9Hx93h2XrzfL",
        "outputId": "76ac6b0a-601d-4311-c9f8-77b8300be0dc"
      },
      "outputs": [
        {
          "output_type": "execute_result",
          "data": {
            "text/html": [
              "\n",
              "  <div id=\"df-177d0662-98f7-4545-a398-4f3986fa3b41\">\n",
              "    <div class=\"colab-df-container\">\n",
              "      <div>\n",
              "<style scoped>\n",
              "    .dataframe tbody tr th:only-of-type {\n",
              "        vertical-align: middle;\n",
              "    }\n",
              "\n",
              "    .dataframe tbody tr th {\n",
              "        vertical-align: top;\n",
              "    }\n",
              "\n",
              "    .dataframe thead th {\n",
              "        text-align: right;\n",
              "    }\n",
              "</style>\n",
              "<table border=\"1\" class=\"dataframe\">\n",
              "  <thead>\n",
              "    <tr style=\"text-align: right;\">\n",
              "      <th></th>\n",
              "      <th>id</th>\n",
              "      <th>code</th>\n",
              "      <th>language</th>\n",
              "      <th>Word_list</th>\n",
              "    </tr>\n",
              "  </thead>\n",
              "  <tbody>\n",
              "    <tr>\n",
              "      <th>0</th>\n",
              "      <td>14026</td>\n",
              "      <td>var result = testObj1 | testObj2;\\...</td>\n",
              "      <td>c-sharp</td>\n",
              "      <td>_var_ _ID_  _equal_  _ID_ _number_  _OR_...</td>\n",
              "    </tr>\n",
              "    <tr>\n",
              "      <th>1</th>\n",
              "      <td>12201</td>\n",
              "      <td>///     Initializes a new instance of ...</td>\n",
              "      <td>c-sharp</td>\n",
              "      <td>_division_  _division_  _division_    _ID...</td>\n",
              "    </tr>\n",
              "    <tr>\n",
              "      <th>2</th>\n",
              "      <td>17074</td>\n",
              "      <td>/*\\n\\n     Explanation :- a user gives a Strin...</td>\n",
              "      <td>javascript</td>\n",
              "      <td>_division_  _star_  _new_line_  _new_line_   ...</td>\n",
              "    </tr>\n",
              "    <tr>\n",
              "      <th>3</th>\n",
              "      <td>21102</td>\n",
              "      <td>int sum = 0;\\n\\n         for (int i = ...</td>\n",
              "      <td>c-plus-plus</td>\n",
              "      <td>_int_ _ID_  _equal_  _number_  _semicolon_...</td>\n",
              "    </tr>\n",
              "    <tr>\n",
              "      <th>4</th>\n",
              "      <td>53065</td>\n",
              "      <td>if (p-&gt;data &lt; min)\\n\\n         {\\n\\n  ...</td>\n",
              "      <td>c</td>\n",
              "      <td>_if_  _bracket_open_ _ID_ _minus_  _larger...</td>\n",
              "    </tr>\n",
              "  </tbody>\n",
              "</table>\n",
              "</div>\n",
              "      <button class=\"colab-df-convert\" onclick=\"convertToInteractive('df-177d0662-98f7-4545-a398-4f3986fa3b41')\"\n",
              "              title=\"Convert this dataframe to an interactive table.\"\n",
              "              style=\"display:none;\">\n",
              "        \n",
              "  <svg xmlns=\"http://www.w3.org/2000/svg\" height=\"24px\"viewBox=\"0 0 24 24\"\n",
              "       width=\"24px\">\n",
              "    <path d=\"M0 0h24v24H0V0z\" fill=\"none\"/>\n",
              "    <path d=\"M18.56 5.44l.94 2.06.94-2.06 2.06-.94-2.06-.94-.94-2.06-.94 2.06-2.06.94zm-11 1L8.5 8.5l.94-2.06 2.06-.94-2.06-.94L8.5 2.5l-.94 2.06-2.06.94zm10 10l.94 2.06.94-2.06 2.06-.94-2.06-.94-.94-2.06-.94 2.06-2.06.94z\"/><path d=\"M17.41 7.96l-1.37-1.37c-.4-.4-.92-.59-1.43-.59-.52 0-1.04.2-1.43.59L10.3 9.45l-7.72 7.72c-.78.78-.78 2.05 0 2.83L4 21.41c.39.39.9.59 1.41.59.51 0 1.02-.2 1.41-.59l7.78-7.78 2.81-2.81c.8-.78.8-2.07 0-2.86zM5.41 20L4 18.59l7.72-7.72 1.47 1.35L5.41 20z\"/>\n",
              "  </svg>\n",
              "      </button>\n",
              "      \n",
              "  <style>\n",
              "    .colab-df-container {\n",
              "      display:flex;\n",
              "      flex-wrap:wrap;\n",
              "      gap: 12px;\n",
              "    }\n",
              "\n",
              "    .colab-df-convert {\n",
              "      background-color: #E8F0FE;\n",
              "      border: none;\n",
              "      border-radius: 50%;\n",
              "      cursor: pointer;\n",
              "      display: none;\n",
              "      fill: #1967D2;\n",
              "      height: 32px;\n",
              "      padding: 0 0 0 0;\n",
              "      width: 32px;\n",
              "    }\n",
              "\n",
              "    .colab-df-convert:hover {\n",
              "      background-color: #E2EBFA;\n",
              "      box-shadow: 0px 1px 2px rgba(60, 64, 67, 0.3), 0px 1px 3px 1px rgba(60, 64, 67, 0.15);\n",
              "      fill: #174EA6;\n",
              "    }\n",
              "\n",
              "    [theme=dark] .colab-df-convert {\n",
              "      background-color: #3B4455;\n",
              "      fill: #D2E3FC;\n",
              "    }\n",
              "\n",
              "    [theme=dark] .colab-df-convert:hover {\n",
              "      background-color: #434B5C;\n",
              "      box-shadow: 0px 1px 3px 1px rgba(0, 0, 0, 0.15);\n",
              "      filter: drop-shadow(0px 1px 2px rgba(0, 0, 0, 0.3));\n",
              "      fill: #FFFFFF;\n",
              "    }\n",
              "  </style>\n",
              "\n",
              "      <script>\n",
              "        const buttonEl =\n",
              "          document.querySelector('#df-177d0662-98f7-4545-a398-4f3986fa3b41 button.colab-df-convert');\n",
              "        buttonEl.style.display =\n",
              "          google.colab.kernel.accessAllowed ? 'block' : 'none';\n",
              "\n",
              "        async function convertToInteractive(key) {\n",
              "          const element = document.querySelector('#df-177d0662-98f7-4545-a398-4f3986fa3b41');\n",
              "          const dataTable =\n",
              "            await google.colab.kernel.invokeFunction('convertToInteractive',\n",
              "                                                     [key], {});\n",
              "          if (!dataTable) return;\n",
              "\n",
              "          const docLinkHtml = 'Like what you see? Visit the ' +\n",
              "            '<a target=\"_blank\" href=https://colab.research.google.com/notebooks/data_table.ipynb>data table notebook</a>'\n",
              "            + ' to learn more about interactive tables.';\n",
              "          element.innerHTML = '';\n",
              "          dataTable['output_type'] = 'display_data';\n",
              "          await google.colab.output.renderOutput(dataTable, element);\n",
              "          const docLink = document.createElement('div');\n",
              "          docLink.innerHTML = docLinkHtml;\n",
              "          element.appendChild(docLink);\n",
              "        }\n",
              "      </script>\n",
              "    </div>\n",
              "  </div>\n",
              "  "
            ],
            "text/plain": [
              "      id  ...                                          Word_list\n",
              "0  14026  ...        _var_ _ID_  _equal_  _ID_ _number_  _OR_...\n",
              "1  12201  ...       _division_  _division_  _division_    _ID...\n",
              "2  17074  ...   _division_  _star_  _new_line_  _new_line_   ...\n",
              "3  21102  ...      _int_ _ID_  _equal_  _number_  _semicolon_...\n",
              "4  53065  ...      _if_  _bracket_open_ _ID_ _minus_  _larger...\n",
              "\n",
              "[5 rows x 4 columns]"
            ]
          },
          "metadata": {},
          "execution_count": 70
        }
      ],
      "source": [
        "df_train.head()"
      ]
    },
    {
      "cell_type": "code",
      "execution_count": null,
      "metadata": {
        "id": "vLY9Hzahiz_o"
      },
      "outputs": [],
      "source": [
        "def words_to_number(df2,word_dict,col=\"Review\"):\n",
        "    all_sent=[]\n",
        "    for sentence in df2[col]:\n",
        "        sent_list=sentence.strip().split()\n",
        "        out=[]\n",
        "        for word in sent_list:\n",
        "            #print(word)\n",
        "            if word in word_dict:\n",
        "                out.append(word_dict[word]) \n",
        "        all_sent.append(out)\n",
        "    return(all_sent)"
      ]
    },
    {
      "cell_type": "code",
      "execution_count": null,
      "metadata": {
        "id": "QlqGS0RTua2Y"
      },
      "outputs": [],
      "source": [
        "df_test_sent=words_to_number(df_test,word_dict,col=\"Word_list\")\n",
        "df_test[\"Words_in_Numbers\"]=df_test_sent\n",
        "\n",
        "df_train_sent=words_to_number(df_train,word_dict,col=\"Word_list\")\n",
        "df_train[\"Words_in_Numbers\"]=df_train_sent\n",
        "\n"
      ]
    },
    {
      "cell_type": "code",
      "execution_count": null,
      "metadata": {
        "id": "aFiCC208ZgxJ"
      },
      "outputs": [],
      "source": [
        "df_test.to_csv(\"test_id.csv\")"
      ]
    },
    {
      "cell_type": "code",
      "execution_count": null,
      "metadata": {
        "id": "iS3-t17yZy6Q"
      },
      "outputs": [],
      "source": [
        "df_train.to_csv(\"train_id.csv\")"
      ]
    },
    {
      "cell_type": "code",
      "execution_count": null,
      "metadata": {
        "colab": {
          "base_uri": "https://localhost:8080/",
          "height": 206
        },
        "id": "qBfIDKGjuyQc",
        "outputId": "85c09c8e-4364-4235-b8ba-03cca218076a"
      },
      "outputs": [
        {
          "output_type": "execute_result",
          "data": {
            "text/html": [
              "\n",
              "  <div id=\"df-fd3aff2b-24c4-45f4-bee7-b7840b8801ac\">\n",
              "    <div class=\"colab-df-container\">\n",
              "      <div>\n",
              "<style scoped>\n",
              "    .dataframe tbody tr th:only-of-type {\n",
              "        vertical-align: middle;\n",
              "    }\n",
              "\n",
              "    .dataframe tbody tr th {\n",
              "        vertical-align: top;\n",
              "    }\n",
              "\n",
              "    .dataframe thead th {\n",
              "        text-align: right;\n",
              "    }\n",
              "</style>\n",
              "<table border=\"1\" class=\"dataframe\">\n",
              "  <thead>\n",
              "    <tr style=\"text-align: right;\">\n",
              "      <th></th>\n",
              "      <th>id</th>\n",
              "      <th>code</th>\n",
              "      <th>language</th>\n",
              "      <th>Word_list</th>\n",
              "      <th>Words_in_Numbers</th>\n",
              "    </tr>\n",
              "  </thead>\n",
              "  <tbody>\n",
              "    <tr>\n",
              "      <th>0</th>\n",
              "      <td>14026</td>\n",
              "      <td>var result = testObj1 | testObj2;\\...</td>\n",
              "      <td>c-sharp</td>\n",
              "      <td>_var_ _ID_  _equal_  _ID_ _number_  _OR_...</td>\n",
              "      <td>[272, 11, 99, 11, 180, 22, 11, 180, 225, 171, ...</td>\n",
              "    </tr>\n",
              "    <tr>\n",
              "      <th>1</th>\n",
              "      <td>12201</td>\n",
              "      <td>///     Initializes a new instance of ...</td>\n",
              "      <td>c-sharp</td>\n",
              "      <td>_division_  _division_  _division_    _ID...</td>\n",
              "      <td>[84, 84, 84, 11, 11, 170, 11, 11, 11, 230, 11,...</td>\n",
              "    </tr>\n",
              "    <tr>\n",
              "      <th>2</th>\n",
              "      <td>17074</td>\n",
              "      <td>/*\\n\\n     Explanation :- a user gives a Strin...</td>\n",
              "      <td>javascript</td>\n",
              "      <td>_division_  _star_  _new_line_  _new_line_   ...</td>\n",
              "      <td>[84, 231, 171, 171, 11, 61, 163, 11, 11, 11, 1...</td>\n",
              "    </tr>\n",
              "    <tr>\n",
              "      <th>3</th>\n",
              "      <td>21102</td>\n",
              "      <td>int sum = 0;\\n\\n         for (int i = ...</td>\n",
              "      <td>c-plus-plus</td>\n",
              "      <td>_int_ _ID_  _equal_  _number_  _semicolon_...</td>\n",
              "      <td>[140, 11, 99, 180, 225, 171, 171, 116, 49, 140...</td>\n",
              "    </tr>\n",
              "    <tr>\n",
              "      <th>4</th>\n",
              "      <td>53065</td>\n",
              "      <td>if (p-&gt;data &lt; min)\\n\\n         {\\n\\n  ...</td>\n",
              "      <td>c</td>\n",
              "      <td>_if_  _bracket_open_ _ID_ _minus_  _larger...</td>\n",
              "      <td>[130, 49, 11, 163, 149, 11, 230, 11, 48, 171, ...</td>\n",
              "    </tr>\n",
              "  </tbody>\n",
              "</table>\n",
              "</div>\n",
              "      <button class=\"colab-df-convert\" onclick=\"convertToInteractive('df-fd3aff2b-24c4-45f4-bee7-b7840b8801ac')\"\n",
              "              title=\"Convert this dataframe to an interactive table.\"\n",
              "              style=\"display:none;\">\n",
              "        \n",
              "  <svg xmlns=\"http://www.w3.org/2000/svg\" height=\"24px\"viewBox=\"0 0 24 24\"\n",
              "       width=\"24px\">\n",
              "    <path d=\"M0 0h24v24H0V0z\" fill=\"none\"/>\n",
              "    <path d=\"M18.56 5.44l.94 2.06.94-2.06 2.06-.94-2.06-.94-.94-2.06-.94 2.06-2.06.94zm-11 1L8.5 8.5l.94-2.06 2.06-.94-2.06-.94L8.5 2.5l-.94 2.06-2.06.94zm10 10l.94 2.06.94-2.06 2.06-.94-2.06-.94-.94-2.06-.94 2.06-2.06.94z\"/><path d=\"M17.41 7.96l-1.37-1.37c-.4-.4-.92-.59-1.43-.59-.52 0-1.04.2-1.43.59L10.3 9.45l-7.72 7.72c-.78.78-.78 2.05 0 2.83L4 21.41c.39.39.9.59 1.41.59.51 0 1.02-.2 1.41-.59l7.78-7.78 2.81-2.81c.8-.78.8-2.07 0-2.86zM5.41 20L4 18.59l7.72-7.72 1.47 1.35L5.41 20z\"/>\n",
              "  </svg>\n",
              "      </button>\n",
              "      \n",
              "  <style>\n",
              "    .colab-df-container {\n",
              "      display:flex;\n",
              "      flex-wrap:wrap;\n",
              "      gap: 12px;\n",
              "    }\n",
              "\n",
              "    .colab-df-convert {\n",
              "      background-color: #E8F0FE;\n",
              "      border: none;\n",
              "      border-radius: 50%;\n",
              "      cursor: pointer;\n",
              "      display: none;\n",
              "      fill: #1967D2;\n",
              "      height: 32px;\n",
              "      padding: 0 0 0 0;\n",
              "      width: 32px;\n",
              "    }\n",
              "\n",
              "    .colab-df-convert:hover {\n",
              "      background-color: #E2EBFA;\n",
              "      box-shadow: 0px 1px 2px rgba(60, 64, 67, 0.3), 0px 1px 3px 1px rgba(60, 64, 67, 0.15);\n",
              "      fill: #174EA6;\n",
              "    }\n",
              "\n",
              "    [theme=dark] .colab-df-convert {\n",
              "      background-color: #3B4455;\n",
              "      fill: #D2E3FC;\n",
              "    }\n",
              "\n",
              "    [theme=dark] .colab-df-convert:hover {\n",
              "      background-color: #434B5C;\n",
              "      box-shadow: 0px 1px 3px 1px rgba(0, 0, 0, 0.15);\n",
              "      filter: drop-shadow(0px 1px 2px rgba(0, 0, 0, 0.3));\n",
              "      fill: #FFFFFF;\n",
              "    }\n",
              "  </style>\n",
              "\n",
              "      <script>\n",
              "        const buttonEl =\n",
              "          document.querySelector('#df-fd3aff2b-24c4-45f4-bee7-b7840b8801ac button.colab-df-convert');\n",
              "        buttonEl.style.display =\n",
              "          google.colab.kernel.accessAllowed ? 'block' : 'none';\n",
              "\n",
              "        async function convertToInteractive(key) {\n",
              "          const element = document.querySelector('#df-fd3aff2b-24c4-45f4-bee7-b7840b8801ac');\n",
              "          const dataTable =\n",
              "            await google.colab.kernel.invokeFunction('convertToInteractive',\n",
              "                                                     [key], {});\n",
              "          if (!dataTable) return;\n",
              "\n",
              "          const docLinkHtml = 'Like what you see? Visit the ' +\n",
              "            '<a target=\"_blank\" href=https://colab.research.google.com/notebooks/data_table.ipynb>data table notebook</a>'\n",
              "            + ' to learn more about interactive tables.';\n",
              "          element.innerHTML = '';\n",
              "          dataTable['output_type'] = 'display_data';\n",
              "          await google.colab.output.renderOutput(dataTable, element);\n",
              "          const docLink = document.createElement('div');\n",
              "          docLink.innerHTML = docLinkHtml;\n",
              "          element.appendChild(docLink);\n",
              "        }\n",
              "      </script>\n",
              "    </div>\n",
              "  </div>\n",
              "  "
            ],
            "text/plain": [
              "      id  ...                                   Words_in_Numbers\n",
              "0  14026  ...  [272, 11, 99, 11, 180, 22, 11, 180, 225, 171, ...\n",
              "1  12201  ...  [84, 84, 84, 11, 11, 170, 11, 11, 11, 230, 11,...\n",
              "2  17074  ...  [84, 231, 171, 171, 11, 61, 163, 11, 11, 11, 1...\n",
              "3  21102  ...  [140, 11, 99, 180, 225, 171, 171, 116, 49, 140...\n",
              "4  53065  ...  [130, 49, 11, 163, 149, 11, 230, 11, 48, 171, ...\n",
              "\n",
              "[5 rows x 5 columns]"
            ]
          },
          "metadata": {},
          "execution_count": 75
        }
      ],
      "source": [
        "df_train.head()"
      ]
    },
    {
      "cell_type": "markdown",
      "metadata": {
        "id": "0RCD1OKy7kJr"
      },
      "source": [
        "###---------------------------------\n"
      ]
    },
    {
      "cell_type": "markdown",
      "metadata": {
        "id": "YdZa4d2H7nO8"
      },
      "source": [
        "###Adatbetöltés SZAVAK BETÖLTÉSE"
      ]
    },
    {
      "cell_type": "markdown",
      "metadata": {
        "id": "zqnFYKaeCkda"
      },
      "source": [
        "### adatbetöltés mondatok betöltése"
      ]
    },
    {
      "cell_type": "code",
      "execution_count": 1,
      "metadata": {
        "id": "t8zcn0gafG-W"
      },
      "outputs": [],
      "source": [
        "import pandas as pd"
      ]
    },
    {
      "cell_type": "code",
      "execution_count": 2,
      "metadata": {
        "colab": {
          "base_uri": "https://localhost:8080/"
        },
        "id": "fsQObqfegZ7M",
        "outputId": "fe4ea736-7ad7-4da0-c4bd-ead06fefc142"
      },
      "outputs": [
        {
          "output_type": "stream",
          "name": "stdout",
          "text": [
            "--2021-12-31 10:29:04--  https://github.com/sipocz/Programming_language_classification/raw/7cf3cc4e8397c150b45e2a5abb7b0e9b1e3d8ab7/orig/train_id.zip\n",
            "Resolving github.com (github.com)... 140.82.113.3\n",
            "Connecting to github.com (github.com)|140.82.113.3|:443... connected.\n",
            "HTTP request sent, awaiting response... 302 Found\n",
            "Location: https://raw.githubusercontent.com/sipocz/Programming_language_classification/7cf3cc4e8397c150b45e2a5abb7b0e9b1e3d8ab7/orig/train_id.zip [following]\n",
            "--2021-12-31 10:29:04--  https://raw.githubusercontent.com/sipocz/Programming_language_classification/7cf3cc4e8397c150b45e2a5abb7b0e9b1e3d8ab7/orig/train_id.zip\n",
            "Resolving raw.githubusercontent.com (raw.githubusercontent.com)... 185.199.108.133, 185.199.109.133, 185.199.110.133, ...\n",
            "Connecting to raw.githubusercontent.com (raw.githubusercontent.com)|185.199.108.133|:443... connected.\n",
            "HTTP request sent, awaiting response... 200 OK\n",
            "Length: 7378136 (7.0M) [application/zip]\n",
            "Saving to: ‘train_id.zip’\n",
            "\n",
            "train_id.zip        100%[===================>]   7.04M  --.-KB/s    in 0.08s   \n",
            "\n",
            "2021-12-31 10:29:05 (83.1 MB/s) - ‘train_id.zip’ saved [7378136/7378136]\n",
            "\n",
            "Archive:  train_id.zip\n",
            "  inflating: train_id.csv            \n"
          ]
        }
      ],
      "source": [
        "\n",
        "!rm *id*\n",
        "train_converted=\"https://github.com/sipocz/Programming_language_classification/raw/7cf3cc4e8397c150b45e2a5abb7b0e9b1e3d8ab7/orig/train_id.zip\"\n",
        "test_converted=\"https://github.com/sipocz/Programming_language_classification/raw/7cf3cc4e8397c150b45e2a5abb7b0e9b1e3d8ab7/orig/test_id.csv\"\n",
        "\n",
        "\n",
        "!wget $train_converted\n",
        "!unzip train_id.zip\n"
      ]
    },
    {
      "cell_type": "code",
      "execution_count": 3,
      "metadata": {
        "id": "LshFLrqKMVuR"
      },
      "outputs": [],
      "source": [
        "df_train=pd.read_csv(\"train_id.csv\")\n",
        "#df_test=pd.read_csv(\"test_200.csv\")\n"
      ]
    },
    {
      "cell_type": "markdown",
      "metadata": {
        "id": "UhsaFzgFquK1"
      },
      "source": [
        "### \\\\\\\\\\\\\\\\\\\\\\\\\\\\\\\\\\\\\\\\\\\\\\\\\\\\\\\\\\\\\\\\\\\\\\\\\\\\\\\\\\\\\n"
      ]
    },
    {
      "cell_type": "code",
      "execution_count": 4,
      "metadata": {
        "id": "x3HJcQ35MWAn"
      },
      "outputs": [],
      "source": [
        "import pandas as pd"
      ]
    },
    {
      "cell_type": "markdown",
      "metadata": {
        "id": "XomafEhUMWAp"
      },
      "source": [
        "### adatbetöltés mondatok betöltése"
      ]
    },
    {
      "cell_type": "code",
      "execution_count": 4,
      "metadata": {
        "id": "9w60OcdVMWAp"
      },
      "outputs": [],
      "source": [
        ""
      ]
    },
    {
      "cell_type": "markdown",
      "metadata": {
        "id": "oqbe8kFxgJav"
      },
      "source": [
        "##Tanulás"
      ]
    },
    {
      "cell_type": "code",
      "execution_count": 5,
      "metadata": {
        "colab": {
          "base_uri": "https://localhost:8080/",
          "height": 425
        },
        "id": "e-_C5UdDMpyH",
        "outputId": "88be1ca7-8312-4f9a-c957-0a2459c1320b"
      },
      "outputs": [
        {
          "output_type": "execute_result",
          "data": {
            "text/html": [
              "\n",
              "  <div id=\"df-6c8df58b-4a08-47ac-926a-78c1c6982a62\">\n",
              "    <div class=\"colab-df-container\">\n",
              "      <div>\n",
              "<style scoped>\n",
              "    .dataframe tbody tr th:only-of-type {\n",
              "        vertical-align: middle;\n",
              "    }\n",
              "\n",
              "    .dataframe tbody tr th {\n",
              "        vertical-align: top;\n",
              "    }\n",
              "\n",
              "    .dataframe thead th {\n",
              "        text-align: right;\n",
              "    }\n",
              "</style>\n",
              "<table border=\"1\" class=\"dataframe\">\n",
              "  <thead>\n",
              "    <tr style=\"text-align: right;\">\n",
              "      <th></th>\n",
              "      <th>Unnamed: 0</th>\n",
              "      <th>id</th>\n",
              "      <th>code</th>\n",
              "      <th>language</th>\n",
              "      <th>Word_list</th>\n",
              "      <th>Words_in_Numbers</th>\n",
              "    </tr>\n",
              "  </thead>\n",
              "  <tbody>\n",
              "    <tr>\n",
              "      <th>0</th>\n",
              "      <td>0</td>\n",
              "      <td>14026</td>\n",
              "      <td>var result = testObj1 | testObj2;\\...</td>\n",
              "      <td>c-sharp</td>\n",
              "      <td>_var_ _ID_  _equal_  _ID_ _number_  _OR_...</td>\n",
              "      <td>[272, 11, 99, 11, 180, 22, 11, 180, 225, 171, ...</td>\n",
              "    </tr>\n",
              "    <tr>\n",
              "      <th>1</th>\n",
              "      <td>1</td>\n",
              "      <td>12201</td>\n",
              "      <td>///     Initializes a new instance of ...</td>\n",
              "      <td>c-sharp</td>\n",
              "      <td>_division_  _division_  _division_    _ID...</td>\n",
              "      <td>[84, 84, 84, 11, 11, 170, 11, 11, 11, 230, 11,...</td>\n",
              "    </tr>\n",
              "    <tr>\n",
              "      <th>2</th>\n",
              "      <td>2</td>\n",
              "      <td>17074</td>\n",
              "      <td>/*\\n\\n     Explanation :- a user gives a Strin...</td>\n",
              "      <td>javascript</td>\n",
              "      <td>_division_  _star_  _new_line_  _new_line_   ...</td>\n",
              "      <td>[84, 231, 171, 171, 11, 61, 163, 11, 11, 11, 1...</td>\n",
              "    </tr>\n",
              "    <tr>\n",
              "      <th>3</th>\n",
              "      <td>3</td>\n",
              "      <td>21102</td>\n",
              "      <td>int sum = 0;\\n\\n         for (int i = ...</td>\n",
              "      <td>c-plus-plus</td>\n",
              "      <td>_int_ _ID_  _equal_  _number_  _semicolon_...</td>\n",
              "      <td>[140, 11, 99, 180, 225, 171, 171, 116, 49, 140...</td>\n",
              "    </tr>\n",
              "    <tr>\n",
              "      <th>4</th>\n",
              "      <td>4</td>\n",
              "      <td>53065</td>\n",
              "      <td>if (p-&gt;data &lt; min)\\n\\n         {\\n\\n  ...</td>\n",
              "      <td>c</td>\n",
              "      <td>_if_  _bracket_open_ _ID_ _minus_  _larger...</td>\n",
              "      <td>[130, 49, 11, 163, 149, 11, 230, 11, 48, 171, ...</td>\n",
              "    </tr>\n",
              "    <tr>\n",
              "      <th>5</th>\n",
              "      <td>5</td>\n",
              "      <td>29901</td>\n",
              "      <td>&gt;&gt;&gt; insertion_sort([]) == sorted([])\\n\\n  ...</td>\n",
              "      <td>python</td>\n",
              "      <td>_larger_sign_  _larger_sign_  _larger_sign_...</td>\n",
              "      <td>[149, 149, 149, 11, 260, 11, 49, 74, 73, 48, 9...</td>\n",
              "    </tr>\n",
              "    <tr>\n",
              "      <th>6</th>\n",
              "      <td>6</td>\n",
              "      <td>32980</td>\n",
              "      <td>* @details The Trie data structure is impleme...</td>\n",
              "      <td>c-plus-plus</td>\n",
              "      <td>_star_   _at_sign_ _ID_ _ID_ _ID_ _ID_ _ID_ ...</td>\n",
              "      <td>[231, 38, 11, 11, 11, 11, 11, 145, 11, 269, 11...</td>\n",
              "    </tr>\n",
              "    <tr>\n",
              "      <th>7</th>\n",
              "      <td>7</td>\n",
              "      <td>22010</td>\n",
              "      <td>*/\\n\\n static void test() {\\n\\n     data_stru...</td>\n",
              "      <td>c-plus-plus</td>\n",
              "      <td>_star_  _division_  _new_line_  _new_line_  ...</td>\n",
              "      <td>[231, 84, 171, 171, 232, 275, 11, 49, 48, 47, ...</td>\n",
              "    </tr>\n",
              "    <tr>\n",
              "      <th>8</th>\n",
              "      <td>8</td>\n",
              "      <td>80574</td>\n",
              "      <td># =&gt; 2\\n\\n puts remove_elements([0, 1, 2, 2, 3...</td>\n",
              "      <td>ruby</td>\n",
              "      <td>_hashmark_  _identical_  _number_  _new_line_...</td>\n",
              "      <td>[128, 129, 180, 171, 171, 11, 11, 260, 11, 49,...</td>\n",
              "    </tr>\n",
              "    <tr>\n",
              "      <th>9</th>\n",
              "      <td>9</td>\n",
              "      <td>35990</td>\n",
              "      <td>// graph is represented as an array of edg...</td>\n",
              "      <td>c</td>\n",
              "      <td>_division_  _division_  _ID_ _is_ _ID_ _as_...</td>\n",
              "      <td>[84, 84, 11, 145, 11, 34, 11, 33, 11, 11, 194,...</td>\n",
              "    </tr>\n",
              "    <tr>\n",
              "      <th>10</th>\n",
              "      <td>10</td>\n",
              "      <td>11384</td>\n",
              "      <td>// Notice that the return type is automati...</td>\n",
              "      <td>c-plus-plus</td>\n",
              "      <td>_division_  _division_  _ID_ _ID_ _ID_ _ret...</td>\n",
              "      <td>[84, 84, 11, 11, 11, 219, 250, 145, 11, 103, 1...</td>\n",
              "    </tr>\n",
              "    <tr>\n",
              "      <th>11</th>\n",
              "      <td>11</td>\n",
              "      <td>88732</td>\n",
              "      <td>{\\n\\n                     nrig...</td>\n",
              "      <td>c-sharp</td>\n",
              "      <td>_brace_open_  _new_line_  _new_line_ ...</td>\n",
              "      <td>[47, 171, 171, 11, 163, 163, 225, 171, 171, 46...</td>\n",
              "    </tr>\n",
              "  </tbody>\n",
              "</table>\n",
              "</div>\n",
              "      <button class=\"colab-df-convert\" onclick=\"convertToInteractive('df-6c8df58b-4a08-47ac-926a-78c1c6982a62')\"\n",
              "              title=\"Convert this dataframe to an interactive table.\"\n",
              "              style=\"display:none;\">\n",
              "        \n",
              "  <svg xmlns=\"http://www.w3.org/2000/svg\" height=\"24px\"viewBox=\"0 0 24 24\"\n",
              "       width=\"24px\">\n",
              "    <path d=\"M0 0h24v24H0V0z\" fill=\"none\"/>\n",
              "    <path d=\"M18.56 5.44l.94 2.06.94-2.06 2.06-.94-2.06-.94-.94-2.06-.94 2.06-2.06.94zm-11 1L8.5 8.5l.94-2.06 2.06-.94-2.06-.94L8.5 2.5l-.94 2.06-2.06.94zm10 10l.94 2.06.94-2.06 2.06-.94-2.06-.94-.94-2.06-.94 2.06-2.06.94z\"/><path d=\"M17.41 7.96l-1.37-1.37c-.4-.4-.92-.59-1.43-.59-.52 0-1.04.2-1.43.59L10.3 9.45l-7.72 7.72c-.78.78-.78 2.05 0 2.83L4 21.41c.39.39.9.59 1.41.59.51 0 1.02-.2 1.41-.59l7.78-7.78 2.81-2.81c.8-.78.8-2.07 0-2.86zM5.41 20L4 18.59l7.72-7.72 1.47 1.35L5.41 20z\"/>\n",
              "  </svg>\n",
              "      </button>\n",
              "      \n",
              "  <style>\n",
              "    .colab-df-container {\n",
              "      display:flex;\n",
              "      flex-wrap:wrap;\n",
              "      gap: 12px;\n",
              "    }\n",
              "\n",
              "    .colab-df-convert {\n",
              "      background-color: #E8F0FE;\n",
              "      border: none;\n",
              "      border-radius: 50%;\n",
              "      cursor: pointer;\n",
              "      display: none;\n",
              "      fill: #1967D2;\n",
              "      height: 32px;\n",
              "      padding: 0 0 0 0;\n",
              "      width: 32px;\n",
              "    }\n",
              "\n",
              "    .colab-df-convert:hover {\n",
              "      background-color: #E2EBFA;\n",
              "      box-shadow: 0px 1px 2px rgba(60, 64, 67, 0.3), 0px 1px 3px 1px rgba(60, 64, 67, 0.15);\n",
              "      fill: #174EA6;\n",
              "    }\n",
              "\n",
              "    [theme=dark] .colab-df-convert {\n",
              "      background-color: #3B4455;\n",
              "      fill: #D2E3FC;\n",
              "    }\n",
              "\n",
              "    [theme=dark] .colab-df-convert:hover {\n",
              "      background-color: #434B5C;\n",
              "      box-shadow: 0px 1px 3px 1px rgba(0, 0, 0, 0.15);\n",
              "      filter: drop-shadow(0px 1px 2px rgba(0, 0, 0, 0.3));\n",
              "      fill: #FFFFFF;\n",
              "    }\n",
              "  </style>\n",
              "\n",
              "      <script>\n",
              "        const buttonEl =\n",
              "          document.querySelector('#df-6c8df58b-4a08-47ac-926a-78c1c6982a62 button.colab-df-convert');\n",
              "        buttonEl.style.display =\n",
              "          google.colab.kernel.accessAllowed ? 'block' : 'none';\n",
              "\n",
              "        async function convertToInteractive(key) {\n",
              "          const element = document.querySelector('#df-6c8df58b-4a08-47ac-926a-78c1c6982a62');\n",
              "          const dataTable =\n",
              "            await google.colab.kernel.invokeFunction('convertToInteractive',\n",
              "                                                     [key], {});\n",
              "          if (!dataTable) return;\n",
              "\n",
              "          const docLinkHtml = 'Like what you see? Visit the ' +\n",
              "            '<a target=\"_blank\" href=https://colab.research.google.com/notebooks/data_table.ipynb>data table notebook</a>'\n",
              "            + ' to learn more about interactive tables.';\n",
              "          element.innerHTML = '';\n",
              "          dataTable['output_type'] = 'display_data';\n",
              "          await google.colab.output.renderOutput(dataTable, element);\n",
              "          const docLink = document.createElement('div');\n",
              "          docLink.innerHTML = docLinkHtml;\n",
              "          element.appendChild(docLink);\n",
              "        }\n",
              "      </script>\n",
              "    </div>\n",
              "  </div>\n",
              "  "
            ],
            "text/plain": [
              "    Unnamed: 0  ...                                   Words_in_Numbers\n",
              "0            0  ...  [272, 11, 99, 11, 180, 22, 11, 180, 225, 171, ...\n",
              "1            1  ...  [84, 84, 84, 11, 11, 170, 11, 11, 11, 230, 11,...\n",
              "2            2  ...  [84, 231, 171, 171, 11, 61, 163, 11, 11, 11, 1...\n",
              "3            3  ...  [140, 11, 99, 180, 225, 171, 171, 116, 49, 140...\n",
              "4            4  ...  [130, 49, 11, 163, 149, 11, 230, 11, 48, 171, ...\n",
              "5            5  ...  [149, 149, 149, 11, 260, 11, 49, 74, 73, 48, 9...\n",
              "6            6  ...  [231, 38, 11, 11, 11, 11, 11, 145, 11, 269, 11...\n",
              "7            7  ...  [231, 84, 171, 171, 232, 275, 11, 49, 48, 47, ...\n",
              "8            8  ...  [128, 129, 180, 171, 171, 11, 11, 260, 11, 49,...\n",
              "9            9  ...  [84, 84, 11, 145, 11, 34, 11, 33, 11, 11, 194,...\n",
              "10          10  ...  [84, 84, 11, 11, 11, 219, 250, 145, 11, 103, 1...\n",
              "11          11  ...  [47, 171, 171, 11, 163, 163, 225, 171, 171, 46...\n",
              "\n",
              "[12 rows x 6 columns]"
            ]
          },
          "metadata": {},
          "execution_count": 5
        }
      ],
      "source": [
        "df_train.head(12)"
      ]
    },
    {
      "cell_type": "code",
      "source": [
        ""
      ],
      "metadata": {
        "id": "_2eCsucwRtIt"
      },
      "execution_count": 5,
      "outputs": []
    },
    {
      "cell_type": "code",
      "execution_count": 6,
      "metadata": {
        "id": "wGBReaGM6-zn"
      },
      "outputs": [],
      "source": [
        "\n",
        "def ylabel_convert_5(sentiment):\n",
        "    ytrain=[]\n",
        "\n",
        "    for sent in sentiment:\n",
        "        #print(sent)\n",
        "        sent=sent[0]\n",
        "        if sent.lower()==\"r\":\n",
        "            o=[1,0,0,0,0,0,0,0,0,0,0,0,0,0,0]\n",
        "        elif sent.lower()==\"c\":\n",
        "            o=[0,1,0,0,0,0,0,0,0,0,0,0,0,0,0]\n",
        "        elif sent.lower()==\"c-plus-plus\":\n",
        "            o=[0,0,1,0,0,0,0,0,0,0,0,0,0,0,0]\n",
        "        elif sent.lower()==\"c-sharp\":\n",
        "            o=[0,0,0,1,0,0,0,0,0,0,0,0,0,0,0]\n",
        "        elif sent.lower()==\"dart\":\n",
        "            o=[0,0,0,0,1,0,0,0,0,0,0,0,0,0,0]\n",
        "        elif sent.lower()==\"f-sharp\":\n",
        "            o=[0,0,0,0,0,1,0,0,0,0,0,0,0,0,0]\n",
        "        elif sent.lower()==\"go\":\n",
        "            o=[0,0,0,0,0,0,1,0,0,0,0,0,0,0,0]\n",
        "        elif sent.lower()==\"java\":\n",
        "            o=[0,0,0,0,0,0,0,1,0,0,0,0,0,0,0]\n",
        "        elif sent.lower()==\"javascript\":\n",
        "            o=[0,0,0,0,0,0,0,0,1,0,0,0,0,0,0]\n",
        "        elif sent.lower()==\"julia\":\n",
        "            o=[0,0,0,0,0,0,0,0,0,1,0,0,0,0,0]          \n",
        "        elif sent.lower()==\"php\":\n",
        "            o=[0,0,0,0,0,0,0,0,0,0,1,0,0,0,0]\n",
        "        elif sent.lower()==\"python\":\n",
        "            o=[0,0,0,0,0,0,0,0,0,0,0,1,0,0,0]\n",
        "        elif sent.lower()==\"ruby\":\n",
        "            o=[0,0,0,0,0,0,0,0,0,0,0,0,1,0,0]\n",
        "        elif sent.lower()==\"scala\":\n",
        "            o=[0,0,0,0,0,0,0,0,0,0,0,0,0,1,0]\n",
        "        elif sent.lower()==\"swift\":\n",
        "            o=[0,0,0,0,0,0,0,0,0,0,0,0,0,0,1]          \n",
        "\n",
        "        ytrain.append(o)\n",
        "    return(ytrain)\n",
        "\n",
        "\n",
        "\n",
        "def ylabel_convert_1(sentiment):\n",
        "    ytrain=[]\n",
        "    for sent in sentiment:\n",
        "        if sent==\"negative\":\n",
        "            o=[1,0]\n",
        "        if sent==\"neutral\":\n",
        "            o=[0.5,0.5]\n",
        "        if sent==\"positive\":\n",
        "            o=[0,1]\n",
        "        ytrain.append(o)\n",
        "    return(ytrain)\n",
        "\n",
        "def ylabel_convert_3(sentiment):\n",
        "    ytrain=[]\n",
        "    for sent in sentiment:\n",
        "        if sent.lower()==\"kitaifa\":\n",
        "            o=[1,0,0,0,0]\n",
        "        elif sent.lower()==\"michezo\":\n",
        "            o=[0,1,0,0,0]\n",
        "        elif sent.lower()==\"biashara\":\n",
        "            o=[0,0,1,0,0]\n",
        "        elif sent.lower()==\"kamataifa\":\n",
        "            o=[0,0,0,1,0]\n",
        "        elif sent.lower()==\"burudani\":\n",
        "            o=[0,0,0,0,1]\n",
        "               \n",
        "              \n",
        "        ytrain.append(o)\n",
        "    return(ytrain)\n",
        "\n",
        "\n",
        "\n",
        "def ylabel_convert_4(senti):\n",
        "    ytrain=[]\n",
        "    oo=list(senti.values)\n",
        "    ytrain=[list(i) for i in oo]\n",
        "    return ytrain      "
      ]
    },
    {
      "cell_type": "code",
      "source": [
        ""
      ],
      "metadata": {
        "id": "SIxgkOKjTv8M"
      },
      "execution_count": 6,
      "outputs": []
    },
    {
      "cell_type": "code",
      "execution_count": 7,
      "metadata": {
        "id": "4QGQRyHcwtC6"
      },
      "outputs": [],
      "source": [
        "sentiment=[\"language\" ]  # \n",
        "\n",
        "ytrain=ylabel_convert_5(df_train[sentiment].values)\n",
        "\n",
        "\n"
      ]
    },
    {
      "cell_type": "code",
      "source": [
        "#ytrain"
      ],
      "metadata": {
        "id": "6KZN3Ex5UXSW"
      },
      "execution_count": 8,
      "outputs": []
    },
    {
      "cell_type": "code",
      "execution_count": 9,
      "metadata": {
        "id": "5LXoUuB_tZDc"
      },
      "outputs": [],
      "source": [
        "def str_2_numlist(strin):\n",
        "    x=strin[1:-1]\n",
        "    x=x.split(\",\")\n",
        "    try:\n",
        "        o=[float(i) for i in x]\n",
        "    except:\n",
        "        print(x)\n",
        "    return(o)\n",
        "    \n"
      ]
    },
    {
      "cell_type": "code",
      "execution_count": 10,
      "metadata": {
        "colab": {
          "base_uri": "https://localhost:8080/"
        },
        "id": "E2UjgMZztoPH",
        "outputId": "6264e905-b210-497f-86b9-fbc6e42227cd"
      },
      "outputs": [
        {
          "output_type": "execute_result",
          "data": {
            "text/plain": [
              "[123.0, 23.0, 433.0, 5423.0, 123.0, 12312.0, 123.0, 35432.0]"
            ]
          },
          "metadata": {},
          "execution_count": 10
        }
      ],
      "source": [
        "str_2_numlist(\"[123,23, 433,5423, 123, 12312, 123 ,35432]\")"
      ]
    },
    {
      "cell_type": "code",
      "source": [
        "def id_eliminator(l:list,id:float=11.0):\n",
        "    o=[]\n",
        "    idnum=0\n",
        "    for i in l:\n",
        "        if i !=id:\n",
        "            o.append(i)\n",
        "            idnum=0\n",
        "        if i==id and idnum==0:\n",
        "            o.append(i)\n",
        "            idnum+=1\n",
        "    return(o)\n",
        "\n",
        "        \n",
        "\n",
        "        \n"
      ],
      "metadata": {
        "id": "aQJ4h5LbFXbK"
      },
      "execution_count": 11,
      "outputs": []
    },
    {
      "cell_type": "code",
      "execution_count": 12,
      "metadata": {
        "id": "TNi-g2CNARwY"
      },
      "outputs": [],
      "source": [
        "def create_x(l1,maxword=200):\n",
        "    '''\n",
        "    \n",
        "    list jön be, ami stringeket tartlamaz\n",
        "    ebből kell listákat tartalmazó listát készíteni :-)\n",
        "    \n",
        "    '''\n",
        "    def str_2_numlist(strin):\n",
        "        \n",
        "        x=strin[1:-1]\n",
        "        x=x.split(\",\")\n",
        "        try:\n",
        "            o=[float(i) for i in x]\n",
        "        except:\n",
        "            o=[0]\n",
        "        return(o)\n",
        "    table=[]\n",
        "    for sent in l1:\n",
        "        sent_float=str_2_numlist(sent)\n",
        "        table.append(sent_float)\n",
        "\n",
        "\n",
        "\n",
        "    x0=[0.0 for _ in range(maxword)]\n",
        "    xx=[]\n",
        "    for sent_t in table:\n",
        "        sent=id_eliminator(sent_t)\n",
        "        if len(sent)<maxword:\n",
        "            o1=x0[0:maxword-len(sent)]+sent\n",
        "        else:\n",
        "            o1=sent[0:maxword]\n",
        "        #print(o1)\n",
        "        xx.append(o1)\n",
        "    return(xx)"
      ]
    },
    {
      "cell_type": "code",
      "source": [
        "def maxpos(l:list):\n",
        "\n",
        "    o=[i.index(max(i)) for i in l]\n",
        "    return(o)\n"
      ],
      "metadata": {
        "id": "MNp5ntrxdUsq"
      },
      "execution_count": 13,
      "outputs": []
    },
    {
      "cell_type": "code",
      "source": [
        ""
      ],
      "metadata": {
        "id": "JKJpoZyfkm3N"
      },
      "execution_count": 13,
      "outputs": []
    },
    {
      "cell_type": "code",
      "source": [
        "ytrain[0]"
      ],
      "metadata": {
        "colab": {
          "base_uri": "https://localhost:8080/"
        },
        "id": "43X1m4YxZDwl",
        "outputId": "aaae99f3-90ff-4df7-b3d5-2aa1768d98ef"
      },
      "execution_count": 14,
      "outputs": [
        {
          "output_type": "execute_result",
          "data": {
            "text/plain": [
              "[0, 0, 0, 1, 0, 0, 0, 0, 0, 0, 0, 0, 0, 0, 0]"
            ]
          },
          "metadata": {},
          "execution_count": 14
        }
      ]
    },
    {
      "cell_type": "code",
      "source": [
        ""
      ],
      "metadata": {
        "colab": {
          "base_uri": "https://localhost:8080/",
          "height": 171
        },
        "id": "HR3kmX-UkyJL",
        "outputId": "2e7636af-de26-4b62-e354-39626975aaf2"
      },
      "execution_count": 15,
      "outputs": [
        {
          "output_type": "error",
          "ename": "NameError",
          "evalue": "ignored",
          "traceback": [
            "\u001b[0;31m---------------------------------------------------------------------------\u001b[0m",
            "\u001b[0;31mNameError\u001b[0m                                 Traceback (most recent call last)",
            "\u001b[0;32m<ipython-input-15-470fff9d72ed>\u001b[0m in \u001b[0;36m<module>\u001b[0;34m()\u001b[0m\n\u001b[0;32m----> 1\u001b[0;31m \u001b[0mytrain_2\u001b[0m\u001b[0;34m[\u001b[0m\u001b[0;36m0\u001b[0m\u001b[0;34m]\u001b[0m\u001b[0;34m\u001b[0m\u001b[0;34m\u001b[0m\u001b[0m\n\u001b[0m",
            "\u001b[0;31mNameError\u001b[0m: name 'ytrain_2' is not defined"
          ]
        }
      ]
    },
    {
      "cell_type": "code",
      "source": [
        "test1=[0,44,33,22,12,11,22,44,11,11,34,23,11,23,11,23,23,11,11,23,43,54,]\n",
        "id_eliminator(test1)"
      ],
      "metadata": {
        "colab": {
          "base_uri": "https://localhost:8080/"
        },
        "id": "jOfzs1YeH05g",
        "outputId": "e3cb3d7b-9c37-401c-d6b4-3fb20efc5f8f"
      },
      "execution_count": 16,
      "outputs": [
        {
          "output_type": "execute_result",
          "data": {
            "text/plain": [
              "[0, 44, 33, 22, 12, 11, 22, 44, 11, 34, 23, 11, 23, 11, 23, 23, 11, 23, 43, 54]"
            ]
          },
          "metadata": {},
          "execution_count": 16
        }
      ]
    },
    {
      "cell_type": "code",
      "execution_count": 17,
      "metadata": {
        "id": "tRf3_wt9Bekb"
      },
      "outputs": [],
      "source": [
        "__MAXWORD__=400\n",
        "df_word_list=list(df_train.Words_in_Numbers)\n",
        "max_list=[len(c) for c in df_word_list]\n",
        "xtrain=create_x(df_word_list,maxword=__MAXWORD__)"
      ]
    },
    {
      "cell_type": "code",
      "source": [
        ""
      ],
      "metadata": {
        "id": "pxNMYsVVesOs"
      },
      "execution_count": null,
      "outputs": []
    },
    {
      "cell_type": "code",
      "execution_count": null,
      "metadata": {
        "id": "1UwmBdEkijzv"
      },
      "outputs": [],
      "source": [
        ""
      ]
    },
    {
      "cell_type": "code",
      "execution_count": 18,
      "metadata": {
        "id": "4O-DzroLiWjk",
        "colab": {
          "base_uri": "https://localhost:8080/"
        },
        "outputId": "46d19051-5603-4af4-8fbd-742e4ed6c5a9"
      },
      "outputs": [
        {
          "output_type": "execute_result",
          "data": {
            "text/plain": [
              "<function max>"
            ]
          },
          "metadata": {},
          "execution_count": 18
        }
      ],
      "source": [
        "max"
      ]
    },
    {
      "cell_type": "code",
      "execution_count": 19,
      "metadata": {
        "id": "3JEpjcQSBWtx"
      },
      "outputs": [],
      "source": [
        "set0=set()\n",
        "for xl in xtrain:\n",
        "    xls=set(xl)\n",
        "    set0=set0.union(xls)\n",
        "set0l=list(set0)\n",
        "maxii=max(set0l)\n"
      ]
    },
    {
      "cell_type": "code",
      "source": [
        "for xl in xtrain:\n",
        "   for i in range(len(xl)):\n",
        "       xl[i]=xl[i]/maxii\n"
      ],
      "metadata": {
        "id": "yak5ZOzKChKz"
      },
      "execution_count": 21,
      "outputs": []
    },
    {
      "cell_type": "code",
      "source": [
        "xtrain[0]"
      ],
      "metadata": {
        "id": "V04oYXmEC5FF"
      },
      "execution_count": null,
      "outputs": []
    },
    {
      "cell_type": "code",
      "execution_count": 24,
      "metadata": {
        "id": "WZSj92FGOebc"
      },
      "outputs": [],
      "source": [
        "\n",
        "\n",
        "from sklearn.model_selection import train_test_split\n",
        "x_train, x_valid, y_train, y_valid = train_test_split(xtrain, ytrain, test_size=0.1, random_state=42)\n"
      ]
    },
    {
      "cell_type": "code",
      "source": [
        "from sklearn.svm import LinearSVC"
      ],
      "metadata": {
        "id": "M0Z_th9MhDo_"
      },
      "execution_count": 25,
      "outputs": []
    },
    {
      "cell_type": "code",
      "source": [
        "y_train_class=maxpos(y_train)\n",
        "y_valid_class=maxpos(y_valid)"
      ],
      "metadata": {
        "id": "WAZfByQCnEhm"
      },
      "execution_count": 26,
      "outputs": []
    },
    {
      "cell_type": "code",
      "source": [
        ""
      ],
      "metadata": {
        "id": "cRa3SZXHhDlI"
      },
      "execution_count": null,
      "outputs": []
    },
    {
      "cell_type": "code",
      "source": [
        ""
      ],
      "metadata": {
        "id": "t4qq3OnkhDiB"
      },
      "execution_count": null,
      "outputs": []
    },
    {
      "cell_type": "code",
      "source": [
        ""
      ],
      "metadata": {
        "id": "8v5Hkg-vhDa2"
      },
      "execution_count": null,
      "outputs": []
    },
    {
      "cell_type": "code",
      "source": [
        ""
      ],
      "metadata": {
        "id": "-_W_1uvDhDTB"
      },
      "execution_count": null,
      "outputs": []
    },
    {
      "cell_type": "code",
      "execution_count": 27,
      "metadata": {
        "id": "59MTn_Fs3SvW"
      },
      "outputs": [],
      "source": [
        "lstm_size=10\n",
        "max_input_length=__MAXWORD__\n",
        "embedding_size=50 #(100: 73%)\n",
        "n_words=22698\n",
        "n_out=len(y_train[0])"
      ]
    },
    {
      "cell_type": "code",
      "execution_count": 28,
      "metadata": {
        "colab": {
          "base_uri": "https://localhost:8080/"
        },
        "id": "BS2bWgXsz2zc",
        "outputId": "625dead2-76f9-4c62-a9fa-21dbc407de17"
      },
      "outputs": [
        {
          "output_type": "stream",
          "name": "stdout",
          "text": [
            "22698\n"
          ]
        },
        {
          "output_type": "execute_result",
          "data": {
            "text/plain": [
              "15"
            ]
          },
          "metadata": {},
          "execution_count": 28
        }
      ],
      "source": [
        "print(n_words)\n",
        "#print(lens1)\n",
        "n_out"
      ]
    },
    {
      "cell_type": "code",
      "execution_count": null,
      "metadata": {
        "id": "26U6UXRhmSUE"
      },
      "outputs": [],
      "source": [
        ""
      ]
    },
    {
      "cell_type": "code",
      "execution_count": 29,
      "metadata": {
        "id": "uvvPuVNSxNa7"
      },
      "outputs": [],
      "source": [
        "# Importáld a megfelelő rétegeket\n",
        "from tensorflow.keras.layers import Input,Dense,Embedding,LSTM,TimeDistributed, Flatten, Bidirectional, Conv1D, MaxPooling1D, Dropout,Reshape,MaxPooling1D,Normalization\n",
        "from tensorflow.keras.models import Model\n",
        "from tensorflow.keras.optimizers import Adadelta,Adam,SGD,Adamax,RMSprop\n",
        "from tensorflow.keras.losses import sparse_categorical_crossentropy,categorical_crossentropy, mean_squared_error\n",
        "from tensorflow.keras import backend as K\n",
        "\n",
        "K.clear_session\n",
        "x1= Input(shape=(max_input_length,))\n",
        "x1=Normalization()(x1)\n",
        "x2= Reshape((__MAXWORD__,1))(x1)\n",
        "x3=Conv1D(100,kernel_size=(2))(x2)\n",
        "x4=MaxPooling1D(3)(x3)\n",
        "x5=Conv1D(100,kernel_size=(2))(x4)\n",
        "x6=MaxPooling1D(3)(x5)\n",
        "\n",
        "\n",
        "#conv1=Conv1D(filters=8, kernel_size=2, padding='same', activation='relu')(embedded_x)\n",
        "#MP=MaxPooling1D(pool_size=1)(conv1)\n",
        "\n",
        "\n",
        "x7=Flatten()(x6)\n",
        "Dense_out= Dense(500, activation=\"sigmoid\",kernel_initializer=\"HeNormal\")(x7)\n",
        "\n",
        "predictions= Dense(n_out, activation=\"softmax\")(Dense_out)\n",
        "model=Model(inputs=x1, outputs=predictions)\n",
        "\n"
      ]
    },
    {
      "cell_type": "code",
      "execution_count": 30,
      "metadata": {
        "colab": {
          "base_uri": "https://localhost:8080/"
        },
        "id": "NQpADS6gMHmd",
        "outputId": "6fc822fd-a956-42a0-eba0-815fbe8bc4a3"
      },
      "outputs": [
        {
          "output_type": "stream",
          "name": "stdout",
          "text": [
            "Model: \"model\"\n",
            "_________________________________________________________________\n",
            " Layer (type)                Output Shape              Param #   \n",
            "=================================================================\n",
            " input_2 (InputLayer)        [(None, 400)]             0         \n",
            "                                                                 \n",
            " reshape (Reshape)           (None, 400, 1)            0         \n",
            "                                                                 \n",
            " conv1d (Conv1D)             (None, 399, 100)          300       \n",
            "                                                                 \n",
            " max_pooling1d (MaxPooling1D  (None, 133, 100)         0         \n",
            " )                                                               \n",
            "                                                                 \n",
            " conv1d_1 (Conv1D)           (None, 132, 100)          20100     \n",
            "                                                                 \n",
            " max_pooling1d_1 (MaxPooling  (None, 44, 100)          0         \n",
            " 1D)                                                             \n",
            "                                                                 \n",
            " flatten (Flatten)           (None, 4400)              0         \n",
            "                                                                 \n",
            " dense (Dense)               (None, 500)               2200500   \n",
            "                                                                 \n",
            " dense_1 (Dense)             (None, 15)                7515      \n",
            "                                                                 \n",
            "=================================================================\n",
            "Total params: 2,228,415\n",
            "Trainable params: 2,228,415\n",
            "Non-trainable params: 0\n",
            "_________________________________________________________________\n"
          ]
        }
      ],
      "source": [
        "model.summary()"
      ]
    },
    {
      "cell_type": "code",
      "execution_count": 31,
      "metadata": {
        "id": "SzJYM8QeJyvI"
      },
      "outputs": [],
      "source": [
        "import numpy as np"
      ]
    },
    {
      "cell_type": "code",
      "execution_count": null,
      "metadata": {
        "id": "ACrVf-TbJYDe"
      },
      "outputs": [],
      "source": [
        "#train_x = np.asarray(xtrain)\n",
        "#train_y = np.asarray(ytrain)"
      ]
    },
    {
      "cell_type": "code",
      "execution_count": null,
      "metadata": {
        "id": "Lj_fAh_eKaSl"
      },
      "outputs": [],
      "source": [
        ""
      ]
    },
    {
      "cell_type": "code",
      "source": [
        "!pip install tensorflow_addons"
      ],
      "metadata": {
        "colab": {
          "base_uri": "https://localhost:8080/"
        },
        "id": "HJSGfsxkm9zJ",
        "outputId": "48323e43-5e1b-4845-c57e-ac7ac2acbee6"
      },
      "execution_count": 32,
      "outputs": [
        {
          "output_type": "stream",
          "name": "stdout",
          "text": [
            "Collecting tensorflow_addons\n",
            "  Downloading tensorflow_addons-0.15.0-cp37-cp37m-manylinux_2_12_x86_64.manylinux2010_x86_64.whl (1.1 MB)\n",
            "\u001b[K     |████████████████████████████████| 1.1 MB 5.2 MB/s \n",
            "\u001b[?25hRequirement already satisfied: typeguard>=2.7 in /usr/local/lib/python3.7/dist-packages (from tensorflow_addons) (2.7.1)\n",
            "Installing collected packages: tensorflow-addons\n",
            "Successfully installed tensorflow-addons-0.15.0\n"
          ]
        }
      ]
    },
    {
      "cell_type": "code",
      "source": [
        "import tensorflow_addons as tfa"
      ],
      "metadata": {
        "id": "xytusjy0IopL"
      },
      "execution_count": 33,
      "outputs": []
    },
    {
      "cell_type": "code",
      "execution_count": 34,
      "metadata": {
        "id": "RWIM4DP36S2L"
      },
      "outputs": [],
      "source": [
        "# Loss \n",
        "\n",
        "loss =categorical_crossentropy #mean_squared_error #categorical_crossentropy \n",
        "f1score=tfa.metrics.F1Score(num_classes=15)\n",
        "# Optimizer\n",
        "optimizer = RMSprop(learning_rate=0.001) #Ízlés szerint...\n",
        " \n",
        "# Compilation\n",
        "#############\n",
        "\n",
        "model.compile(optimizer=optimizer,loss=loss, metrics=[\"Accuracy\",f1score])"
      ]
    },
    {
      "cell_type": "code",
      "execution_count": 35,
      "metadata": {
        "colab": {
          "base_uri": "https://localhost:8080/"
        },
        "id": "SR6R8f9FgQiA",
        "outputId": "058b5d16-15a5-4576-b503-f059cf9a3207"
      },
      "outputs": [
        {
          "output_type": "stream",
          "name": "stdout",
          "text": [
            "400--400--400--400--400--400--400--400--400--400--400--400--400--400--400--400--400--400--400--400--400--400--400--400--400--400--400--400--400--400--400--400--400--400--400--400--400--400--400--400--400--400--400--400--400--400--400--400--400--400--400--400--400--400--400--400--400--400--400--400--400--400--400--400--400--400--400--400--400--400--400--400--400--400--400--400--400--400--400--400--400--400--400--400--400--400--400--400--400--400--400--400--400--400--400--400--400--400--400--400--400--400--400--400--400--400--400--400--400--400--400--400--400--400--400--400--400--400--400--400--400--400--400--400--400--400--400--400--400--400--400--400--400--400--400--400--400--400--400--400--400--400--400--400--400--400--400--400--400--400--400--400--400--400--400--400--400--400--400--400--400--400--400--400--400--400--400--400--400--400--400--400--400--400--400--400--400--400--400--400--400--400--400--400--400--400--400--400--400--400--400--400--400--400--400--400--400--400--400--400--400--400--400--400--400--400--400--400--400--400--400--400--400--400--400--400--400--400--400--400--400--400--400--400--400--400--400--400--400--400--400--400--400--400--400--400--400--400--400--400--400--400--400--400--400--400--400--400--400--400--400--400--400--400--400--400--400--400--400--400--400--400--400--400--400--400--400--400--400--400--400--400--400--400--400--400--400--400--400--400--400--400--400--400--400--400--400--400--400--400--400--400--400--400--400--400--400--400--400--400--400--400--400--400--400--400--400--400--400--400--400--400--400--400--400--400--400--400--400--400--400--400--400--400--400--400--400--400--400--400--400--400--400--400--400--400--400--400--400--400--400--400--400--400--400--400--400--400--400--400--400--400--400--400--400--400--400--400--400--400--400--400--400--400--400--400--400--400--400--400--400--400--400--400--400--400--400--400--400--400--400--400--400--400--400--400--400--400--400--400--400--400--400--400--400--400--400--400--400--400--400--400--400--400--400--400--400--400--400--400--400--400--400--400--400--400--400--400--400--400--400--400--400--400--400--400--400--400--400--400--400--400--400--400--400--400--400--400--400--400--400--400--400--400--400--400--400--400--400--400--400--400--400--400--400--400--400--400--400--400--400--400--400--400--400--400--400--400--400--400--400--400--400--400--400--400--400--400--400--400--400--400--400--400--400--400--400--400--400--400--400--400--400--400--400--400--400--400--400--400--400--400--400--400--400--400--400--400--400--400--400--400--400--400--400--400--400--400--400--400--400--400--400--400--400--400--400--400--400--400--400--400--400--400--400--400--400--400--400--400--400--400--400--400--400--400--400--400--400--400--400--400--400--400--400--400--400--400--400--400--400--400--400--400--400--400--400--400--400--400--400--400--400--400--400--400--400--400--400--400--400--400--400--400--400--400--400--400--400--400--400--400--400--400--400--400--400--400--400--400--400--400--400--400--400--400--400--400--400--400--400--400--400--400--400--400--400--400--400--400--400--400--400--400--400--400--400--400--400--400--400--400--400--400--400--400--400--400--400--400--400--400--400--400--400--400--400--400--400--400--400--400--400--400--400--400--400--400--400--400--400--400--400--400--400--400--400--400--400--400--400--400--400--400--400--400--400--400--400--400--400--400--400--400--400--400--400--400--400--400--400--400--400--400--400--400--400--400--400--400--400--400--400--400--400--400--400--400--400--400--400--400--400--400--400--400--400--400--400--400--400--400--400--400--400--400--400--400--400--400--400--400--400--400--400--400--400--400--400--400--400--400--400--400--400--400--400--400--400--400--400--400--400--400--400--400--400--400--400--400--400--400--400--400--400--400--400--400--400--400--400--400--400--400--400--400--400--400--400--400--400--400--400--400--400--400--400--400--400--400--400--400--400--400--400--400--400--400--400--400--400--400--400--400--400--400--400--400--400--400--400--400--400--400--400--400--400--400--400--400--400--400--400--400--400--400--400--400--400--400--400--400--400--400--400--400--400--400--400--400--400--400--400--400--400--400--400--400--400--400--400--400--400--400--400--400--400--400--400--400--400--400--400--400--400--400--400--400--400--400--400--400--400--400--400--400--400--400--400--400--400--400--400--400--400--400--400--400--400--400--400--400--400--400--400--400--400--400--400--400--400--400--400--400--400--400--400--400--400--400--400--400--400--400--400--400--400--400--400--400--400--400--400--400--400--400--400--400--400--400--400--400--400--400--400--400--400--400--400--400--400--400--400--400--400--400--400--400--400--400--400--400--400--400--400--400--400--400--400--400--400--400--400--400--400--400--400--400--400--400--400--400--400--400--400--400--400--400--400--400--400--400--400--400--400--400--400--400--400--400--400--400--400--400--400--400--400--400--400--400--400--400--400--400--400--400--400--400--400--400--400--400--400--400--400--400--400--400--400--400--400--400--400--400--400--400--400--400--400--400--400--400--400--400--400--400--400--400--400--400--400--400--400--400--400--400--400--400--400--400--400--400--400--400--400--400--400--400--400--400--400--400--400--400--400--400--400--400--400--400--400--400--400--400--400--400--400--400--400--400--400--400--400--400--400--400--400--400--400--400--400--400--400--400--400--400--400--400--400--400--400--400--400--400--400--400--400--400--400--400--400--400--400--400--400--400--400--400--400--400--400--400--400--400--400--400--400--400--400--400--400--400--400--400--400--400--400--400--400--400--400--400--400--400--400--400--400--400--400--400--400--400--400--400--400--400--400--400--400--400--400--400--400--400--400--400--400--400--400--400--400--400--400--400--400--400--400--400--400--400--400--400--400--400--400--400--400--400--400--400--400--400--400--400--400--400--400--400--400--400--400--400--400--400--400--400--400--400--400--400--400--400--400--400--400--400--400--400--400--400--400--400--400--400--400--400--400--400--400--400--400--400--400--400--400--400--400--400--400--400--400--400--400--400--400--400--400--400--400--400--400--400--400--400--400--400--400--400--400--400--400--400--400--400--400--400--400--400--400--400--400--400--400--400--400--400--400--400--400--400--400--400--400--400--400--400--400--400--400--400--400--400--400--400--400--400--400--400--400--400--400--400--400--400--400--400--400--400--400--400--400--400--400--400--400--400--400--400--400--400--400--400--400--400--400--400--400--400--400--400--400--400--400--400--400--400--400--400--400--400--400--400--400--400--400--400--400--400--400--400--400--400--400--400--400--400--400--400--400--400--400--400--400--400--400--400--400--400--400--400--400--400--400--400--400--400--400--400--400--400--400--400--400--400--400--400--400--400--400--400--400--400--400--400--400--400--400--400--400--400--400--400--400--400--400--400--400--400--400--400--400--400--400--400--400--400--400--400--400--400--400--400--400--400--400--400--400--400--400--400--400--400--400--400--400--400--400--400--400--400--400--400--400--400--400--400--400--400--400--400--400--400--400--400--400--400--400--400--400--400--400--400--400--400--400--400--400--400--400--400--400--400--400--400--400--400--400--400--400--400--400--400--400--400--400--400--400--400--400--400--400--400--400--400--400--400--400--400--400--400--400--400--400--400--400--400--400--400--400--400--400--400--400--400--400--400--400--400--400--400--400--400--400--400--400--400--400--400--400--400--400--400--400--400--400--400--400--400--400--400--400--400--400--400--400--400--400--400--400--400--400--400--400--400--400--400--400--400--400--400--400--400--400--400--400--400--400--400--400--400--400--400--400--400--400--400--400--400--400--400--400--400--400--400--400--400--400--400--400--400--400--400--400--400--400--400--400--400--400--400--400--400--400--400--400--400--400--400--400--400--400--400--400--400--400--400--400--400--400--400--400--400--400--400--400--400--400--400--400--400--400--400--400--400--400--400--400--400--400--400--400--400--400--400--400--400--400--400--400--400--400--400--400--400--400--400--400--400--400--400--400--400--400--400--400--400--400--400--400--400--400--400--400--400--400--400--400--400--400--400--400--400--400--400--400--400--400--400--400--400--400--400--400--400--400--400--400--400--400--400--400--400--400--400--400--400--400--400--400--400--400--400--400--400--400--400--400--400--400--400--400--400--400--400--400--400--400--400--400--400--400--400--400--400--400--400--400--400--400--400--400--400--400--400--400--400--400--400--400--400--400--400--400--400--400--400--400--400--400--400--400--400--400--400--400--400--400--400--400--400--400--400--400--400--400--400--400--400--400--400--400--400--400--400--400--400--400--400--400--400--400--400--400--400--400--400--400--400--400--400--400--400--400--400--400--400--400--400--400--400--400--400--400--400--400--400--400--400--400--400--400--400--400--400--400--400--400--400--400--400--400--400--400--400--400--400--400--400--400--400--400--400--400--400--400--400--400--400--400--400--400--400--400--400--400--400--400--400--400--400--400--400--400--400--400--400--400--400--400--400--400--400--400--400--400--400--400--400--400--400--400--400--400--400--400--400--400--400--400--400--400--400--400--400--400--400--400--400--400--400--400--400--400--400--400--400--400--400--400--400--400--400--400--400--400--400--400--400--400--400--400--400--400--400--400--400--400--400--400--400--400--400--400--400--400--400--400--400--400--400--400--400--400--400--400--400--400--400--400--400--400--400--400--400--400--400--400--400--400--400--400--400--400--400--400--400--400--400--400--400--400--400--400--400--400--400--400--400--400--400--400--400--400--400--400--400--400--400--400--400--400--400--400--400--400--400--400--400--400--400--400--400--400--400--400--400--400--400--400--400--400--400--400--400--400--400--400--400--400--400--400--400--400--400--400--400--400--400--400--400--400--400--400--400--400--400--400--400--400--400--400--400--400--400--400--400--400--400--400--400--400--400--400--400--400--400--400--400--400--400--400--400--400--400--400--400--400--400--400--400--400--400--400--400--400--400--400--400--400--400--400--400--400--400--400--400--400--400--400--400--400--400--400--400--400--400--400--400--400--400--400--400--400--400--400--400--400--400--400--400--400--400--400--400--400--400--400--400--400--400--400--400--400--400--400--400--400--400--400--400--400--400--400--400--400--400--400--400--400--400--400--400--400--400--400--400--400--400--400--400--400--400--400--400--400--400--400--400--400--400--400--400--400--400--400--400--400--400--400--400--400--400--400--400--400--400--400--400--400--400--400--400--400--400--400--400--400--400--400--400--400--400--400--400--400--400--400--400--400--400--400--400--400--400--400--400--400--400--400--400--400--400--400--400--400--400--400--400--400--400--400--400--400--400--400--400--400--400--400--400--400--400--400--400--400--400--400--400--400--400--400--400--400--400--400--400--400--400--400--400--400--400--400--400--400--400--400--400--400--400--400--400--400--400--400--400--400--400--400--400--400--400--400--400--400--400--400--400--400--400--400--400--400--400--400--400--400--400--400--400--400--400--400--400--400--400--400--400--400--400--400--400--400--400--400--400--400--400--400--400--400--400--400--400--400--400--400--400--400--400--400--400--400--400--400--400--400--400--400--400--400--400--400--400--400--400--400--400--400--400--400--400--400--400--400--400--400--400--400--400--400--400--400--400--400--400--400--400--400--400--400--400--400--400--400--400--400--400--400--400--400--400--400--400--400--400--400--400--400--400--400--400--400--400--400--400--400--400--400--400--400--400--400--400--400--400--400--400--400--400--400--400--400--400--400--400--400--400--400--400--400--400--400--400--400--400--400--400--400--400--400--400--400--400--400--400--400--400--400--400--400--400--400--400--400--400--400--400--400--400--400--400--400--400--400--400--400--400--400--400--400--400--400--400--400--400--400--400--400--400--400--400--400--400--400--400--400--400--400--400--400--400--400--400--400--400--400--400--400--400--400--400--400--400--400--400--400--400--400--400--400--400--400--400--400--400--400--400--400--400--400--400--400--400--400--400--400--400--400--400--400--400--400--400--400--400--400--400--400--400--400--400--400--400--400--400--400--400--400--400--400--400--400--400--400--400--400--400--400--400--400--400--400--400--400--400--400--400--400--400--400--400--400--400--400--400--400--400--400--400--400--400--400--400--400--400--400--400--400--400--400--400--400--400--400--400--400--400--400--400--400--400--400--400--400--400--400--400--400--400--400--400--400--400--400--400--400--400--400--400--400--400--400--400--400--400--400--400--400--400--400--400--400--400--400--400--400--400--400--400--400--400--400--400--400--400--400--400--400--400--400--400--400--400--400--400--400--400--400--400--400--400--400--400--400--400--400--400--400--400--400--400--400--400--400--400--400--400--400--400--400--400--400--400--400--400--400--400--400--400--400--400--400--400--400--400--400--400--400--400--400--400--400--400--400--400--400--400--400--400--400--400--400--400--400--400--400--400--400--400--400--400--400--400--400--400--400--400--400--400--400--400--400--400--400--400--400--400--400--400--400--400--400--400--400--400--400--400--400--400--400--400--400--400--400--400--400--400--400--400--400--400--400--400--400--400--400--400--400--400--400--400--400--400--400--400--400--400--400--400--400--400--400--400--400--400--400--400--400--400--400--400--400--400--400--400--400--400--400--400--400--400--400--400--400--400--400--400--400--400--400--400--400--400--400--400--400--400--400--400--400--400--400--400--400--400--400--400--400--400--400--400--400--400--400--400--400--400--400--400--400--400--400--400--400--400--400--400--400--400--400--400--400--400--400--400--400--400--400--400--400--400--400--400--400--400--400--400--400--400--400--400--400--400--400--400--400--400--400--400--400--400--400--400--400--400--400--400--400--400--400--400--400--400--400--400--400--400--400--400--400--400--400--400--400--400--400--400--400--400--400--400--400--400--400--400--400--400--400--400--400--400--400--400--400--400--400--400--400--400--400--400--400--400--400--400--400--400--400--400--400--400--400--400--400--400--400--400--400--400--400--400--400--400--400--400--400--400--400--400--400--400--400--400--400--400--400--400--400--400--400--400--400--400--400--400--400--400--400--400--400--400--400--400--400--400--400--400--400--400--400--400--400--400--400--400--400--400--400--400--400--400--400--400--400--400--400--400--400--400--400--400--400--400--400--400--400--400--400--400--400--400--400--400--400--400--400--400--400--400--400--400--400--400--400--400--400--400--400--400--400--400--400--400--400--400--400--400--400--400--400--400--400--400--400--400--400--400--400--400--400--400--400--400--400--400--400--400--400--400--400--400--400--400--400--400--400--400--400--400--400--400--400--400--400--400--400--400--400--400--400--400--400--400--400--400--400--400--400--400--400--400--400--400--400--400--400--400--400--400--400--400--400--400--400--400--400--400--400--400--400--400--400--400--400--400--400--400--400--400--400--400--400--400--400--400--400--400--400--400--400--400--400--400--400--400--400--400--400--400--400--400--400--400--400--400--400--400--400--400--400--400--400--400--400--400--400--400--400--400--400--400--400--400--400--400--400--400--400--400--400--400--400--400--400--400--400--400--400--400--400--400--400--400--400--400--400--400--400--400--400--400--400--400--400--400--400--400--400--400--400--400--400--400--400--400--400--400--400--400--400--400--400--400--400--400--400--400--400--400--400--400--400--400--400--400--400--400--400--400--400--400--400--400--400--400--400--400--400--400--400--400--400--400--400--400--400--400--400--400--400--400--400--400--400--400--400--400--400--400--400--400--400--400--400--400--400--400--400--400--400--400--400--400--400--400--400--400--400--400--400--400--400--400--400--400--400--400--400--400--400--400--400--400--400--400--400--400--400--400--400--400--400--400--400--400--400--400--400--400--400--400--400--400--400--400--400--400--400--400--400--400--400--400--400--400--400--400--400--400--400--400--400--400--400--400--400--400--400--400--400--400--400--400--400--400--400--400--400--400--400--400--400--400--400--400--400--400--400--400--400--400--400--400--400--400--400--400--400--400--400--400--400--400--400--400--400--400--400--400--400--400--400--400--400--400--400--400--400--400--400--400--400--400--400--400--400--400--400--400--400--400--400--400--400--400--400--400--400--400--400--400--400--400--400--400--400--400--400--400--400--400--400--400--400--400--400--400--400--400--400--400--400--400--400--400--400--400--400--400--400--400--400--400--400--400--400--400--400--400--400--400--400--400--400--400--400--400--400--400--400--400--400--400--400--400--400--400--400--400--400--400--400--400--400--400--400--400--400--400--400--400--400--400--400--400--400--400--400--400--400--400--400--400--400--400--400--400--400--400--400--400--400--400--400--400--400--400--400--400--400--400--400--400--400--400--400--400--400--400--400--400--400--400--400--400--400--400--400--400--400--400--400--400--400--400--400--400--400--400--400--400--400--400--400--400--400--400--400--400--400--400--400--400--400--400--400--400--400--400--400--400--400--400--400--400--400--400--400--400--400--400--400--400--400--400--400--400--400--400--400--400--400--400--400--400--400--400--400--400--400--400--400--400--400--400--400--400--400--400--400--400--400--400--400--400--400--400--400--400--400--400--400--400--400--400--400--400--400--400--400--400--400--400--400--400--400--400--400--400--400--400--400--400--400--400--400--400--400--400--400--400--400--400--400--400--400--400--400--400--400--400--400--400--400--400--400--400--400--400--400--400--400--400--400--400--400--400--400--400--400--400--400--400--400--400--400--400--400--400--400--400--400--400--400--400--400--400--400--400--400--400--400--400--400--400--400--400--400--400--400--400--400--400--400--400--400--400--400--400--400--400--400--400--400--400--400--400--400--400--400--400--400--400--400--400--400--400--400--400--400--400--400--400--400--400--400--400--400--400--400--400--400--400--400--400--400--400--400--400--400--400--400--400--400--400--400--400--400--400--400--400--400--400--400--400--400--400--400--400--400--400--400--400--400--400--400--400--400--400--400--400--400--400--400--400--400--400--400--400--400--400--400--400--400--400--400--400--400--400--400--400--400--400--400--400--400--400--400--400--400--400--400--400--400--400--400--400--400--400--400--400--400--400--400--400--400--400--400--400--400--400--400--400--400--400--400--400--400--400--400--400--400--400--400--400--400--400--400--400--400--400--400--400--400--400--400--400--400--400--400--400--400--400--400--400--400--400--400--400--400--400--400--400--400--400--400--400--400--400--400--400--400--400--400--400--400--400--400--400--400--400--400--400--400--400--400--400--400--400--400--400--400--400--400--400--400--400--400--400--400--400--400--400--400--400--400--400--400--400--400--400--400--400--400--400--400--400--400--400--400--400--400--400--400--400--400--400--400--400--400--400--400--400--400--400--400--400--400--400--400--400--400--400--400--400--400--400--400--400--400--400--400--400--400--400--400--400--400--400--400--400--400--400--400--400--400--400--400--400--400--400--400--400--400--400--400--400--400--400--400--400--400--400--400--400--400--400--400--400--400--400--400--400--400--400--400--400--400--400--400--400--400--400--400--400--400--400--400--400--400--400--400--400--400--400--400--400--400--400--400--400--400--400--400--400--400--400--400--400--400--400--400--400--400--400--400--400--400--400--400--400--400--400--400--400--400--400--400--400--400--400--400--400--400--400--400--400--400--400--400--400--400--400--400--400--400--400--400--400--400--400--400--400--400--400--400--400--400--400--400--400--400--400--400--400--400--400--400--400--400--400--400--400--400--400--400--400--400--400--400--400--400--400--400--400--400--400--400--400--400--400--400--400--400--400--400--400--400--400--400--400--400--400--400--400--400--400--400--400--400--400--400--400--400--400--400--400--400--400--400--400--400--400--400--400--400--400--400--400--400--400--400--400--400--400--400--400--400--400--400--400--400--400--400--400--400--400--400--400--400--400--400--400--400--400--400--400--400--400--400--400--400--400--400--400--400--400--400--400--400--400--400--400--400--400--400--400--400--400--400--400--400--400--400--400--400--400--400--400--400--400--400--400--400--400--400--400--400--400--400--400--400--400--400--400--400--400--400--400--400--400--400--400--400--400--400--400--400--400--400--400--400--400--400--400--400--400--400--400--400--400--400--400--400--400--400--400--400--400--400--400--400--400--400--400--400--400--400--400--400--400--400--400--400--400--400--400--400--400--400--400--400--400--400--400--400--400--400--400--400--400--400--400--400--400--400--400--400--400--400--400--400--400--400--400--400--400--400--400--400--400--400--400--400--400--400--400--400--400--400--400--400--400--400--400--400--400--400--400--400--400--400--400--400--400--400--400--400--400--400--400--400--400--400--400--400--400--400--400--400--400--400--400--400--400--400--400--400--400--400--400--400--400--400--400--400--400--400--400--400--400--400--400--400--400--400--400--400--400--400--400--400--400--400--400--400--400--400--400--400--400--400--400--400--400--400--400--400--400--400--400--400--400--400--400--400--400--400--400--400--400--400--400--400--400--400--400--400--400--400--400--400--400--400--400--400--400--400--400--400--400--400--400--400--400--400--400--400--400--400--400--400--400--400--400--400--400--400--400--400--400--400--400--400--400--400--400--400--400--400--400--400--400--400--400--400--400--400--400--400--400--400--400--400--400--400--400--400--400--400--400--400--400--400--400--400--400--400--400--400--400--400--400--400--400--400--400--400--400--400--400--400--400--400--400--400--400--400--400--400--400--400--400--400--400--400--400--400--400--400--400--400--400--400--400--400--400--400--400--400--400--400--400--400--400--400--400--400--400--400--400--400--400--400--400--400--400--400--400--400--400--400--400--400--400--400--400--400--400--400--400--400--400--400--400--400--400--400--400--400--400--400--400--400--400--400--400--400--400--400--400--400--400--400--400--400--400--400--400--400--400--400--400--400--400--400--400--400--400--400--400--400--400--400--400--400--400--400--400--400--400--400--400--400--400--400--400--400--400--400--400--400--400--400--400--400--400--400--400--400--400--400--400--400--400--400--400--400--400--400--400--400--400--400--400--400--400--400--400--400--400--400--400--400--400--400--400--400--400--400--400--400--400--400--400--400--400--400--400--400--400--400--400--400--400--400--400--400--400--400--400--400--400--400--400--400--400--400--400--400--400--400--400--400--400--400--400--400--400--400--400--400--400--400--400--400--400--400--400--400--400--400--400--400--400--400--400--400--400--400--400--400--400--400--400--400--400--400--400--400--400--400--400--400--400--400--400--400--400--400--400--400--400--400--400--400--400--400--400--400--400--400--400--400--400--400--400--400--400--400--400--400--400--400--400--400--400--400--400--400--400--400--400--400--400--400--400--400--400--400--400--400--400--400--400--400--400--400--400--400--400--400--400--400--400--400--400--400--400--400--400--400--400--400--400--400--400--400--400--400--400--400--400--400--400--400--400--400--400--400--400--400--400--400--400--400--400--400--400--400--400--400--400--400--400--400--400--400--400--400--400--400--400--400--400--400--400--400--400--400--400--400--400--400--400--400--400--400--400--400--400--400--400--400--400--400--400--400--400--400--400--400--400--400--400--400--400--400--400--400--400--400--400--400--400--400--400--400--400--400--400--400--400--400--400--400--400--400--400--400--400--400--400--400--400--400--400--400--400--400--400--400--400--400--400--400--400--400--400--400--400--400--400--400--400--400--400--400--400--400--400--400--400--400--400--400--400--400--400--400--400--400--400--400--400--400--400--400--400--400--400--400--400--400--400--400--400--400--400--400--400--400--400--400--400--400--400--400--400--400--400--400--400--400--400--400--400--400--400--400--400--400--400--400--400--400--400--400--400--400--400--400--400--400--400--400--400--400--400--400--400--400--400--400--400--400--400--400--400--400--400--400--400--400--400--400--400--400--400--400--400--400--400--400--400--400--400--400--400--400--400--400--400--400--400--400--400--400--400--400--400--400--400--400--400--400--400--400--400--400--400--400--400--400--400--400--400--400--400--400--400--400--400--400--400--400--400--400--400--400--400--400--400--400--400--400--400--400--400--400--400--400--400--400--400--400--400--400--400--400--400--400--400--400--400--400--400--400--400--400--400--400--400--400--400--400--400--400--400--400--400--400--400--400--400--400--400--400--400--400--400--400--400--400--400--400--400--400--400--400--400--400--400--400--400--400--400--400--400--400--400--400--400--400--400--400--400--400--400--400--400--400--400--400--400--400--400--400--400--400--400--400--400--400--400--400--400--400--400--400--400--400--400--400--400--400--400--400--400--400--400--400--400--400--400--400--400--400--400--400--400--400--400--400--400--400--400--400--400--400--400--400--400--400--400--400--400--400--400--400--400--400--400--400--400--400--400--400--400--400--400--400--400--400--400--400--400--400--400--400--400--400--400--400--400--400--400--400--400--400--400--400--400--400--400--400--400--400--400--400--400--400--400--400--400--400--400--400--400--400--400--400--400--400--400--400--400--400--400--400--400--400--400--400--400--400--400--400--400--400--400--400--400--400--400--400--400--400--400--400--400--400--400--400--400--400--400--400--400--400--400--400--400--400--400--400--400--400--400--400--400--400--400--400--400--400--400--400--400--400--400--400--400--400--400--400--400--400--400--400--400--400--400--400--400--400--400--400--400--400--400--400--400--400--400--400--400--400--400--400--400--400--400--400--400--400--400--400--400--400--400--400--400--400--400--400--400--400--400--400--400--400--400--400--400--400--400--400--400--400--400--400--400--400--400--400--400--400--400--400--400--400--400--400--400--400--400--400--400--400--400--400--400--400--400--400--400--400--400--400--400--400--400--400--400--400--400--400--400--400--400--400--400--400--400--400--400--400--400--400--400--400--400--400--400--400--400--400--400--400--400--400--400--400--400--400--400--400--400--400--400--400--400--400--400--400--400--400--400--400--400--400--400--400--400--400--400--400--400--400--400--400--400--400--400--400--400--400--400--400--400--400--400--400--400--400--400--400--400--400--400--400--400--400--400--400--400--400--400--400--400--400--400--400--400--400--400--400--400--400--400--400--400--400--400--400--400--400--400--400--400--400--400--400--400--400--400--400--400--400--400--400--400--400--400--400--400--400--400--400--400--400--400--400--400--400--400--400--400--400--400--400--400--400--400--400--400--400--400--400--400--400--400--400--400--400--400--400--400--400--400--400--400--400--400--400--400--400--400--400--400--400--400--400--400--400--400--400--400--400--400--400--400--400--400--400--400--400--400--400--400--400--400--400--400--400--400--400--400--400--400--400--400--400--400--400--400--400--400--400--400--400--400--400--400--400--400--400--400--400--400--400--400--400--400--400--400--400--400--400--400--400--400--400--400--400--400--400--400--400--400--400--400--400--400--400--400--400--400--400--400--400--400--400--400--400--400--400--400--400--400--400--400--400--400--400--400--400--400--400--400--400--400--400--400--400--400--400--400--400--400--400--400--400--400--400--400--400--400--400--400--400--400--400--400--400--400--400--400--400--400--400--400--400--400--400--400--400--400--400--400--400--400--400--400--400--400--400--400--400--400--400--400--400--400--400--400--400--400--400--400--400--400--400--400--400--400--400--400--400--400--400--400--400--400--400--400--400--400--400--400--400--400--400--400--400--400--400--400--400--400--400--400--400--400--400--400--400--400--400--400--400--400--400--400--400--400--400--400--400--400--400--400--400--400--400--400--400--400--400--400--400--400--400--400--400--400--400--400--400--400--400--400--400--400--400--400--400--400--400--400--400--400--400--400--400--400--400--400--400--400--400--400--400--400--400--400--400--400--400--400--400--400--400--400--400--400--400--400--400--400--400--400--400--400--400--400--400--400--400--400--400--400--400--400--400--400--400--400--400--400--400--400--400--400--400--400--400--400--400--400--400--400--400--400--400--400--400--400--400--400--400--400--400--400--400--400--400--400--400--400--400--400--400--400--400--400--400--400--400--400--400--400--400--400--400--400--400--400--400--400--400--400--400--400--400--400--400--400--400--400--400--400--400--400--400--400--400--400--400--400--400--400--400--400--400--400--400--400--400--400--400--400--400--400--400--400--400--400--400--400--400--400--400--400--400--400--400--400--400--400--400--400--400--400--400--400--400--400--400--400--400--400--400--400--400--400--400--400--400--400--400--400--400--400--400--400--400--400--400--400--400--400--400--400--400--400--400--400--400--400--400--400--400--400--400--400--400--400--400--400--400--400--400--400--400--400--400--400--400--400--400--400--400--400--400--400--400--400--400--400--400--400--400--400--400--400--400--400--400--400--400--400--400--400--400--400--400--400--400--400--400--400--400--400--400--400--400--400--400--400--400--400--400--400--400--400--400--400--400--400--400--400--400--400--400--400--400--400--400--400--400--400--400--400--400--400--400--400--400--400--400--400--400--400--400--400--400--400--400--400--400--400--400--400--400--400--400--400--400--400--400--400--400--400--400--400--400--400--400--400--400--400--400--400--400--400--400--400--400--400--400--400--400--400--400--400--400--400--400--400--400--400--400--400--400--400--400--400--400--400--400--400--400--400--400--400--400--400--400--400--400--400--400--400--400--400--400--400--400--400--400--400--400--400--400--400--400--400--400--400--400--400--400--400--400--400--400--400--400--400--400--400--400--400--400--400--400--400--400--400--400--400--400--400--400--400--400--400--400--400--400--400--400--400--400--400--400--400--400--400--400--400--400--400--400--400--400--400--400--400--400--400--400--400--400--400--400--400--400--400--400--400--400--400--400--400--400--400--400--400--400--400--400--400--400--400--400--400--400--400--400--400--400--400--400--400--400--400--400--400--400--400--400--400--400--400--400--400--400--400--400--400--400--400--400--400--400--400--400--400--400--400--400--400--400--400--400--400--400--400--400--400--400--400--400--400--400--400--400--400--400--400--400--400--400--400--400--400--400--400--400--400--400--400--400--400--400--400--400--400--400--400--400--400--400--400--400--400--400--400--400--400--400--400--400--400--400--400--400--400--400--400--400--400--400--400--400--400--400--400--400--400--400--400--400--400--400--400--400--400--400--400--400--400--400--400--400--400--400--400--400--400--400--400--400--400--400--400--400--400--400--400--400--400--400--400--400--400--400--400--400--400--400--400--400--400--400--400--400--400--400--400--400--400--400--400--400--400--400--400--400--400--400--400--400--400--400--400--400--400--400--400--400--400--400--400--400--400--400--400--400--400--400--400--400--400--400--400--400--400--400--400--400--400--400--400--400--400--400--400--400--400--400--400--400--400--400--400--400--400--400--400--400--400--400--400--400--400--400--400--400--400--400--400--400--400--400--400--400--400--400--400--400--400--400--400--400--400--400--400--400--400--400--400--400--400--400--400--400--400--400--400--400--400--400--400--400--400--400--400--400--400--400--400--400--400--400--400--400--400--400--400--400--400--400--400--400--400--400--400--400--400--400--400--400--400--400--400--400--400--400--400--400--400--400--400--400--400--400--400--400--400--400--400--400--400--400--400--400--400--400--400--400--400--400--400--400--400--400--400--400--400--400--400--400--400--400--400--400--400--400--400--400--400--400--400--400--400--400--400--400--400--400--400--400--400--400--400--400--400--400--400--400--400--400--400--400--400--400--400--400--400--400--400--400--400--400--400--400--400--400--400--400--400--400--400--400--400--400--400--400--400--400--400--400--400--400--400--400--400--400--400--400--400--400--400--400--400--400--400--400--400--400--400--400--400--400--400--400--400--400--400--400--400--400--400--400--400--400--400--400--400--400--400--400--400--400--400--400--400--400--400--400--400--400--400--400--400--400--400--400--400--400--400--400--400--400--400--400--400--400--400--400--400--400--400--400--400--400--400--400--400--400--400--400--400--400--400--400--400--400--400--400--400--400--400--400--400--400--400--400--400--400--400--400--400--400--400--400--400--400--400--400--400--400--400--400--400--400--400--400--400--400--400--400--400--400--400--400--400--400--400--400--400--400--400--400--400--400--400--400--400--400--400--400--400--400--400--400--400--400--400--400--400--400--400--400--400--400--400--400--400--400--400--400--400--400--400--400--400--400--400--400--400--400--400--400--400--400--400--400--400--400--400--400--400--400--400--400--400--400--400--400--400--400--400--400--400--400--400--400--400--400--400--400--400--400--400--400--400--400--400--400--400--400--400--400--400--400--400--400--400--400--400--400--400--400--400--400--400--400--400--400--400--400--400--400--400--400--400--400--400--400--400--400--400--400--400--400--400--400--400--400--400--400--400--400--400--400--400--400--400--400--400--400--400--400--400--400--400--400--400--400--400--400--400--400--400--400--400--400--400--400--400--400--400--400--400--400--400--400--400--400--400--400--400--400--400--400--400--400--400--400--400--400--400--400--400--400--400--400--400--400--400--400--400--400--400--400--400--400--400--400--400--400--400--400--400--400--400--400--400--400--400--400--400--400--400--400--400--400--400--400--400--400--400--400--400--400--400--400--400--400--400--400--400--400--400--400--400--400--400--400--400--400--400--400--400--400--400--400--400--400--400--400--400--400--400--400--400--400--400--400--400--400--400--400--400--400--400--400--400--400--400--400--400--400--400--400--400--400--400--400--400--400--400--400--400--400--400--400--400--400--400--400--400--400--400--400--400--400--400--400--400--400--400--400--400--400--400--400--400--400--400--400--400--400--400--400--400--400--400--400--400--400--400--400--400--400--400--400--400--400--400--400--400--400--400--400--400--400--400--400--400--400--400--400--400--400--400--400--400--400--400--400--400--400--400--400--400--400--400--400--400--400--400--400--400--400--400--400--400--400--400--400--400--400--400--400--400--400--400--400--400--400--400--400--400--400--400--400--400--400--400--400--400--400--400--400--400--400--400--400--400--400--400--400--400--400--400--400--400--400--400--400--400--400--400--400--400--400--400--400--400--400--400--400--400--400--400--400--400--400--400--400--400--400--400--400--400--400--400--400--400--400--400--400--400--400--400--400--400--400--400--400--400--400--400--400--400--400--400--400--400--400--400--400--400--400--400--400--400--400--400--400--400--400--400--400--400--400--400--400--400--400--400--400--400--400--400--400--400--400--400--400--400--400--400--400--400--400--400--400--400--400--400--400--400--400--400--400--400--400--400--400--400--400--400--400--400--400--400--400--400--400--400--400--400--400--400--400--400--400--400--400--400--400--400--400--400--400--400--400--400--400--400--400--400--400--400--400--400--400--400--400--400--400--400--400--400--400--400--400--400--400--400--400--400--400--400--400--400--400--400--400--400--400--400--400--400--400--400--400--400--400--400--400--400--400--400--400--400--400--400--400--400--400--400--400--400--400--400--400--400--400--400--400--400--400--400--400--400--400--400--400--400--400--400--400--400--400--400--400--400--400--400--400--400--400--400--400--400--400--400--400--400--400--400--400--400--400--400--400--400--400--400--400--400--400--400--400--400--400--400--400--400--400--400--400--400--400--400--400--400--400--400--400--400--400--400--400--400--400--400--400--400--400--400--400--400--400--400--400--400--400--400--400--400--400--400--400--400--400--400--400--400--400--400--400--400--400--400--400--400--400--400--400--400--400--400--400--400--400--400--400--400--400--400--400--400--400--400--400--400--400--400--400--400--400--400--400--400--400--400--400--400--400--400--400--400--400--400--400--400--400--400--400--400--400--400--400--400--400--400--400--400--400--400--400--400--400--400--400--400--400--400--400--400--400--400--400--400--400--400--400--400--400--400--400--400--400--400--400--400--400--400--400--400--400--400--400--400--400--400--400--400--400--400--400--400--400--400--400--400--400--400--400--400--400--400--400--400--400--400--400--400--400--400--400--400--400--400--400--400--400--400--400--400--400--400--400--400--400--400--400--400--400--400--400--400--400--400--400--400--400--400--400--400--400--400--400--400--400--400--400--400--400--400--400--400--400--400--400--400--400--400--400--400--400--400--400--400--400--400--400--400--400--400--400--400--400--400--400--400--400--400--400--400--400--400--400--400--400--400--400--400--400--400--400--400--400--400--400--400--400--400--400--400--400--400--400--400--400--400--400--400--400--400--400--400--400--400--400--400--400--400--400--400--400--400--400--400--400--400--400--400--400--400--400--400--400--400--400--400--400--400--400--400--400--400--400--400--400--400--400--400--400--400--400--400--400--400--400--400--400--400--400--400--400--400--400--400--400--400--400--400--400--400--400--400--400--400--400--400--400--400--400--400--400--400--400--400--400--400--400--400--400--400--400--400--400--400--400--400--400--400--400--400--400--400--400--400--400--400--400--400--400--400--400--400--400--400--400--400--400--400--400--400--400--400--400--400--400--400--400--400--400--400--400--400--400--400--400--400--400--400--400--400--400--400--400--400--400--400--400--400--400--400--400--400--400--400--400--400--400--400--400--400--400--400--400--400--400--400--400--400--400--400--400--400--400--400--400--400--400--400--400--400--400--400--400--400--400--400--400--400--400--400--400--400--400--400--400--400--400--400--400--400--400--400--400--400--400--400--400--400--400--400--400--400--400--400--400--400--400--400--400--400--400--400--400--400--400--400--400--400--400--400--400--400--400--400--400--400--400--400--400--400--400--400--400--400--400--400--400--400--400--400--400--400--400--400--400--400--400--400--400--400--400--400--400--400--400--400--400--400--400--400--400--400--400--400--400--400--400--400--400--400--400--400--400--400--400--400--400--400--400--400--400--400--400--400--400--400--400--400--400--400--400--400--400--400--400--400--400--400--400--400--400--400--400--400--400--400--400--400--400--400--400--400--400--400--400--400--400--400--400--400--400--400--400--400--400--400--400--400--400--400--400--400--400--400--400--400--400--400--400--400--400--400--400--400--400--400--400--400--400--400--400--400--400--400--400--400--400--400--400--400--400--400--400--400--400--400--400--400--400--400--400--400--400--400--400--400--400--400--400--400--400--400--400--400--400--400--400--400--400--400--400--400--400--400--400--400--400--400--400--400--400--400--400--400--400--400--400--400--400--400--400--400--400--400--400--400--400--400--400--400--400--400--400--400--400--400--400--400--400--400--400--400--400--400--400--400--400--400--400--400--400--400--400--400--400--400--400--400--400--400--400--400--400--400--400--400--400--400--400--400--400--400--400--400--400--400--400--400--400--400--400--400--400--400--400--400--400--400--400--400--400--400--400--400--400--400--400--400--400--400--400--400--400--400--400--400--400--400--400--400--400--400--400--400--400--400--400--400--400--400--400--400--400--400--400--400--400--400--400--400--400--400--400--400--400--400--400--400--400--400--400--400--400--400--400--400--400--400--400--400--400--400--400--400--400--400--400--400--400--400--400--400--400--400--400--400--400--400--400--400--400--400--400--400--400--400--400--400--400--400--400--400--400--400--400--400--400--400--400--400--400--400--400--400--400--400--400--400--400--400--400--400--400--400--400--400--400--400--400--400--400--400--400--400--400--400--400--400--400--400--400--400--400--400--400--400--400--400--400--400--400--400--400--400--400--400--400--400--400--400--400--400--400--400--400--400--400--400--400--400--400--400--400--400--400--400--400--400--400--400--400--400--400--400--400--400--400--400--400--400--400--400--400--400--400--400--400--400--400--400--400--400--400--400--400--400--400--400--400--400--400--400--400--400--400--400--400--400--400--400--400--400--400--400--400--400--400--400--400--400--400--400--400--400--400--400--400--400--400--400--400--400--400--400--400--400--400--400--400--400--400--400--400--400--400--400--400--400--400--400--400--400--400--400--400--400--400--400--400--400--400--400--400--400--400--400--400--400--400--400--400--400--400--400--400--400--400--400--400--400--400--400--400--400--400--400--400--400--400--400--400--400--400--400--400--400--400--400--400--400--400--400--400--400--400--400--400--400--400--400--400--400--400--400--400--400--400--400--400--400--400--400--400--400--400--400--400--400--400--400--400--400--400--400--400--400--400--400--400--400--400--400--400--400--400--400--400--400--400--400--400--400--400--400--400--400--400--400--400--400--400--400--400--400--400--400--400--400--400--400--400--400--400--400--400--400--400--400--400--400--400--400--400--400--400--400--400--400--400--400--400--400--400--400--400--400--400--400--400--400--400--400--400--400--400--400--400--400--400--400--400--400--400--400--400--400--400--400--400--400--400--400--400--400--400--400--400--400--400--400--400--400--400--400--400--400--400--400--400--400--400--400--400--400--400--400--400--400--400--400--400--400--400--400--400--400--400--400--400--400--400--400--400--400--400--400--400--400--400--400--400--400--400--400--400--400--400--400--400--400--400--400--400--400--400--400--400--400--400--400--400--400--400--400--400--400--400--400--400--400--400--400--400--400--400--400--400--400--400--400--400--400--400--400--400--400--400--400--400--400--400--400--400--400--400--400--400--400--400--400--400--400--400--400--400--400--400--400--400--400--400--400--400--400--400--400--400--400--400--400--400--400--400--400--400--400--400--400--400--400--400--400--400--400--400--400--400--400--400--400--400--400--400--400--400--400--400--400--400--400--400--400--400--400--400--400--400--400--400--400--400--400--400--400--400--400--400--400--400--400--400--400--400--400--400--400--400--400--400--400--400--400--400--400--400--400--400--400--400--400--400--400--400--400--400--400--400--400--400--400--400--400--400--400--400--400--400--400--400--400--400--400--400--400--400--400--400--400--400--400--400--400--400--400--400--400--400--400--400--400--400--400--400--400--400--400--400--400--400--400--400--400--400--400--400--400--400--400--400--400--400--400--400--400--400--400--400--400--400--400--400--400--400--400--400--400--400--400--400--400--400--400--400--400--400--400--400--400--400--400--400--400--400--400--400--400--400--400--400--400--400--400--400--400--400--400--400--400--400--400--400--400--400--400--400--400--400--400--400--400--400--400--400--400--400--400--400--400--400--400--400--400--400--400--400--400--400--400--400--400--400--400--400--400--400--400--400--400--400--400--400--400--400--400--400--400--400--400--400--400--400--400--400--400--400--400--400--400--400--400--400--400--400--400--400--400--400--400--400--400--400--400--400--400--400--400--400--400--400--400--400--400--400--400--400--400--400--400--400--400--400--400--400--400--400--400--400--400--400--400--400--400--400--400--400--400--400--400--400--400--400--400--400--400--400--400--400--400--400--400--400--400--400--400--400--400--400--400--400--400--400--400--400--400--400--400--400--400--400--400--400--400--400--400--400--400--400--400--400--400--400--400--400--400--400--400--400--400--400--400--400--400--400--400--400--400--400--400--400--400--400--400--400--400--400--400--400--400--400--400--400--400--400--400--400--400--400--400--400--400--400--400--400--400--400--400--400--400--400--400--400--400--400--400--400--400--400--400--400--400--400--400--400--400--400--400--400--400--400--400--400--400--400--400--400--400--400--400--400--400--400--400--400--400--400--400--400--400--400--400--400--400--400--400--400--400--400--400--400--400--400--400--400--400--400--400--400--400--400--400--400--400--400--400--400--400--400--400--400--400--400--400--400--400--400--400--400--400--400--400--400--400--400--400--400--400--400--400--400--400--400--400--400--400--400--400--400--400--400--400--400--400--400--400--400--400--400--400--400--400--400--400--400--400--400--400--400--400--400--400--400--400--400--400--400--400--400--400--400--400--400--400--400--400--400--400--400--400--400--400--400--400--400--400--400--400--400--400--400--400--400--400--400--400--400--400--400--400--400--400--400--400--400--400--400--400--400--400--400--400--400--400--400--400--400--400--400--400--400--400--400--400--400--400--400--400--400--400--400--400--400--400--400--400--400--400--400--400--400--400--400--400--400--400--400--400--400--400--400--400--400--400--400--400--400--400--400--400--400--400--400--400--400--400--400--400--400--400--400--400--400--400--400--400--400--400--400--400--400--400--400--400--400--400--400--400--400--400--400--400--400--400--400--400--400--400--400--400--400--400--400--400--400--400--400--400--400--400--400--400--400--400--400--400--400--400--400--400--400--400--400--400--400--400--400--400--400--400--400--400--400--400--400--400--400--400--400--400--400--400--400--400--400--400--400--400--400--400--400--400--400--400--400--400--400--400--400--400--400--400--400--400--400--400--400--400--400--400--400--400--400--400--400--400--400--400--400--400--400--400--400--400--400--400--400--400--400--400--400--400--400--400--400--400--400--400--400--400--400--400--400--400--400--400--400--400--400--400--400--400--400--400--400--400--400--400--400--400--400--400--400--400--400--400--400--400--400--400--400--400--400--400--400--400--400--400--400--400--400--400--400--400--400--400--400--400--400--400--400--400--400--400--400--400--400--400--400--400--400--400--400--400--400--400--400--400--400--400--400--400--400--400--400--400--400--400--400--400--400--400--400--400--400--400--400--400--400--400--400--400--400--400--400--400--400--400--400--400--400--400--400--400--400--400--400--400--400--400--400--400--400--400--400--400--400--400--400--400--400--400--400--400--400--400--400--400--400--400--400--400--400--400--400--400--400--400--400--400--400--400--400--400--400--400--400--400--400--400--400--400--400--400--400--400--400--400--400--400--400--400--400--400--400--400--400--400--400--400--400--400--400--400--400--400--400--400--400--400--400--400--400--400--400--400--400--400--400--400--400--400--400--400--400--400--400--400--400--400--400--400--400--400--400--400--400--400--400--400--400--400--400--400--400--400--400--400--400--400--400--400--400--400--400--400--400--400--400--400--400--400--400--400--400--400--400--400--400--400--400--400--400--400--400--400--400--400--400--400--400--400--400--400--400--400--400--400--400--400--400--400--400--400--400--400--400--400--400--400--400--400--400--400--400--400--400--400--400--400--400--400--400--400--400--400--400--400--400--400--400--400--400--400--400--400--400--400--400--400--400--400--400--400--400--400--400--400--400--400--400--400--400--400--400--400--400--400--400--400--400--400--400--400--400--400--400--400--400--400--400--400--400--400--400--400--400--400--400--400--400--400--400--400--400--400--400--400--400--400--400--400--400--400--400--400--400--400--400--400--400--400--400--400--400--400--400--400--400--400--400--400--400--400--400--400--400--400--400--400--400--400--400--400--400--400--400--400--400--400--400--400--400--400--400--400--400--400--400--400--400--400--400--400--400--400--400--400--400--400--400--400--400--400--400--400--400--400--400--400--400--400--400--400--400--400--400--400--400--400--400--400--400--400--400--400--400--400--400--400--400--400--400--400--400--400--400--400--400--400--400--400--400--400--400--400--400--400--400--400--400--400--400--400--400--400--400--400--400--400--400--400--400--400--400--400--400--400--400--400--400--400--400--400--400--400--400--400--400--400--400--400--400--400--400--400--400--400--400--400--400--400--400--400--400--400--400--400--400--400--400--400--400--400--400--400--400--400--400--400--400--400--400--400--400--400--400--400--400--400--400--400--400--400--400--400--400--400--400--400--400--400--400--400--400--400--400--400--400--400--400--400--400--400--400--400--400--400--400--400--400--400--400--400--400--400--400--400--400--400--400--400--400--400--400--400--400--400--400--400--400--400--400--400--400--400--400--400--400--400--400--400--400--400--400--400--400--400--400--400--400--400--400--400--400--400--400--400--400--400--400--400--400--400--400--400--400--400--400--400--400--400--400--400--400--400--400--400--400--400--400--400--400--400--400--400--400--400--400--400--400--400--400--400--400--400--400--400--400--400--400--400--400--400--400--400--400--400--400--400--400--400--400--400--400--400--400--400--400--400--400--400--400--400--400--400--400--400--400--400--400--400--400--400--400--400--400--400--400--400--400--400--400--400--400--400--400--400--400--400--400--400--400--400--400--400--400--400--400--400--400--400--400--400--400--400--400--400--400--400--400--400--400--400--400--400--400--400--400--400--400--400--400--400--400--400--400--400--400--400--400--400--400--400--400--400--400--400--400--400--400--400--400--400--400--400--400--400--400--400--400--400--400--400--400--400--400--400--400--400--400--400--400--400--400--400--400--400--400--400--400--400--400--400--400--400--400--400--400--400--400--400--400--400--400--400--400--400--400--400--400--400--400--400--400--400--400--400--400--400--400--400--400--400--400--400--400--400--400--400--400--400--400--400--400--400--400--400--400--400--400--400--400--400--400--400--400--400--400--400--400--400--400--400--400--400--400--400--400--400--400--400--400--400--400--400--400--400--400--400--400--400--400--400--400--400--400--400--400--400--400--400--400--400--400--400--400--400--400--400--400--400--400--400--400--400--400--400--400--400--400--400--400--400--400--400--400--400--400--400--400--400--400--400--400--400--400--400--400--400--400--400--400--400--400--400--400--400--400--400--400--400--400--400--400--400--400--400--400--400--400--400--400--400--400--400--400--400--400--400--400--400--400--400--400--400--400--400--400--400--400--400--400--400--400--400--400--400--400--400--400--400--400--400--400--400--400--400--400--400--400--400--400--400--400--400--400--400--400--400--400--400--400--400--400--400--400--400--400--400--400--400--400--400--400--400--400--400--400--400--400--400--400--400--400--400--400--400--400--400--400--400--400--400--400--400--400--400--400--400--400--400--400--400--400--400--400--400--400--400--400--400--400--400--400--400--400--400--400--400--400--400--400--400--400--400--400--400--400--400--400--400--400--400--400--400--400--400--400--400--400--400--400--400--400--400--400--400--400--400--400--400--400--400--400--400--400--400--400--400--400--400--400--400--400--400--400--400--400--400--400--400--400--400--400--400--400--400--400--400--400--400--400--400--400--400--400--400--400--400--400--400--400--400--400--400--400--400--400--400--400--400--400--400--400--400--400--400--400--400--400--400--400--400--400--400--400--400--400--400--400--400--400--400--400--400--400--400--400--400--400--400--400--400--400--400--400--400--400--400--400--400--400--400--400--400--400--400--400--400--400--400--400--400--400--400--400--400--400--400--400--400--400--400--400--400--400--400--400--400--400--400--400--400--400--400--400--400--400--400--400--400--400--400--400--400--400--400--400--400--400--400--400--400--400--400--400--400--400--400--400--400--400--400--400--400--400--400--400--400--400--400--400--400--400--400--400--400--400--400--400--400--400--400--400--400--400--400--400--400--400--400--400--400--400--400--400--400--400--400--400--400--400--400--400--400--400--400--400--400--400--400--400--400--400--400--400--400--400--400--400--400--400--400--400--400--400--400--400--400--400--400--400--400--400--400--400--400--400--400--400--400--400--400--400--400--400--400--400--400--400--400--400--400--400--400--400--400--400--400--400--400--400--400--400--400--400--400--400--400--400--400--400--400--400--400--400--400--400--400--400--400--400--400--400--400--400--400--400--400--400--400--400--400--400--400--400--400--400--400--400--400--400--400--400--400--400--400--400--400--400--400--400--400--400--400--400--400--400--400--400--400--400--400--400--400--400--400--400--400--400--400--400--400--400--400--400--400--400--400--400--400--400--400--400--400--400--400--400--400--400--400--400--400--400--400--400--400--400--400--400--400--400--400--400--400--400--400--400--400--400--400--400--400--400--400--400--400--400--400--400--400--400--400--400--400--400--400--400--400--400--400--400--400--400--400--400--400--400--400--400--400--400--400--400--400--400--400--400--400--400--400--400--400--400--400--400--400--400--400--400--400--400--400--400--400--400--400--400--400--400--400--400--400--400--400--400--400--400--400--400--400--400--400--400--400--400--400--400--400--400--400--400--400--400--400--400--400--400--400--400--400--400--400--400--400--400--400--400--400--400--400--400--400--400--400--400--400--400--400--400--400--400--400--400--400--400--400--400--400--400--400--400--400--400--400--400--400--400--400--400--400--400--400--400--400--400--400--400--400--400--400--400--400--400--400--400--400--400--400--400--400--400--400--400--400--400--400--400--400--400--400--400--400--400--400--400--400--400--400--400--400--400--400--400--400--400--400--400--400--400--400--400--400--400--400--400--400--400--400--400--400--400--400--400--400--400--400--400--400--400--400--400--400--400--400--400--400--400--400--400--400--400--400--400--400--400--400--400--400--400--400--400--400--400--400--400--400--400--400--400--400--400--400--400--400--400--400--400--400--400--400--400--400--400--400--400--400--400--400--400--400--400--400--400--400--400--400--400--400--400--400--400--400--400--400--400--400--400--400--400--400--400--400--400--400--400--400--400--400--400--400--400--400--400--400--400--400--400--400--400--400--400--400--400--400--400--400--400--400--400--400--400--400--400--400--400--400--400--400--400--400--400--400--400--400--400--400--400--400--400--400--400--400--400--400--400--400--400--400--400--400--400--400--400--400--400--400--400--400--400--400--400--400--400--400--400--400--400--400--400--400--400--400--400--400--400--400--400--400--400--400--400--400--400--400--400--400--400--400--400--400--400--400--400--400--400--400--400--400--400--400--400--400--400--400--400--400--400--400--400--400--400--400--400--400--400--400--400--400--400--400--400--400--400--400--400--400--400--400--400--400--400--400--400--400--400--400--400--400--400--400--400--400--400--400--400--400--400--400--400--400--400--400--400--400--400--400--400--400--400--400--400--400--400--400--400--400--400--400--400--400--400--400--400--400--400--400--400--400--400--400--400--400--400--400--400--400--400--400--400--400--400--400--400--400--400--400--400--400--400--400--400--400--400--400--400--400--400--400--400--400--400--400--400--400--400--400--400--400--400--400--400--400--400--400--400--400--400--400--400--400--400--400--400--400--400--400--400--400--400--400--400--400--400--400--400--400--400--400--400--400--400--400--400--400--400--400--400--400--400--400--400--400--400--400--400--400--400--400--400--400--400--400--400--400--400--400--400--400--400--400--400--400--400--400--400--400--400--400--400--400--400--400--400--400--400--400--400--400--400--400--400--400--400--400--400--400--400--400--400--400--400--400--400--400--400--400--400--400--400--400--400--400--400--400--400--400--400--400--400--400--400--400--400--400--400--400--400--400--400--400--400--400--400--400--400--400--400--400--400--400--400--400--400--400--400--400--400--400--400--400--400--400--400--400--400--400--400--400--400--400--400--400--400--400--400--400--400--400--400--400--400--400--400--400--400--400--400--400--400--400--400--400--400--400--400--400--400--400--400--400--400--400--400--400--400--400--400--400--400--400--400--400--400--400--400--400--400--400--400--400--400--400--400--400--400--400--400--400--400--400--400--400--400--400--400--400--400--400--400--400--400--400--400--400--400--400--400--400--400--400--400--400--400--400--400--400--400--400--400--400--400--400--400--400--400--400--400--400--400--400--400--400--400--400--400--400--400--400--400--400--400--400--400--400--400--400--400--400--400--400--400--400--400--400--400--400--400--400--400--400--400--400--400--400--400--400--400--400--400--400--400--400--400--400--400--400--400--400--400--400--400--400--400--400--400--400--400--400--400--400--400--400--400--400--400--400--400--400--400--400--400--400--400--400--400--400--400--400--400--400--400--400--400--400--400--400--400--400--400--400--400--400--400--400--400--400--400--400--400--400--400--400--400--400--400--400--400--400--400--400--400--400--400--400--400--400--400--400--400--400--400--400--400--400--400--400--400--400--400--400--400--400--400--400--400--400--400--400--400--400--400--400--400--400--400--400--400--400--400--400--400--400--400--400--400--400--400--400--400--400--400--400--400--400--400--400--400--400--400--400--400--400--400--400--400--400--400--400--400--400--400--400--400--400--400--400--400--400--400--400--400--400--400--400--400--400--400--400--400--400--400--400--400--400--400--400--400--400--400--400--400--400--400--400--400--400--400--400--400--400--400--400--400--400--400--400--400--400--400--400--400--400--400--400--400--400--400--400--400--400--400--400--400--400--400--400--400--400--400--400--400--400--400--400--400--400--400--400--400--400--400--400--400--400--400--400--400--400--400--400--400--400--400--400--400--400--400--400--400--400--400--400--400--400--400--400--400--400--400--400--400--400--400--400--400--400--400--400--400--400--400--400--400--400--400--400--400--400--400--400--400--400--400--400--400--400--400--400--400--400--400--400--400--400--400--400--400--400--400--400--400--400--400--400--400--400--400--400--400--400--400--400--400--400--400--400--400--400--400--400--400--400--400--400--400--400--400--400--400--400--400--400--400--400--400--400--400--400--400--400--400--400--400--400--400--400--400--400--400--400--400--400--400--400--400--400--400--400--400--400--400--400--400--400--400--400--400--400--400--400--400--400--400--400--400--400--400--400--400--400--400--400--400--400--400--400--400--400--400--400--400--400--400--400--400--400--400--400--400--400--400--400--400--400--400--400--400--400--400--400--400--400--400--400--400--400--400--400--400--400--400--400--400--400--400--400--400--400--400--400--400--400--400--400--400--400--400--400--400--400--400--400--400--400--400--400--400--400--400--400--400--400--400--400--400--400--400--400--400--400--400--400--400--400--400--400--400--400--400--400--400--400--400--400--400--400--400--400--400--400--400--400--400--400--400--400--400--400--400--400--400--400--400--400--400--400--400--400--400--400--400--400--400--400--400--400--400--400--400--400--400--400--400--400--400--400--400--400--400--400--400--400--400--400--400--400--400--400--400--400--400--400--400--400--400--400--400--400--400--400--400--400--400--400--400--400--400--400--400--400--400--400--400--400--400--400--400--400--400--400--400--400--400--400--400--400--400--400--400--400--400--400--400--400--400--400--400--400--400--400--400--400--400--400--400--400--400--400--400--400--400--400--400--400--400--400--400--400--400--400--400--400--400--400--400--400--400--400--400--400--400--400--400--400--400--400--400--400--400--400--400--400--400--400--400--400--400--400--400--400--400--400--400--400--400--400--400--400--400--400--400--400--400--400--400--400--400--400--400--400--400--400--400--400--400--400--400--400--400--400--400--400--400--400--400--400--400--400--400--400--400--400--400--400--400--400--400--400--400--400--400--400--400--400--400--400--400--400--400--400--400--400--400--400--400--400--400--400--400--400--400--400--400--400--400--400--400--400--400--400--400--400--400--400--400--400--400--400--400--400--400--400--400--400--400--400--400--400--400--400--400--400--400--400--400--400--400--400--400--400--400--400--400--400--400--400--400--400--400--400--400--400--400--400--400--400--400--400--400--400--400--400--400--400--400--400--400--400--400--400--400--400--400--400--400--400--400--400--400--400--400--400--400--400--400--400--400--400--400--400--400--400--400--400--400--400--400--400--400--400--400--400--400--400--400--400--400--400--400--400--400--400--400--400--400--400--400--400--400--400--400--400--400--400--400--400--400--400--400--400--400--400--400--400--400--400--400--400--400--400--400--400--400--400--400--400--400--400--400--400--400--400--400--400--400--400--400--400--400--400--400--400--400--400--400--400--400--400--400--400--400--400--400--400--400--400--400--400--400--400--400--400--400--400--400--400--400--400--400--400--400--400--400--400--400--400--400--400--400--400--400--400--400--400--400--400--400--400--400--400--400--400--400--400--400--400--400--400--400--400--400--400--400--400--400--400--400--400--400--400--400--400--400--400--400--400--400--400--400--400--400--400--400--400--400--400--400--400--400--400--400--400--400--400--400--400--400--400--400--400--400--400--400--400--400--400--400--400--400--400--400--400--400--400--400--400--400--400--400--400--400--400--400--400--400--400--400--400--400--400--400--400--400--400--400--400--400--400--400--400--400--400--400--400--400--400--400--400--400--400--400--400--400--400--400--400--400--400--400--400--400--400--400--400--400--400--400--400--400--400--400--400--400--400--400--400--400--400--400--400--400--400--400--400--400--400--400--400--400--400--400--400--400--400--400--400--400--400--400--400--400--400--400--400--400--400--400--400--400--400--400--400--400--400--400--400--400--400--400--400--400--400--400--400--400--400--400--400--400--400--400--400--400--400--400--400--400--400--400--400--400--400--400--400--400--400--400--400--400--400--400--400--400--400--400--400--400--400--400--400--400--400--400--400--400--400--400--400--400--400--400--400--400--400--400--400--400--400--400--400--400--400--400--400--400--400--400--400--400--400--400--400--400--400--400--400--400--400--400--400--400--400--400--400--400--400--400--400--400--400--400--400--400--400--400--400--400--400--400--400--400--400--400--400--400--400--400--400--400--400--400--400--400--400--400--400--400--400--400--400--400--400--400--400--400--400--400--400--400--400--400--400--400--400--400--400--400--400--400--400--400--400--400--400--400--400--400--400--400--400--400--400--400--400--400--400--400--400--400--400--400--400--400--400--400--400--400--400--400--400--400--400--400--400--400--400--400--400--400--400--400--400--400--400--400--400--400--400--400--400--400--400--400--400--400--400--400--400--400--400--400--400--400--400--400--400--400--400--400--400--400--400--400--400--400--400--400--400--400--400--400--400--400--400--400--400--400--400--400--400--400--400--400--400--400--400--400--400--400--400--400--400--400--400--400--400--400--400--400--400--400--400--400--400--400--400--400--400--400--400--400--400--400--400--400--400--400--400--400--400--400--400--400--400--400--400--400--400--400--400--400--400--400--400--400--400--400--400--400--400--400--400--400--400--400--400--400--400--400--400--400--400--400--400--400--400--400--400--400--400--400--400--400--400--400--400--400--400--400--400--400--400--400--400--400--400--400--400--400--400--400--400--400--400--400--400--400--400--400--400--400--400--400--400--400--400--400--400--400--400--400--400--400--400--400--400--400--400--400--400--400--400--400--400--400--400--400--400--400--400--400--400--400--400--400--400--400--400--400--400--400--400--400--400--400--400--400--400--400--400--400--400--400--400--400--400--400--400--400--400--400--400--400--400--400--400--400--400--400--400--400--400--400--400--400--400--400--400--400--400--400--400--400--400--400--400--400--400--400--400--400--400--400--400--400--400--400--400--400--400--400--400--400--400--400--400--400--400--400--400--400--400--400--400--400--400--400--400--400--400--400--400--400--400--400--400--400--400--400--400--400--400--400--400--400--400--400--400--400--400--400--400--400--400--400--400--400--400--400--400--400--400--400--400--400--400--400--400--400--400--400--400--400--400--400--400--400--400--400--400--400--400--400--400--400--400--400--400--400--400--400--400--400--400--400--400--400--400--400--400--400--400--400--400--400--400--400--400--400--400--400--400--400--400--400--400--400--400--400--400--400--400--400--400--400--400--400--400--400--400--400--400--400--400--400--400--400--400--400--400--400--400--400--400--400--400--400--400--400--400--400--400--400--400--400--400--400--400--400--400--400--400--400--400--400--400--400--400--400--400--400--400--400--400--400--400--400--400--400--400--400--400--400--400--400--400--400--400--400--400--400--400--400--400--400--400--400--400--400--400--400--400--400--400--400--400--400--400--400--400--400--400--400--400--400--400--400--400--400--400--400--400--400--400--400--400--400--400--400--400--400--400--400--400--400--400--400--400--400--400--400--400--400--400--400--400--400--400--400--400--400--400--400--400--400--400--400--400--400--400--400--400--400--400--400--400--400--400--400--400--400--400--400--400--400--400--400--400--400--400--400--400--400--400--400--400--400--400--400--400--400--400--400--400--400--400--400--400--400--400--400--400--400--400--400--400--400--400--400--400--400--400--400--400--400--400--400--400--400--400--400--400--400--400--400--400--400--400--400--400--400--400--400--400--400--400--400--400--400--400--400--400--400--400--400--400--400--400--400--400--400--400--400--400--400--400--400--400--400--400--400--400--400--400--400--400--400--400--400--400--400--400--400--400--400--400--400--400--400--400--400--400--400--400--400--400--400--400--400--400--400--400--400--400--400--400--400--400--400--400--400--400--400--400--400--400--400--400--400--400--400--400--400--400--400--400--400--400--400--400--400--400--400--400--400--400--400--400--400--400--400--400--400--400--400--400--400--400--400--400--400--400--400--400--400--400--400--400--400--400--400--400--400--400--400--400--400--400--400--400--400--400--400--400--400--400--400--400--400--400--400--400--400--400--400--400--400--400--400--400--400--400--400--400--400--400--400--400--400--400--400--400--400--400--400--400--400--400--400--400--400--400--400--400--400--400--400--400--400--400--400--400--400--400--400--400--400--400--400--400--400--400--400--400--400--400--400--400--400--400--400--400--400--400--400--400--400--400--400--400--400--400--400--400--400--400--400--400--400--400--400--400--400--400--400--400--400--400--400--400--400--400--400--400--400--400--400--400--400--400--400--400--400--400--400--400--400--400--400--400--400--400--400--400--400--400--400--400--400--400--400--400--400--400--400--400--400--400--400--400--400--400--400--400--400--400--400--400--400--400--400--400--400--400--400--400--400--400--400--400--400--400--400--400--400--400--400--400--400--400--400--400--400--400--400--400--400--400--400--400--400--400--400--400--400--400--400--400--400--400--400--400--400--400--400--400--400--400--400--400--400--400--400--400--400--400--400--400--400--400--400--400--400--400--400--400--400--400--400--400--400--400--400--400--400--400--400--400--400--400--400--400--400--400--400--400--400--400--400--400--400--400--400--400--400--400--400--400--400--400--400--400--400--400--400--400--400--400--400--400--400--400--400--400--400--400--400--400--400--400--400--400--400--400--400--400--400--400--400--400--400--400--400--400--400--400--400--400--400--400--400--400--400--400--400--400--400--400--400--400--400--400--400--400--400--400--400--400--400--400--400--400--400--400--400--400--400--400--400--400--400--400--400--400--400--400--400--400--400--400--400--400--400--400--400--400--400--400--400--400--400--400--400--400--400--400--400--400--400--400--400--400--400--400--400--400--400--400--400--400--400--400--400--400--400--400--400--400--400--400--400--400--400--400--400--400--400--400--400--400--400--400--400--400--400--400--400--400--400--400--400--400--400--400--400--400--400--400--400--400--400--400--400--400--400--400--400--400--400--400--400--400--400--400--400--400--400--400--400--400--400--400--400--400--400--400--400--400--400--400--400--400--400--400--400--400--400--400--400--400--400--400--400--400--400--400--400--400--400--400--400--400--400--400--400--400--400--400--400--400--400--400--400--400--400--400--400--400--400--400--400--400--400--400--400--400--400--400--400--400--400--400--400--400--400--400--400--400--400--400--400--400--400--400--400--400--400--400--400--400--400--400--400--400--400--400--400--400--400--400--400--400--400--400--400--400--400--400--400--400--400--400--400--400--400--400--400--400--400--400--400--400--400--400--400--400--400--400--400--400--400--400--400--400--400--400--400--400--400--400--400--400--400--400--400--400--400--400--400--400--400--400--400--400--400--400--400--400--400--400--400--400--400--400--400--400--400--400--400--400--400--400--400--400--400--400--400--400--400--400--400--400--400--400--400--400--400--400--400--400--400--400--400--400--400--400--400--400--400--400--400--400--400--400--400--400--400--400--400--400--400--400--400--400--400--400--400--400--400--400--400--400--400--400--400--400--400--400--400--400--400--400--400--400--400--400--400--400--400--400--400--400--400--400--400--400--400--400--400--400--400--400--400--400--400--400--400--400--400--400--400--400--400--400--400--400--400--400--400--400--400--400--400--400--400--400--400--400--400--400--400--400--400--400--400--400--400--400--400--400--400--400--400--400--400--400--400--400--400--400--400--400--400--400--400--400--400--400--400--400--400--400--400--400--400--400--400--400--400--400--400--400--400--400--400--400--400--400--400--400--400--400--400--400--400--400--400--400--400--400--400--400--400--400--400--400--400--400--400--400--400--400--400--400--400--400--400--400--400--400--400--400--400--400--400--400--400--400--400--400--400--400--400--400--400--400--400--400--400--400--400--400--400--400--400--400--400--400--400--400--400--400--400--400--400--400--400--400--400--400--400--400--400--400--400--400--400--400--400--400--400--400--400--400--400--400--400--400--400--400--400--400--400--400--400--400--400--400--400--400--400--400--400--400--400--400--400--400--400--400--400--400--400--400--400--400--400--400--400--400--400--400--400--400--400--400--400--400--400--400--400--400--400--400--400--400--400--400--400--400--400--400--400--400--400--400--400--400--400--400--400--400--400--400--400--400--400--400--400--400--400--400--400--400--400--400--400--400--400--400--400--400--400--400--400--400--400--400--400--400--400--400--400--400--400--400--400--400--400--400--400--400--400--400--400--400--400--400--400--400--400--400--400--400--400--400--400--400--400--400--400--400--400--400--400--400--400--400--400--400--400--400--400--400--400--400--400--400--400--400--400--400--400--400--400--400--400--400--400--400--400--400--400--400--400--400--400--400--400--400--400--400--400--400--400--400--400--400--400--400--400--400--400--400--400--400--400--400--400--400--400--400--400--400--400--400--400--400--400--400--400--400--400--400--400--400--400--400--400--400--400--400--400--400--400--400--400--400--400--400--400--400--400--400--400--400--400--400--400--400--400--400--400--400--400--400--400--400--400--400--400--400--400--400--400--400--400--400--400--400--400--400--400--400--400--400--400--400--400--400--400--400--400--400--400--400--400--400--400--400--400--400--400--400--400--400--400--400--400--400--400--400--400--400--400--400--400--400--400--400--400--400--400--400--400--400--400--400--400--400--400--400--400--400--400--400--400--400--400--400--400--400--400--400--400--400--400--400--400--400--400--400--400--400--400--400--400--400--400--400--400--400--400--400--400--400--400--400--400--400--400--400--400--400--400--400--400--400--400--400--400--400--400--400--400--400--400--400--400--400--400--400--400--400--400--400--400--400--400--400--400--400--400--400--400--400--400--400--400--400--400--400--400--400--400--400--400--400--400--400--400--400--400--400--400--400--400--400--400--400--400--400--400--400--400--400--400--400--400--400--400--400--400--400--400--400--400--400--400--400--400--400--400--400--400--400--400--400--400--400--400--400--400--400--400--400--400--400--400--400--400--400--400--400--400--400--400--400--400--400--400--400--400--400--400--400--400--400--400--400--400--400--400--400--400--400--400--400--400--400--400--400--400--400--400--400--400--400--400--400--400--400--400--400--400--400--400--400--400--400--400--400--400--400--400--400--400--400--400--400--400--400--400--400--400--400--400--400--400--400--400--400--400--400--400--400--400--400--400--400--400--400--400--400--400--400--400--400--400--400--400--400--400--400--400--400--400--400--400--400--400--400--400--400--400--400--400--400--400--400--400--400--400--400--400--400--400--400--400--400--400--400--400--400--400--400--400--400--400--400--400--400--400--400--400--400--400--400--400--400--400--400--400--400--400--400--400--400--400--400--400--400--400--400--400--400--400--400--400--400--400--400--400--400--400--400--400--400--400--400--400--400--400--400--400--400--400--400--400--400--400--400--400--400--400--400--400--400--400--400--400--400--400--400--400--400--400--400--400--400--400--400--400--400--400--400--400--400--400--400--400--400--400--400--400--400--400--400--400--400--400--400--400--400--400--400--400--400--400--400--400--400--400--400--400--400--400--400--400--400--400--400--400--400--400--400--400--400--400--400--400--400--400--400--400--400--400--400--400--400--400--400--400--400--400--400--400--400--400--400--400--400--400--400--400--400--400--400--400--400--400--400--400--400--400--400--400--400--400--400--400--400--400--400--400--400--400--400--400--400--400--400--400--400--400--400--400--400--400--400--400--400--400--400--400--400--400--400--400--400--400--400--400--400--400--400--400--400--400--400--400--400--400--400--400--400--400--400--400--400--400--400--400--400--400--400--400--400--400--400--400--400--400--400--400--400--400--400--400--400--400--400--400--400--400--400--400--400--400--400--400--400--400--400--400--400--400--400--400--400--400--400--400--400--400--400--400--400--400--400--400--400--400--400--400--400--400--400--400--400--400--400--400--400--400--400--400--400--400--400--400--400--400--400--400--400--400--400--400--400--400--400--400--400--400--400--400--400--400--400--400--400--400--400--400--400--400--400--400--400--400--400--400--400--400--400--400--400--400--400--400--400--400--400--400--400--400--400--400--400--400--400--400--400--400--400--400--400--400--400--400--400--400--400--400--400--400--400--400--400--400--400--400--400--400--400--400--400--400--400--400--400--400--400--400--400--400--400--400--400--400--400--400--400--400--400--400--400--400--400--400--400--400--400--400--400--400--400--400--400--400--400--400--400--400--400--400--400--400--400--400--400--400--400--400--400--400--400--400--400--400--400--400--400--400--400--400--400--400--400--400--400--400--400--400--400--400--400--400--400--400--400--400--400--400--400--400--400--400--400--400--400--400--400--400--400--400--400--400--400--400--400--400--400--400--400--400--400--400--400--400--400--400--400--400--400--400--400--400--400--400--400--400--400--400--400--400--400--400--400--400--400--400--400--400--400--400--400--400--400--400--400--400--400--400--400--400--400--400--400--400--400--400--400--400--400--400--400--400--400--400--400--400--400--400--400--400--400--400--400--400--400--400--400--400--400--400--400--400--400--400--400--400--400--400--400--400--400--400--400--400--400--400--400--400--400--400--400--400--400--400--400--400--400--400--400--400--400--400--400--400--400--400--400--400--400--400--400--400--400--400--400--400--400--400--400--400--400--400--400--400--400--400--400--400--400--400--400--400--400--400--400--400--400--400--400--400--400--400--400--400--400--400--400--400--400--400--400--400--400--400--400--400--400--400--400--400--400--400--400--400--400--400--400--400--400--400--400--400--400--400--400--400--400--400--400--400--400--400--400--400--400--400--400--400--400--400--400--400--400--400--400--400--400--400--400--400--400--400--400--400--400--400--400--400--400--400--400--400--400--400--400--400--400--400--400--400--400--400--400--400--400--400--400--400--400--400--400--400--400--400--400--400--400--400--400--400--400--400--400--400--400--400--400--400--400--400--400--400--400--400--400--400--400--400--400--400--400--400--400--400--400--400--400--400--400--400--400--400--400--400--400--400--400--400--400--400--400--400--400--400--400--400--400--400--400--400--400--400--400--400--400--400--400--400--400--400--400--400--400--400--400--400--400--400--400--400--400--400--400--400--400--400--400--400--400--400--400--400--400--400--400--400--400--400--400--400--400--400--400--400--400--400--400--400--400--400--400--400--400--400--400--400--400--400--400--400--400--400--400--400--400--400--400--400--400--400--400--400--400--400--400--400--400--400--400--400--400--400--400--400--400--400--400--400--400--400--400--400--400--400--400--400--400--400--400--400--400--400--400--400--400--400--400--400--400--400--400--400--400--400--400--400--400--400--400--400--400--400--400--400--400--400--400--400--400--400--400--400--400--400--400--400--400--400--400--400--400--400--400--400--400--400--400--400--400--400--400--400--400--400--400--400--400--400--400--400--400--400--400--400--400--400--400--400--400--400--400--400--400--400--400--400--400--400--400--400--400--400--400--400--400--400--400--400--400--400--400--400--400--400--400--400--400--400--400--400--400--400--400--400--400--400--400--400--400--400--400--400--400--400--400--400--400--400--400--400--400--400--400--400--400--400--400--400--400--400--400--400--400--400--400--400--400--400--400--400--400--400--400--400--400--400--400--400--400--400--400--400--400--400--400--400--400--400--400--400--400--400--400--400--400--400--400--400--400--400--400--400--400--400--400--400--400--400--400--400--400--400--400--400--400--400--400--400--400--400--400--400--400--400--400--400--400--400--400--400--400--400--400--400--400--400--400--400--400--400--400--400--400--400--400--400--400--400--400--400--400--400--400--400--400--400--400--400--400--400--400--400--400--400--400--400--400--400--400--400--400--400--400--400--400--400--400--400--400--400--400--400--400--400--400--400--400--400--400--400--400--400--400--400--400--400--400--400--400--400--400--400--400--400--400--400--400--400--400--400--400--400--400--400--400--400--400--400--400--400--400--400--400--400--400--400--400--400--400--400--400--400--400--400--400--400--400--400--400--400--400--400--400--400--400--400--400--400--400--400--400--400--400--400--400--400--400--400--400--400--400--400--400--400--400--400--400--400--400--400--400--400--400--400--400--400--400--400--400--400--400--400--400--400--400--400--400--400--400--400--400--400--400--400--400--400--400--400--400--400--400--400--400--400--400--400--400--400--400--400--400--400--400--400--400--400--400--400--400--400--400--400--400--400--400--400--400--400--400--400--400--400--400--400--400--400--400--400--400--400--400--400--400--400--400--400--400--400--400--400--400--400--400--400--400--400--400--400--400--400--400--400--400--400--400--400--400--400--400--400--400--400--400--400--400--400--400--400--400--400--400--400--400--400--400--400--400--400--400--400--400--400--400--400--400--400--400--400--400--400--400--400--400--400--400--400--400--400--400--400--400--400--400--400--400--400--400--400--400--400--400--400--400--400--400--400--400--400--400--400--400--400--400--400--400--400--400--400--400--400--400--400--400--400--400--400--400--400--400--400--400--400--400--400--400--400--400--400--400--400--400--400--400--400--400--400--400--400--400--400--400--400--400--400--400--400--400--400--400--400--400--400--400--400--400--400--400--400--400--400--400--400--400--400--400--400--400--400--400--400--400--400--400--400--400--400--400--400--400--400--400--400--400--400--400--400--400--400--400--400--400--400--400--400--400--400--400--400--400--400--400--400--400--400--400--400--400--400--400--400--400--400--400--400--400--400--400--400--400--400--400--400--400--400--400--400--400--400--400--400--400--400--400--400--400--400--400--400--400--400--400--400--400--400--400--400--400--400--400--400--400--400--400--400--400--400--400--400--400--400--400--400--400--400--400--400--400--400--400--400--400--400--400--400--400--400--400--400--400--400--400--400--400--400--400--400--400--400--400--400--400--400--400--400--400--400--400--400--400--400--400--400--400--400--400--400--400--400--400--400--400--400--400--400--400--400--400--400--400--400--400--400--400--400--400--400--400--400--400--400--400--400--400--400--400--400--400--400--400--400--400--400--400--400--400--400--400--400--400--400--400--400--400--400--400--400--400--400--400--400--400--400--400--400--400--400--400--400--400--400--400--400--400--400--400--400--400--400--400--400--400--400--400--400--400--400--400--400--400--400--400--400--400--400--400--400--400--400--400--400--400--400--400--400--400--400--400--400--400--400--400--400--400--400--400--400--400--400--400--400--400--400--400--400--400--400--400--400--400--400--400--400--400--400--400--400--400--400--400--400--400--400--400--400--400--400--400--400--400--400--400--400--400--400--400--400--400--400--400--400--400--400--400--400--400--400--400--400--400--400--400--400--400--400--400--400--400--400--400--400--400--400--400--400--400--400--400--400--400--400--400--400--400--400--400--400--400--400--400--400--400--400--400--400--400--400--400--400--400--400--400--400--400--400--400--400--400--400--400--400--400--400--400--400--400--400--400--400--400--400--400--400--400--400--400--400--400--400--400--400--400--400--400--400--400--400--400--400--400--400--400--400--400--400--400--400--400--400--400--400--400--400--400--400--400--400--400--400--400--400--400--400--400--400--400--400--400--400--400--400--400--400--400--400--400--400--400--400--400--400--400--400--400--400--400--400--400--400--400--400--400--400--400--400--400--400--400--400--400--400--400--400--400--400--400--400--400--400--400--400--400--400--400--400--400--400--400--400--400--400--400--400--400--400--400--400--400--400--400--400--400--400--400--400--400--400--400--400--400--400--400--400--400--400--400--400--400--400--400--400--400--400--400--400--400--400--400--400--400--400--400--400--400--400--400--400--400--400--400--400--400--400--400--400--400--400--400--400--400--400--400--400--400--400--400--400--400--400--400--400--400--400--400--400--400--400--400--400--400--400--400--400--400--400--400--400--400--400--400--400--400--400--400--400--400--400--400--400--400--400--400--400--400--400--400--400--400--400--400--400--400--400--400--400--400--400--400--400--400--400--400--400--400--400--400--400--400--400--400--400--400--400--400--400--400--400--400--400--400--400--400--400--400--400--400--400--400--400--400--400--400--400--400--400--400--400--400--400--400--400--400--400--400--400--400--400--400--400--400--400--400--400--400--400--400--400--400--400--400--400--400--400--400--400--400--400--400--400--400--400--400--400--400--400--400--400--400--400--400--400--400--400--400--400--400--400--400--400--400--400--400--400--400--400--400--400--400--400--400--400--400--400--400--400--400--400--400--400--400--400--400--400--400--400--400--400--400--400--400--400--400--400--400--400--400--400--400--400--400--400--400--400--400--400--400--400--400--400--400--400--400--400--400--400--400--400--400--400--400--400--400--400--400--400--400--400--400--400--400--400--400--400--400--400--400--400--400--400--400--400--400--400--400--400--400--400--400--400--400--400--400--400--400--400--400--400--400--400--400--400--400--400--400--400--400--400--400--400--400--400--400--400--400--400--400--400--400--400--400--400--400--400--400--400--400--400--400--400--400--400--400--400--400--400--400--400--400--400--400--400--400--400--400--400--400--400--400--400--400--400--400--400--400--400--400--400--400--400--400--400--400--400--400--400--400--400--400--400--400--400--400--400--400--400--400--400--400--400--400--400--400--400--400--400--400--400--400--400--400--400--400--400--400--400--400--400--400--400--400--400--400--400--400--400--400--400--400--400--400--400--400--400--400--400--400--400--400--400--400--400--400--400--400--400--400--400--400--400--400--400--400--400--400--400--400--400--400--400--400--400--400--400--400--400--400--400--400--400--400--400--400--400--400--400--400--400--400--400--400--400--400--400--400--400--400--400--400--400--400--400--400--400--400--400--400--400--400--400--400--400--400--400--400--400--400--400--400--400--400--400--400--400--400--400--400--400--400--400--400--400--400--400--400--400--400--400--400--400--400--400--400--400--400--400--400--400--400--400--400--400--400--400--400--400--400--400--400--400--400--400--400--400--400--400--400--400--400--400--400--400--400--400--400--400--400--400--400--400--400--400--400--400--400--400--400--400--400--400--400--400--400--400--400--400--400--400--400--400--400--400--400--400--400--400--400--400--400--400--400--400--400--400--400--400--400--400--400--400--400--400--400--400--400--400--400--400--400--400--400--400--400--400--400--400--400--400--400--400--400--400--400--400--400--400--400--400--400--400--400--400--400--400--400--400--400--400--400--400--400--400--400--400--400--400--400--400--400--400--400--400--400--400--400--400--400--400--400--400--400--400--400--400--400--400--400--400--400--400--400--400--400--400--400--400--400--400--400--400--400--400--400--400--400--400--400--400--400--400--400--400--400--400--400--400--400--400--400--400--400--400--400--400--400--400--400--400--400--400--400--400--400--400--400--400--400--400--400--400--400--400--400--400--400--400--400--400--400--400--400--400--400--400--400--400--400--400--400--400--400--400--400--400--400--400--400--400--400--400--400--400--400--400--400--400--400--400--400--400--400--400--400--400--400--400--400--400--400--400--400--400--400--400--400--400--400--400--400--400--400--400--400--400--400--400--400--400--400--400--400--400--400--400--400--400--400--400--400--400--400--400--400--400--400--400--400--400--400--400--400--400--400--400--400--400--400--400--400--400--400--400--400--400--400--400--400--400--400--400--400--400--400--400--400--400--400--400--400--400--400--400--400--400--400--400--400--400--400--400--400--400--400--400--400--400--400--400--400--400--400--400--400--400--400--400--400--400--400--400--400--400--400--400--400--400--400--400--400--400--400--400--400--400--400--400--400--400--400--400--400--400--400--400--400--400--400--400--400--400--400--400--400--400--400--400--400--400--400--400--400--400--400--400--400--400--400--400--400--400--400--400--400--400--400--400--400--400--400--400--400--400--400--400--400--400--400--400--400--400--400--400--400--400--400--400--400--400--400--400--400--400--400--400--400--400--400--400--400--400--400--400--400--400--400--400--400--400--400--400--400--400--400--400--400--400--400--400--400--400--400--400--400--400--400--400--400--400--400--400--400--400--400--400--400--400--400--400--400--400--400--400--400--400--400--400--400--400--400--400--400--400--400--400--400--400--400--400--400--400--400--400--400--400--400--400--400--400--400--400--400--400--400--400--400--400--400--400--400--400--400--400--400--400--400--400--400--400--400--400--400--400--400--400--400--400--400--400--400--400--400--400--400--400--400--400--400--400--400--400--400--400--400--400--400--400--400--400--400--400--400--400--400--400--400--400--400--400--400--400--400--400--400--400--400--400--400--400--400--400--400--400--400--400--400--400--400--400--400--400--400--400--400--400--400--400--400--400--400--400--400--400--400--400--400--400--400--400--400--400--400--400--400--400--400--400--400--400--400--400--400--400--400--400--400--400--400--400--400--400--400--400--400--400--400--400--400--400--400--400--400--400--400--400--400--400--400--400--400--400--400--400--400--400--400--400--400--400--400--400--400--400--400--400--400--400--400--400--400--400--400--400--400--400--400--400--400--400--400--400--400--400--400--400--400--400--400--400--400--400--400--400--400--400--400--400--400--400--400--400--400--400--400--400--400--400--400--400--400--400--400--400--400--400--400--400--400--400--400--400--400--400--400--400--400--400--400--400--400--400--400--400--400--400--400--400--400--400--400--400--400--400--400--400--400--400--400--400--400--400--400--400--400--400--400--400--400--400--400--400--400--400--400--400--400--400--400--400--400--400--400--400--400--400--400--400--400--400--400--400--400--400--400--400--400--400--400--400--400--400--400--400--400--400--400--400--400--400--400--400--400--400--400--400--400--400--400--400--400--400--400--400--400--400--400--400--400--400--400--400--400--400--400--400--400--400--400--400--400--400--400--400--400--400--400--400--400--400--400--400--400--400--400--400--400--400--400--400--400--400--400--400--400--400--400--400--400--400--400--400--400--400--400--400--400--400--400--400--400--400--400--400--400--400--400--400--400--400--400--400--400--400--400--400--400--400--400--400--400--400--400--400--400--400--400--400--400--400--400--400--400--400--400--400--400--400--400--400--400--400--400--400--400--400--400--400--400--400--400--400--400--400--400--400--400--400--400--400--400--400--400--400--400--400--400--400--400--400--400--400--400--400--400--400--400--400--400--400--400--400--400--400--400--400--400--400--400--400--400--400--400--400--400--400--400--400--400--400--400--400--400--400--400--400--400--400--400--400--400--400--400--400--400--400--400--400--400--400--400--400--400--400--400--400--400--400--400--400--400--400--400--400--400--400--400--400--400--400--400--400--400--400--400--400--400--400--400--400--400--400--400--400--400--400--400--400--400--400--400--400--400--400--400--400--400--400--400--400--400--400--400--400--400--400--400--400--400--400--400--400--400--400--400--400--400--400--400--400--400--400--400--400--400--400--400--400--400--400--400--400--400--400--400--400--400--400--400--400--400--400--400--400--400--400--400--400--400--400--400--400--400--400--400--400--400--400--400--400--400--400--400--400--400--400--400--400--400--400--400--400--400--400--400--400--400--400--400--400--400--400--400--400--400--400--400--400--400--400--400--400--400--400--400--400--400--400--400--400--400--400--400--400--400--400--400--400--400--400--400--400--400--400--400--400--400--400--400--400--400--400--400--400--400--400--400--400--400--400--400--400--400--400--400--400--400--400--400--400--400--400--400--400--400--400--400--400--400--400--400--400--400--400--400--400--400--400--400--400--400--400--400--400--400--400--400--400--400--400--400--400--400--400--400--400--400--400--400--400--400--400--400--400--400--400--400--400--400--400--400--400--400--400--400--400--400--400--400--400--400--400--400--400--400--400--400--400--400--400--400--400--400--400--400--400--400--400--400--400--400--400--400--400--400--400--400--400--400--400--400--400--400--400--400--400--400--400--400--400--400--400--400--400--400--400--400--400--400--400--400--400--400--400--400--400--400--400--400--400--400--400--400--400--400--400--400--400--400--400--400--400--400--400--400--400--400--400--400--400--400--400--400--400--400--400--400--400--400--400--400--400--400--400--400--400--400--400--400--400--400--400--400--400--400--400--400--400--400--400--400--400--400--400--400--400--400--400--400--400--400--400--400--400--400--400--400--400--400--400--400--400--400--400--400--400--400--400--400--400--400--400--400--400--400--400--400--400--400--400--400--400--400--400--400--400--400--400--400--400--400--400--400--400--400--400--400--400--400--400--400--400--400--400--400--400--400--400--400--400--400--400--400--400--400--400--400--400--400--400--400--400--400--400--400--400--400--400--400--400--400--400--400--400--400--400--400--400--400--400--400--400--400--400--400--400--400--400--400--400--400--400--400--400--400--400--400--400--400--400--400--400--400--400--400--400--400--400--400--400--400--400--400--400--400--400--400--400--400--400--400--400--400--400--400--400--400--400--400--400--400--400--400--400--400--400--400--400--400--400--400--400--400--400--400--400--400--400--400--400--400--400--400--400--400--400--400--400--400--400--400--400--400--400--400--400--400--400--400--400--400--400--400--400--400--400--400--400--400--400--400--400--400--400--400--400--400--400--400--400--400--400--400--400--400--400--400--400--400--400--400--400--400--400--400--400--400--400--400--400--400--400--400--400--400--400--400--400--400--400--400--400--400--400--400--400--400--400--400--400--400--400--400--400--400--400--400--400--400--400--400--400--400--400--400--400--400--400--400--400--400--400--400--400--400--400--400--400--400--400--400--400--400--400--400--400--400--400--400--400--400--400--400--400--400--400--400--400--400--400--400--400--400--400--400--400--400--400--400--400--400--400--400--400--400--400--400--400--400--400--400--400--400--400--400--400--400--400--400--400--400--400--400--400--400--400--400--400--400--400--400--400--400--400--400--400--400--400--400--400--400--400--400--400--400--400--400--400--400--400--400--400--400--400--400--400--400--400--400--400--400--400--400--400--400--400--400--400--400--400--400--400--400--400--400--400--400--400--400--400--400--400--400--400--400--400--400--400--400--400--400--400--400--400--400--400--400--400--400--400--400--400--400--400--400--400--400--400--400--400--400--400--400--400--400--400--400--400--400--400--400--400--400--400--400--400--400--400--400--400--400--400--400--400--400--400--400--400--400--400--400--400--400--400--400--400--400--400--400--400--400--400--400--400--400--400--400--400--400--400--400--400--400--400--400--400--400--400--400--400--400--400--400--400--400--400--400--400--400--400--400--400--400--400--400--400--400--400--400--400--400--400--400--400--400--400--400--400--400--400--400--400--400--400--400--400--400--400--400--400--400--400--400--400--400--400--400--400--400--400--400--400--400--400--400--400--400--400--400--400--400--400--400--400--400--400--400--400--400--400--400--400--400--400--400--400--400--400--400--400--400--400--400--400--400--400--400--400--400--400--400--400--400--400--400--400--400--400--400--400--400--400--400--400--400--400--400--400--400--400--400--400--400--400--400--400--400--400--400--400--400--400--400--400--400--400--400--400--400--400--400--400--400--400--400--400--400--400--400--400--400--400--400--400--400--400--400--400--400--400--400--400--400--400--400--400--400--400--400--400--400--400--400--400--400--400--400--400--400--400--400--400--400--400--400--400--400--400--400--400--400--400--400--400--400--400--400--400--400--400--400--400--400--400--400--400--400--400--400--400--400--400--400--400--400--400--400--400--400--400--400--400--400--400--400--400--400--400--400--400--400--400--400--400--400--400--400--400--400--400--400--400--400--400--400--400--400--400--400--400--400--400--400--400--400--400--400--400--400--400--400--400--400--400--400--400--400--400--400--400--400--400--400--400--400--400--400--400--400--400--400--400--400--400--400--400--400--400--400--400--400--400--400--400--400--400--400--400--400--400--400--400--400--400--400--400--400--400--400--400--400--400--400--400--400--400--400--400--400--400--400--400--400--400--400--400--400--400--400--400--400--400--400--400--400--400--400--400--400--400--400--400--400--400--400--400--400--400--400--400--400--400--400--400--400--400--400--400--400--400--400--400--400--400--400--400--400--400--400--400--400--400--400--400--400--400--400--400--400--400--400--400--400--400--400--400--400--400--400--400--400--400--400--400--400--400--400--400--400--400--400--400--400--400--400--400--400--400--400--400--400--400--400--400--400--400--400--400--400--400--400--400--400--400--400--400--400--400--400--400--400--400--400--400--400--400--400--400--400--400--400--400--400--400--400--400--400--400--400--400--400--400--400--400--400--400--400--400--400--400--400--400--400--400--400--400--400--400--400--400--400--400--400--400--400--400--400--400--400--400--400--400--400--400--400--400--400--400--400--400--400--400--400--400--400--400--400--400--400--400--400--400--400--400--400--400--400--400--400--400--400--400--400--400--400--400--400--400--400--400--400--400--400--400--400--400--400--400--400--400--400--400--400--400--400--400--400--400--400--400--400--400--400--400--400--400--400--400--400--400--400--400--400--400--400--400--400--400--400--400--400--400--400--400--400--400--400--400--400--400--400--400--400--400--400--400--400--400--400--400--400--400--400--400--400--400--400--400--400--400--400--400--400--400--400--400--400--400--400--400--400--400--400--400--400--400--400--400--400--400--400--400--400--400--400--400--400--400--400--400--400--400--400--400--400--400--400--400--400--400--400--400--400--400--400--400--400--400--400--400--400--400--400--400--400--400--400--400--400--400--400--400--400--400--400--400--400--400--400--400--400--400--400--400--400--400--400--400--400--400--400--400--400--400--400--400--400--400--400--400--400--400--400--400--400--400--400--400--400--400--400--400--400--400--400--400--400--400--400--400--400--400--400--400--400--400--400--400--400--400--400--400--400--400--400--400--400--400--400--400--400--400--400--400--400--400--400--400--400--400--400--400--400--400--400--400--400--400--400--400--400--400--400--400--400--400--400--400--400--400--400--400--400--400--400--400--400--400--400--400--400--400--400--400--400--400--400--400--400--400--400--400--400--400--400--400--400--400--400--400--400--400--400--400--400--400--400--400--400--400--400--400--400--400--400--400--400--400--400--400--400--400--400--400--400--400--400--400--400--400--400--400--400--400--400--400--400--400--400--400--400--400--400--400--400--400--400--400--400--400--400--400--400--400--400--400--400--400--400--400--400--400--400--400--400--400--400--400--400--400--400--400--400--400--400--400--400--400--400--400--400--400--400--400--400--400--400--400--400--400--400--400--400--400--400--400--400--400--400--400--400--400--400--400--400--400--400--400--400--400--400--400--400--400--400--400--400--400--400--400--400--400--400--400--400--400--400--400--400--400--400--400--400--400--400--400--400--400--400--400--400--400--400--400--400--400--400--400--400--400--400--400--400--400--400--400--400--400--400--400--400--400--400--400--400--400--400--400--400--400--400--400--400--400--400--400--400--400--400--400--400--400--400--400--400--400--400--400--400--400--400--400--400--400--400--400--400--400--400--400--400--400--400--400--400--400--400--400--400--400--400--400--400--400--400--400--400--400--400--400--400--400--400--400--400--400--400--400--400--400--400--400--400--400--400--400--400--400--400--400--400--400--400--400--400--400--400--400--400--400--400--400--400--400--400--400--400--400--400--400--400--400--400--400--400--400--400--400--400--400--400--400--400--400--400--400--400--400--400--400--400--400--400--400--400--400--400--400--400--400--400--400--400--400--400--400--400--400--400--400--400--400--400--400--400--400--400--400--400--400--400--400--400--400--400--400--400--400--400--400--400--400--400--400--400--400--400--400--400--400--400--400--400--400--400--400--400--400--400--400--400--400--400--400--400--400--400--400--400--400--400--400--400--400--400--400--400--400--400--400--400--400--400--400--400--400--400--400--400--400--400--400--400--400--400--400--400--400--400--400--400--400--400--400--400--400--400--400--400--400--400--400--400--400--400--400--400--400--400--400--400--400--400--400--400--400--400--400--400--400--400--400--400--400--400--400--400--400--400--400--400--400--400--400--400--400--400--400--400--400--400--400--400--400--400--400--400--400--400--400--400--400--400--400--400--400--400--400--400--400--400--400--400--400--400--400--400--400--400--400--400--400--400--400--400--400--400--400--400--400--400--400--400--400--400--400--400--400--400--400--400--400--400--400--400--400--400--400--400--400--400--400--400--400--400--400--400--400--400--400--400--400--400--400--400--400--400--400--400--400--400--400--400--400--400--400--400--400--400--400--400--400--400--400--400--400--400--400--400--400--400--400--400--400--400--400--400--400--400--400--400--400--400--400--400--400--400--400--400--400--400--400--400--400--400--400--400--400--400--400--400--400--400--400--400--400--400--400--400--400--400--400--400--400--400--400--400--400--400--400--400--400--400--400--400--400--400--400--400--400--400--400--400--400--400--400--400--400--400--400--400--400--400--400--400--400--400--400--400--400--400--400--400--400--400--400--400--400--400--400--400--400--400--400--400--400--400--400--400--400--400--400--400--400--400--400--400--400--400--400--400--400--400--400--400--400--400--400--400--400--400--400--400--400--400--400--400--400--400--400--400--400--400--400--400--400--400--400--400--400--400--400--400--400--400--400--400--400--400--400--400--400--400--400--400--400--400--400--400--400--400--400--400--400--400--400--400--400--400--400--400--400--400--400--400--400--400--400--400--400--400--400--400--400--400--400--400--400--400--400--400--400--400--400--400--400--400--400--400--400--400--400--400--400--400--400--400--400--400--400--400--400--400--400--400--400--400--400--400--400--400--400--400--400--400--400--400--400--400--400--400--400--400--400--400--400--400--400--400--400--400--400--400--400--400--400--400--400--400--400--400--400--400--400--400--400--400--400--400--400--400--400--400--400--400--400--400--400--400--400--400--400--400--400--400--400--400--400--400--400--400--400--400--400--400--400--400--400--400--400--400--400--400--400--400--400--400--400--400--400--400--400--400--400--400--400--400--400--400--400--400--400--400--400--400--400--400--400--400--400--400--400--400--400--400--400--400--400--400--400--400--400--400--400--400--400--400--400--400--400--400--400--400--400--400--400--400--400--400--400--400--400--400--400--400--400--400--400--400--400--400--400--400--400--400--400--400--400--400--400--400--400--400--400--400--400--400--400--400--400--400--400--400--400--400--400--400--400--400--400--400--400--400--400--400--400--400--400--400--400--400--400--400--400--400--400--400--400--400--400--400--400--400--400--400--400--400--400--400--400--400--400--400--400--400--400--400--400--400--400--400--400--400--400--400--400--400--400--400--400--400--400--400--400--400--400--400--400--400--400--400--400--400--400--400--400--400--400--400--400--400--400--400--400--400--400--400--400--400--400--400--400--400--400--400--400--400--400--400--400--400--400--400--400--400--400--400--400--400--400--400--400--400--400--400--400--400--400--400--400--400--400--400--400--400--400--400--400--400--400--400--400--400--400--400--400--400--400--400--400--400--400--400--400--400--400--400--400--400--400--400--400--400--400--400--400--400--400--400--400--400--400--400--400--400--400--400--400--400--400--400--400--400--400--400--400--400--400--400--400--400--400--400--400--400--400--400--400--400--400--400--400--400--400--400--400--400--400--400--400--400--400--400--400--400--400--400--400--400--400--400--400--400--400--400--400--400--400--400--400--400--400--400--400--400--400--400--400--400--400--400--400--400--400--400--400--400--400--400--400--400--400--400--400--400--400--400--400--400--400--400--400--400--400--400--400--400--400--400--400--400--400--400--400--400--400--400--400--400--400--400--400--400--400--400--400--400--400--400--400--400--400--400--400--400--400--400--400--400--400--400--400--400--400--400--400--400--400--400--400--400--400--400--400--400--400--400--400--400--400--400--400--400--400--400--400--400--400--400--400--400--400--400--400--400--400--400--400--400--400--400--400--400--400--400--400--400--400--400--400--400--400--400--400--400--400--400--400--400--400--400--400--400--400--400--400--400--400--400--400--400--400--400--400--400--400--400--400--400--400--400--400--400--400--400--400--400--400--400--400--400--400--400--400--400--400--400--400--400--400--400--400--400--400--400--400--400--400--400--400--400--400--400--400--400--400--400--400--400--400--400--400--400--400--400--400--400--400--400--400--400--400--400--400--400--400--400--400--400--400--400--400--400--400--400--400--400--400--400--400--400--400--400--400--400--400--400--400--400--400--400--400--400--400--400--400--400--400--400--400--400--400--400--400--400--400--400--400--400--400--400--400--400--400--400--400--400--400--400--400--400--400--400--400--400--400--400--400--400--400--400--400--400--400--400--400--400--400--400--400--400--400--400--400--400--400--400--400--400--400--400--400--400--400--400--400--400--400--400--400--400--400--400--400--400--400--400--400--400--400--400--400--400--400--400--400--400--400--400--400--400--400--400--400--400--400--400--400--400--400--400--400--400--400--400--400--400--400--400--400--400--400--400--400--400--400--400--400--400--400--400--400--400--400--400--400--400--400--400--400--400--400--400--400--400--400--400--400--400--400--400--400--400--400--400--400--400--400--400--400--400--400--400--400--400--400--400--400--400--400--400--400--400--400--400--400--400--400--400--400--400--400--400--400--400--400--400--400--400--400--400--400--400--400--400--400--400--400--400--400--400--400--400--400--400--400--400--400--400--400--400--400--400--400--400--400--400--400--400--400--400--400--400--400--400--400--400--400--400--400--400--400--400--400--400--400--400--400--400--400--400--400--400--400--400--400--400--400--400--400--400--400--400--400--400--400--400--400--400--400--400--400--400--400--400--400--400--400--400--400--400--400--400--400--400--400--400--400--400--400--400--400--400--400--400--400--400--400--400--400--400--400--400--400--400--400--400--400--400--400--400--400--400--400--400--400--400--400--400--400--400--400--400--400--400--400--400--400--400--400--400--400--400--400--400--400--400--400--400--400--400--400--400--400--400--400--400--400--400--400--400--400--400--400--400--400--400--400--400--400--400--400--400--400--400--400--400--400--400--400--400--400--400--400--400--400--400--400--400--400--400--400--400--400--400--400--400--400--400--400--400--400--400--400--400--400--400--400--400--400--400--400--400--400--400--400--400--400--400--400--400--400--400--400--400--400--400--400--400--400--400--400--400--400--400--400--400--400--400--400--400--400--400--400--400--400--400--400--400--400--400--400--400--400--400--400--400--400--400--400--400--400--400--400--400--400--400--400--400--400--400--400--400--400--400--400--400--400--400--400--400--400--400--400--400--400--400--400--400--400--400--400--400--400--400--400--400--400--400--400--400--400--400--400--400--400--400--400--400--400--400--400--400--400--400--400--400--400--400--400--400--400--400--400--400--400--400--400--400--400--400--400--400--400--400--400--400--400--400--400--400--400--400--400--400--400--400--400--400--400--400--400--400--400--400--400--400--400--400--400--400--400--400--400--400--400--400--400--400--400--400--400--400--400--400--400--400--400--400--400--400--400--400--400--400--400--400--400--400--400--400--400--400--400--400--400--400--400--400--400--400--400--400--400--400--400--400--400--400--400--400--400--400--400--400--400--400--400--400--400--400--400--400--400--400--400--400--400--400--400--400--400--400--400--400--400--400--400--400--400--400--400--400--400--400--400--400--400--400--400--400--400--400--400--400--400--400--400--400--400--400--400--400--400--400--400--400--400--400--400--400--400--400--400--400--400--400--400--400--400--400--400--400--400--400--400--400--400--400--400--400--400--400--400--400--400--400--400--400--400--400--400--400--400--400--400--400--400--400--400--400--400--400--400--400--400--400--400--400--400--400--400--400--400--400--400--400--400--400--400--400--400--400--400--400--400--400--400--400--400--400--400--400--400--400--400--400--400--400--400--400--400--400--400--400--400--400--400--400--400--400--400--400--400--400--400--400--400--400--400--400--400--400--400--400--400--400--400--400--400--400--400--400--400--400--400--400--400--400--400--400--400--400--400--400--400--400--400--400--400--400--400--400--400--400--400--400--400--400--400--400--400--400--400--400--400--400--400--400--400--400--400--400--400--400--400--400--400--400--400--400--400--400--400--400--400--400--400--400--400--400--400--400--400--400--400--400--400--400--400--400--400--400--400--400--400--400--400--400--400--400--400--400--400--400--400--400--400--400--400--400--400--400--400--400--400--400--400--400--400--400--400--400--400--400--400--400--400--400--400--400--400--400--400--400--400--400--400--400--400--400--400--400--400--400--400--400--400--400--400--400--400--400--400--400--400--400--400--400--400--400--400--400--400--400--400--400--400--400--400--400--400--400--400--400--400--400--400--400--400--400--400--400--400--400--400--400--400--400--400--400--400--400--400--400--400--400--400--400--400--400--400--400--400--400--400--400--400--400--400--400--400--400--400--400--400--400--400--400--400--400--400--400--400--400--400--400--400--400--400--400--400--400--400--400--400--400--400--400--400--400--400--400--400--400--400--400--400--400--400--400--400--400--400--400--400--400--400--400--400--400--400--400--400--400--400--400--400--400--400--400--400--400--400--400--400--400--400--400--400--400--400--400--400--400--400--400--400--400--400--400--400--400--400--400--400--400--400--400--400--400--400--400--400--400--400--400--400--400--400--400--400--400--400--400--400--400--400--400--400--400--400--400--400--400--400--400--400--400--400--400--400--400--400--400--400--400--400--400--400--400--400--400--400--400--400--400--400--400--400--400--400--400--400--400--400--400--400--400--400--400--400--400--400--400--400--400--400--400--400--400--400--400--400--400--400--400--400--400--400--400--400--400--400--400--400--400--400--400--400--400--400--400--400--400--400--400--400--400--400--400--400--400--400--400--400--400--400--400--400--400--400--400--400--400--400--400--400--400--400--400--400--400--400--400--400--400--400--400--400--400--400--400--400--400--400--400--400--400--400--400--400--400--400--400--400--400--400--400--400--400--400--400--400--400--400--400--400--400--400--400--400--400--400--400--400--400--400--400--400--400--400--400--400--400--400--400--400--400--400--400--400--400--400--400--400--400--400--400--400--400--400--400--400--400--400--400--400--400--400--400--400--400--400--400--400--400--400--400--400--400--400--400--400--400--400--400--400--400--400--400--400--400--400--400--400--400--400--400--400--400--400--400--400--400--400--400--400--400--400--400--400--400--400--400--400--400--400--400--400--400--400--400--400--400--400--400--400--400--400--400--400--400--400--400--400--400--400--400--400--400--400--400--400--400--400--400--400--400--400--400--400--400--400--400--400--400--400--400--400--400--400--400--400--400--400--400--400--400--400--400--400--400--400--400--400--400--400--400--400--400--400--400--400--400--400--400--400--400--400--400--400--400--400--400--400--400--400--400--400--400--400--400--400--400--400--400--400--400--400--400--400--400--400--400--400--400--400--400--400--400--400--400--400--400--400--400--400--400--400--400--400--400--400--400--400--400--400--400--400--400--400--400--400--400--400--400--400--400--400--400--400--400--400--400--400--400--400--400--400--400--400--400--400--400--400--400--400--400--400--400--400--400--400--400--400--400--400--400--400--400--400--400--400--400--400--400--400--400--400--400--400--400--400--400--400--400--400--400--400--400--400--400--400--400--400--400--400--400--400--400--400--400--400--400--400--400--400--400--400--400--400--400--400--400--400--400--400--400--400--400--400--400--400--400--400--400--400--400--400--400--400--400--400--400--400--400--400--400--400--400--400--400--400--400--400--400--400--400--400--400--400--400--400--400--400--400--400--400--400--400--400--400--400--400--400--400--400--400--400--400--400--400--400--400--400--400--400--400--400--400--400--400--400--400--400--400--400--400--400--400--400--400--400--400--400--400--400--400--400--400--400--400--400--400--400--400--400--400--400--400--400--400--400--400--400--400--400--400--400--400--400--400--400--400--400--400--400--400--400--400--400--400--400--400--400--400--400--400--400--400--400--400--400--400--400--400--400--400--400--400--400--400--400--400--400--400--400--400--400--400--400--400--400--400--400--400--400--400--400--400--400--400--400--400--400--400--400--400--400--400--400--400--400--400--400--400--400--400--400--400--400--400--400--400--400--400--400--400--400--400--400--400--400--400--400--400--400--400--400--400--400--400--400--400--400--400--400--400--400--400--400--400--400--400--400--400--400--400--400--400--400--400--400--400--400--400--400--400--400--400--400--400--400--400--400--400--400--400--400--400--400--400--400--400--400--400--400--400--400--400--400--400--400--400--400--400--400--400--400--400--400--400--400--400--400--400--400--400--400--400--400--400--400--400--400--400--400--400--400--400--400--400--400--400--400--400--400--400--400--400--400--400--400--400--400--400--400--400--400--400--400--400--400--400--400--400--400--400--400--400--400--400--400--400--400--400--400--400--400--400--400--400--400--400--400--400--400--400--400--400--400--400--400--400--400--400--400--400--400--400--400--400--400--400--400--400--400--400--400--400--400--400--400--400--400--400--400--400--400--400--400--400--400--400--400--400--400--400--400--400--400--400--400--400--400--400--400--400--400--400--400--400--400--400--400--400--400--400--400--400--400--400--400--400--400--400--400--400--400--400--400--400--400--400--400--400--400--400--400--400--400--400--400--400--400--400--400--400--400--400--400--400--400--400--400--400--400--400--400--400--400--400--400--400--400--400--400--400--400--400--400--400--400--400--400--400--400--400--400--400--400--400--400--400--400--400--400--400--400--400--400--400--400--400--400--400--400--400--400--400--400--400--400--400--400--400--400--400--400--400--400--400--400--400--400--400--400--400--400--400--400--400--400--400--400--400--400--400--400--400--400--400--400--400--400--400--400--400--400--400--400--400--400--400--400--400--400--400--400--400--400--400--400--400--400--400--400--400--400--400--400--400--400--400--400--400--400--400--400--400--400--400--400--400--400--400--400--400--400--400--400--400--400--400--400--400--400--400--400--400--400--400--400--400--400--400--400--400--400--400--400--400--400--400--400--400--400--400--400--400--400--400--400--400--400--400--400--400--400--400--400--400--400--400--400--400--400--400--400--400--400--400--400--400--400--400--400--400--400--400--400--400--400--400--400--400--400--400--400--400--400--400--400--400--400--400--400--400--400--400--400--400--400--400--400--400--400--400--400--400--400--400--400--400--400--400--400--400--400--400--400--400--400--400--400--400--400--400--400--400--400--400--400--400--400--400--400--400--400--400--400--400--400--400--400--400--400--400--400--400--400--400--400--400--400--400--400--400--400--400--400--400--400--400--400--400--400--400--400--400--400--400--400--400--400--400--400--400--400--400--400--400--400--400--400--400--400--400--400--400--400--400--400--400--400--400--400--400--400--400--400--400--400--400--400--400--400--400--400--400--400--400--400--400--400--400--400--400--400--400--400--400--400--400--400--400--400--400--400--400--400--400--400--400--400--400--400--400--400--400--400--400--400--400--400--400--400--400--400--400--400--400--400--400--400--400--400--400--400--400--400--400--400--400--400--400--400--400--400--400--400--400--400--400--400--400--400--400--400--400--400--400--400--400--400--400--400--400--400--400--400--400--400--400--400--400--400--400--400--400--400--400--400--400--400--400--400--400--400--400--400--400--400--400--400--400--400--400--400--400--400--400--400--400--400--400--400--400--400--400--400--400--400--400--400--400--400--400--400--400--400--400--400--400--400--400--400--400--400--400--400--400--400--400--400--400--400--400--400--400--400--400--400--400--400--400--400--400--400--400--400--400--400--400--400--400--400--400--400--400--400--400--400--400--400--400--400--400--400--400--400--400--400--400--400--400--400--400--400--400--400--400--400--400--400--400--400--400--400--400--400--400--400--400--400--400--400--400--400--400--400--400--400--400--400--400--400--400--400--400--400--400--400--400--400--400--400--400--400--400--400--400--400--400--400--400--400--400--400--400--400--400--400--400--400--400--400--400--400--400--400--400--400--400--400--400--400--400--400--400--400--400--400--400--400--400--400--400--400--400--400--400--400--400--400--400--400--400--400--400--400--400--400--400--400--400--400--400--400--400--400--400--400--400--400--400--400--400--400--400--400--400--400--400--400--400--400--400--400--400--400--400--400--400--400--400--400--400--400--400--400--400--400--400--400--400--400--400--400--400--400--400--400--400--400--400--400--400--400--400--400--400--400--400--400--400--400--400--400--400--400--400--400--400--400--400--400--400--400--400--400--400--400--400--400--400--400--400--400--400--400--400--400--400--400--400--400--400--400--400--400--400--400--400--400--400--400--400--400--400--400--400--400--400--400--400--400--400--400--400--400--400--400--400--400--400--400--400--400--400--400--400--400--400--400--400--400--400--400--400--400--400--400--400--400--400--400--400--400--400--400--400--400--400--400--400--400--400--400--400--400--400--400--400--400--400--400--400--400--400--400--400--400--400--400--400--400--400--400--400--400--400--400--400--400--400--400--400--400--400--400--400--400--400--400--400--400--400--400--400--400--400--400--400--400--400--400--400--400--400--400--400--400--400--400--400--400--400--400--400--400--400--400--400--400--400--400--400--400--400--400--400--400--400--400--400--400--400--400--400--400--400--400--400--400--400--400--400--400--400--400--400--400--400--400--400--400--400--400--400--400--400--400--400--400--400--400--400--400--400--400--400--400--400--400--400--400--400--400--400--400--400--400--400--400--400--400--400--400--400--400--400--400--400--400--400--400--400--400--400--400--400--400--400--400--400--400--400--400--400--400--400--400--400--400--400--400--400--400--400--400--400--400--400--400--400--400--400--400--400--400--400--400--400--400--400--400--400--400--400--400--400--400--400--400--400--400--400--400--400--400--400--400--400--400--400--400--400--400--400--400--400--400--400--400--400--400--400--400--400--400--400--400--400--400--400--400--400--400--400--400--400--400--400--400--400--400--400--400--400--400--400--400--400--400--400--400--400--400--400--400--400--400--400--400--400--400--400--400--400--400--400--400--400--400--400--400--400--400--400--400--400--400--400--400--400--400--400--400--400--400--400--400--400--400--400--400--400--400--400--400--400--400--400--400--400--400--400--400--400--400--400--400--400--400--400--400--400--400--400--400--400--400--400--400--400--400--400--400--400--400--400--400--400--400--400--400--400--400--400--400--400--400--400--400--400--400--400--400--400--400--400--400--400--400--400--400--400--400--400--400--400--400--400--400--400--400--400--400--400--400--400--400--400--400--400--400--400--400--400--400--400--400--400--400--400--400--400--400--400--400--400--400--400--400--400--400--400--400--400--400--400--400--400--400--400--400--400--400--400--400--400--400--400--400--400--400--400--400--400--400--400--400--400--400--400--400--400--400--400--400--400--400--400--400--400--400--400--400--400--400--400--400--400--400--400--400--400--400--400--400--400--400--400--400--400--400--400--400--400--400--400--400--400--400--400--400--400--400--400--400--400--400--400--400--400--400--400--400--400--400--400--400--400--400--400--400--400--400--400--400--400--400--400--400--400--400--400--400--400--400--400--400--400--400--400--400--400--400--400--400--400--400--400--400--400--400--400--400--400--400--400--400--400--400--400--400--400--400--400--400--400--400--400--400--400--400--400--400--400--400--400--400--400--400--400--400--400--400--400--400--400--400--400--400--400--400--400--400--400--400--400--400--400--400--400--400--400--400--400--400--400--400--400--400--400--400--400--400--400--400--400--400--400--400--400--400--400--400--400--400--400--400--400--400--400--400--400--400--400--400--400--400--400--400--400--400--400--400--400--400--400--400--400--400--400--400--400--400--400--400--400--400--400--400--400--400--400--400--400--400--400--400--400--400--400--400--400--400--400--400--400--400--400--400--400--400--400--400--400--400--400--400--400--400--400--400--400--400--400--400--400--400--400--400--400--400--400--400--400--400--400--400--400--400--400--400--400--400--400--400--400--400--400--400--400--400--400--400--400--400--400--400--400--400--400--400--400--400--400--400--400--400--400--400--400--400--400--400--400--400--400--400--400--400--400--400--400--400--400--400--400--400--400--400--400--400--400--400--400--400--400--400--400--400--400--400--400--400--400--400--400--400--400--400--400--400--400--400--400--400--400--400--400--400--400--400--400--400--400--400--400--400--400--400--400--400--400--400--400--400--400--400--400--400--400--400--400--400--400--400--400--400--400--400--400--400--400--400--400--400--400--400--400--400--400--400--400--400--400--400--400--400--400--400--400--400--400--400--400--400--400--400--400--400--400--400--400--400--400--400--400--400--400--400--400--400--400--400--400--400--400--400--400--400--400--400--400--400--400--400--400--400--400--400--400--400--400--400--400--400--400--400--400--400--400--400--400--400--400--400--400--400--400--400--400--400--400--400--400--400--400--400--400--400--400--400--400--400--400--400--400--400--400--400--400--400--400--400--400--400--400--400--400--400--400--400--400--400--400--400--400--400--400--400--400--400--400--400--400--400--400--400--400--400--400--400--400--400--400--400--400--400--400--400--400--400--400--400--400--400--400--400--400--400--400--400--400--400--400--400--400--400--400--400--400--400--400--400--400--400--400--400--400--400--400--400--400--400--400--400--400--400--400--400--400--400--400--400--400--400--400--400--400--400--400--400--400--400--400--400--400--400--400--400--400--400--400--400--400--400--400--400--400--400--400--400--400--400--400--400--400--400--400--400--400--400--400--400--400--400--400--400--400--400--400--400--400--400--400--400--400--400--400--400--400--400--400--400--400--400--400--400--400--400--400--400--400--400--400--400--400--400--400--400--400--400--400--400--400--400--400--400--400--400--400--400--400--400--400--400--400--400--400--400--400--400--400--400--400--400--400--400--400--400--400--400--400--400--400--400--400--400--400--400--400--400--400--400--400--400--400--400--400--400--400--400--400--400--400--400--400--400--400--400--400--400--400--400--400--400--400--400--400--400--400--400--400--400--400--400--400--400--400--400--400--400--400--400--400--400--400--400--400--400--400--400--400--400--400--400--400--400--400--400--400--400--400--400--400--400--400--400--400--400--400--400--400--400--400--400--400--400--400--400--400--400--400--400--400--400--400--400--400--400--400--400--400--400--400--400--400--400--400--400--400--400--400--400--400--400--400--400--400--400--400--400--400--400--400--400--400--400--400--400--400--400--400--400--400--400--400--400--400--400--400--400--400--400--400--400--400--400--400--400--400--400--400--400--400--400--400--400--400--400--400--400--400--400--400--400--400--400--400--400--400--400--400--400--400--400--400--400--400--400--400--400--400--400--400--400--400--400--400--400--400--400--400--400--400--400--400--400--400--400--400--400--400--400--400--400--400--400--400--400--400--400--400--400--400--400--400--400--400--400--400--400--400--400--400--400--400--400--400--400--400--400--400--400--400--400--400--400--400--400--400--400--400--400--400--400--400--400--400--400--400--400--400--400--400--400--400--400--400--400--400--400--400--400--400--400--400--400--400--400--400--400--400--400--400--400--400--400--400--400--400--400--400--400--400--400--400--400--400--400--400--400--400--400--400--400--400--400--400--400--400--400--400--400--400--400--400--400--400--400--400--400--400--400--400--400--400--400--400--400--400--400--400--400--400--400--400--400--400--400--400--400--400--400--400--400--400--400--400--400--400--400--400--400--400--400--400--400--400--400--400--400--400--400--400--400--400--400--400--400--400--400--400--400--400--400--400--400--400--400--400--400--400--400--400--400--400--400--400--400--400--400--400--400--400--400--400--400--400--400--400--400--400--400--400--400--400--400--400--400--400--400--400--400--400--400--400--400--400--400--400--400--400--400--400--400--400--400--400--400--400--400--400--400--400--400--400--400--400--400--400--400--400--400--400--400--400--400--400--400--400--400--400--400--400--400--400--400--400--400--400--400--400--400--400--400--400--400--400--400--400--400--400--400--400--400--400--400--400--400--400--400--400--400--400--400--400--400--400--400--400--400--400--400--400--400--400--400--400--400--400--400--400--400--400--400--400--400--400--400--400--400--400--400--400--400--400--400--400--400--400--400--400--400--400--400--400--400--400--400--400--400--400--400--400--400--400--400--400--400--400--400--400--400--400--400--400--400--400--400--400--400--400--400--400--400--400--400--400--400--400--400--400--400--400--400--400--400--400--400--400--400--400--400--400--400--400--400--400--400--400--400--400--400--400--400--400--400--400--400--400--400--400--400--400--400--400--400--400--400--400--400--400--400--400--400--400--400--400--400--400--400--400--400--400--400--400--400--400--400--400--400--400--400--400--400--400--400--400--400--400--400--400--400--400--400--400--400--400--400--400--400--400--400--400--400--400--400--400--400--400--400--400--400--400--400--400--400--400--400--400--400--400--400--400--400--400--400--400--400--400--400--400--400--400--400--400--400--400--400--400--400--400--400--400--400--400--400--400--400--400--400--400--400--400--400--400--400--400--400--400--400--400--400--400--400--400--400--400--400--400--400--400--400--400--400--400--400--400--400--400--400--400--400--400--400--400--400--400--400--400--400--400--400--400--400--400--400--400--400--400--400--400--400--400--400--400--400--400--400--400--400--400--400--400--400--400--400--400--400--400--400--400--400--400--400--400--400--400--400--400--400--400--400--400--400--400--400--400--400--400--400--400--400--400--400--400--400--400--400--400--400--400--400--400--400--400--400--400--400--400--400--400--400--400--400--400--400--400--400--400--400--400--400--400--400--400--400--400--400--400--400--400--400--400--400--400--400--400--400--400--400--400--400--400--400--400--400--400--400--400--400--400--400--400--400--400--400--400--400--400--400--400--400--400--400--400--400--400--400--400--400--400--400--400--400--400--400--400--400--400--400--400--400--400--400--400--400--400--400--400--400--400--400--400--400--400--400--400--400--400--400--400--400--400--400--400--400--400--400--400--400--400--400--400--400--400--400--400--400--400--400--400--400--400--400--400--400--400--400--400--400--400--400--400--400--400--400--400--400--400--400--400--400--400--400--400--400--400--400--400--400--400--400--400--400--400--400--400--400--400--400--400--400--400--400--400--400--400--400--400--400--400--400--400--400--400--400--400--400--400--400--400--400--400--400--400--400--400--400--400--400--400--400--400--400--400--400--400--400--400--400--400--400--400--400--400--400--400--400--400--400--400--400--400--400--400--400--400--400--400--400--400--400--400--400--400--400--400--400--400--400--400--400--400--400--400--400--400--400--400--400--400--400--400--400--400--400--400--400--400--400--400--400--400--400--400--400--400--400--400--400--400--400--400--400--400--400--400--400--400--400--400--400--400--400--400--400--400--400--400--400--400--400--400--400--400--400--400--400--400--400--400--400--400--400--400--400--400--400--400--400--400--400--400--400--400--400--400--400--400--400--400--400--400--400--400--400--400--400--400--400--400--400--400--400--400--400--400--400--400--400--400--400--400--400--400--400--400--400--400--400--400--400--400--400--400--400--400--400--400--400--400--400--400--400--400--400--400--400--400--400--400--400--400--400--400--400--400--400--400--400--400--400--400--400--400--400--400--400--400--400--400--400--400--400--400--400--400--400--400--400--400--400--400--400--400--400--400--400--400--400--400--400--400--400--400--400--400--400--400--400--400--400--400--400--400--400--400--400--400--400--400--400--400--400--400--400--400--400--400--400--400--400--400--400--400--400--400--400--400--400--400--400--400--400--400--400--400--400--400--400--400--400--400--400--400--400--400--400--400--400--400--400--400--400--400--400--400--400--400--400--400--400--400--400--400--400--400--400--400--400--400--400--400--400--400--400--400--400--400--400--400--400--400--400--400--400--400--400--400--400--400--400--400--400--400--400--400--400--400--400--400--400--400--400--400--400--400--400--400--400--400--400--400--400--400--400--400--400--400--400--400--400--400--400--400--400--400--400--400--400--400--400--400--400--400--400--400--400--400--400--400--400--400--400--400--400--400--400--400--400--400--400--400--400--400--400--400--400--400--400--400--400--400--400--400--400--400--400--400--400--400--400--400--400--400--400--400--400--400--400--400--400--400--400--400--400--400--400--400--400--400--400--400--400--400--400--400--400--400--400--400--400--400--400--400--400--400--400--400--400--400--400--400--400--400--400--400--400--400--400--400--400--400--400--400--400--400--400--400--400--400--400--400--400--400--400--400--400--400--400--400--400--400--400--400--400--400--400--400--400--400--400--400--400--400--400--400--400--400--400--400--400--400--400--400--400--400--400--400--400--400--400--400--400--400--400--400--400--400--400--400--400--400--400--400--400--400--400--400--400--400--400--400--400--400--400--400--400--400--400--400--400--400--400--400--400--400--400--400--400--400--400--400--400--400--400--400--400--400--400--400--400--400--400--400--400--400--400--400--400--400--400--400--400--400--400--400--400--400--400--400--400--400--400--400--400--400--400--400--400--400--400--400--400--400--400--400--400--400--400--400--400--400--400--400--400--400--400--400--400--400--400--400--400--400--400--400--400--400--400--400--400--400--400--400--400--400--400--400--400--400--400--400--400--400--400--400--400--400--400--400--400--400--400--400--400--400--400--400--400--400--400--400--400--400--400--400--400--400--400--400--400--400--400--400--400--400--400--400--400--400--400--400--400--400--400--400--400--400--400--400--400--400--400--400--400--400--400--400--400--400--400--400--400--400--400--400--400--400--400--400--400--400--400--400--400--400--400--400--400--400--400--400--400--400--400--400--400--400--400--400--400--400--400--400--400--400--400--400--400--400--400--400--400--400--400--400--400--400--400--400--400--400--400--400--400--400--400--400--400--400--400--400--400--400--400--400--400--400--400--400--400--400--400--400--400--400--400--400--400--400--400--400--400--400--400--400--400--400--400--400--400--400--400--400--400--400--400--400--400--400--400--400--400--400--400--400--400--400--400--400--400--400--400--400--400--400--400--400--400--400--400--400--400--400--400--400--400--400--400--400--400--400--400--400--400--400--400--400--400--400--400--400--400--400--400--400--400--400--400--400--400--400--400--400--400--400--400--400--400--400--400--400--400--400--400--400--400--400--400--400--400--400--400--400--400--400--400--400--400--400--400--400--400--400--400--400--400--400--400--400--400--400--400--400--400--400--400--400--400--400--400--400--400--400--400--400--400--400--400--400--400--400--400--400--400--400--400--400--400--400--400--400--400--400--400--400--400--400--400--400--400--400--400--400--400--400--400--400--400--400--400--400--400--400--400--400--400--400--400--400--400--400--400--400--400--400--400--400--400--400--400--400--400--400--400--400--400--400--400--400--400--400--400--400--400--400--400--400--400--400--400--400--400--400--400--400--400--400--400--400--400--400--400--400--400--400--400--400--400--400--400--400--400--400--400--400--400--400--400--400--400--400--400--400--400--400--400--400--400--400--400--400--400--400--400--400--400--400--400--400--400--400--400--400--400--400--400--400--400--400--400--400--400--400--400--400--400--400--400--400--400--400--400--400--400--400--400--400--400--400--400--400--400--400--400--400--400--400--400--400--400--400--400--400--400--400--400--400--400--400--400--400--400--400--400--400--400--400--400--400--400--400--400--400--400--400--400--400--400--400--400--400--400--400--400--400--400--400--400--400--400--400--400--400--400--400--400--400--400--400--400--400--400--400--400--400--400--400--400--400--400--400--400--400--400--400--400--400--400--400--400--400--400--400--400--400--400--400--400--400--400--400--400--400--400--400--400--400--400--400--400--400--400--400--400--400--400--400--400--400--400--400--400--400--400--400--400--400--400--400--400--400--400--400--400--400--400--400--400--400--400--400--400--400--400--400--400--400--400--400--400--400--400--400--400--400--400--400--400--400--400--400--400--400--400--400--400--400--400--400--400--400--400--400--400--400--400--400--400--400--400--400--400--400--400--400--400--400--400--400--400--400--400--400--400--400--400--400--400--400--400--400--400--400--400--400--400--400--400--400--400--400--400--400--400--400--400--400--400--400--400--400--400--400--400--400--400--400--400--400--400--400--400--400--400--400--400--400--400--400--400--400--400--400--400--400--400--400--400--400--400--400--400--400--400--400--400--400--400--400--400--400--400--400--400--400--400--400--400--400--400--400--400--400--400--400--400--400--400--400--400--400--400--400--400--400--400--400--400--400--400--400--400--400--400--400--400--400--400--400--400--400--400--400--400--400--400--400--400--400--400--400--400--400--400--400--400--400--400--400--400--400--400--400--400--400--400--400--400--400--400--400--400--400--400--400--400--400--400--400--400--400--400--400--400--400--400--400--400--400--400--400--400--400--400--400--400--400--400--400--400--400--400--400--400--400--400--400--400--400--400--400--400--400--400--400--400--400--400--400--400--400--400--400--400--400--400--400--400--400--400--400--400--400--400--400--400--400--400--400--400--400--400--400--400--400--400--400--400--400--400--400--400--400--400--400--400--400--400--400--400--400--400--400--400--400--400--400--400--400--400--400--400--400--400--400--400--400--400--400--400--400--400--400--400--400--400--400--400--400--400--400--400--400--400--400--400--400--400--400--400--400--400--400--400--400--400--400--400--400--400--400--400--400--400--400--400--400--400--400--400--400--400--400--400--400--400--400--400--400--400--400--400--400--400--400--400--400--400--400--400--400--400--400--400--400--400--400--400--400--400--400--400--400--400--400--400--400--400--400--400--400--400--400--400--400--400--400--400--400--400--400--400--400--400--400--400--400--400--400--400--400--400--400--400--400--400--400--400--400--400--400--400--400--400--400--400--400--400--400--400--400--400--400--400--400--400--400--400--400--400--400--400--400--400--400--400--400--400--400--400--400--400--400--400--400--400--400--400--400--400--400--400--400--400--400--400--400--400--400--400--400--400--400--400--400--400--400--400--400--400--400--400--400--400--400--400--400--400--400--400--400--400--400--400--400--400--400--400--400--400--400--400--400--400--400--400--400--400--400--400--400--400--400--400--400--400--400--400--400--400--400--400--400--400--400--400--400--400--400--400--400--400--400--400--400--400--400--400--400--400--400--400--400--400--400--400--400--400--400--400--400--400--400--400--400--400--400--400--400--400--400--400--400--400--400--400--400--400--400--400--400--400--400--400--400--400--400--400--400--400--400--400--400--400--400--400--400--400--400--400--400--400--400--400--400--400--400--400--400--400--400--400--400--400--400--400--400--400--400--400--400--400--400--400--400--400--400--400--400--400--400--400--400--400--400--400--400--400--400--400--400--400--400--400--400--400--400--400--400--400--400--400--400--400--400--400--400--400--400--400--400--400--400--400--400--400--400--400--400--400--400--400--400--400--400--400--400--400--400--400--400--400--400--400--400--400--400--400--400--400--400--400--400--400--400--400--400--400--400--400--400--400--400--400--400--400--400--400--400--400--400--400--400--400--400--400--400--400--400--400--400--400--400--400--400--400--400--400--400--400--400--400--400--400--400--400--400--400--400--400--400--400--400--400--400--400--400--400--400--400--400--400--400--400--400--400--400--400--400--400--400--400--400--400--400--400--400--400--400--400--400--400--400--400--400--400--400--400--400--400--400--400--400--400--400--400--400--400--400--400--400--400--400--400--400--400--400--400--400--400--400--400--400--400--400--400--400--400--400--400--400--400--400--400--400--400--400--400--400--400--400--400--400--400--400--400--400--400--400--400--400--400--400--400--400--400--400--400--400--400--400--400--400--400--400--400--400--400--400--400--400--400--400--400--400--400--400--400--400--400--400--400--400--400--400--400--400--400--400--400--400--400--400--400--400--400--400--400--400--400--400--400--400--400--400--400--400--400--400--400--400--400--400--400--400--400--400--400--400--400--400--400--400--400--400--400--400--400--400--400--400--400--400--400--400--400--400--400--400--400--400--400--400--400--400--400--400--400--400--400--400--400--400--400--400--400--400--400--400--400--400--400--400--400--400--400--400--400--400--400--400--400--400--400--400--400--400--400--400--400--400--400--400--400--400--400--400--400--400--400--400--400--400--400--400--400--400--400--400--400--400--400--400--400--400--400--400--400--400--400--400--400--400--400--400--400--400--400--400--400--400--400--400--400--400--400--400--400--400--400--400--400--400--400--400--400--400--400--400--400--400--400--400--400--400--400--400--400--400--400--400--400--400--400--400--400--400--400--400--400--400--400--400--400--400--400--400--400--400--400--400--400--400--400--400--400--400--400--400--400--400--400--400--400--400--400--400--400--400--400--400--400--400--400--400--400--400--400--400--400--400--400--400--400--400--400--400--400--400--400--400--400--400--400--400--400--400--400--400--400--400--400--400--400--400--400--400--400--400--400--400--400--400--400--400--400--400--400--400--400--400--400--400--400--400--400--400--400--400--400--400--400--400--400--400--400--400--400--400--400--400--400--400--400--400--400--400--400--400--400--400--400--400--400--400--400--400--400--400--400--400--400--400--400--400--400--400--400--400--400--400--400--400--400--400--400--400--400--400--400--400--400--400--400--400--400--400--400--400--400--400--400--400--400--400--400--400--400--400--400--400--400--400--400--400--400--400--400--400--400--400--400--400--400--400--400--400--400--400--400--400--400--400--400--400--400--400--400--400--400--400--400--400--400--400--400--400--400--400--400--400--400--400--400--400--400--400--400--400--400--400--400--400--400--400--400--400--400--400--400--400--400--400--400--400--400--400--400--400--400--400--400--400--400--400--400--400--400--400--400--400--400--400--400--400--400--400--400--400--400--400--400--400--400--400--400--400--400--400--400--400--400--400--400--400--400--400--400--400--400--400--400--400--400--400--400--400--400--400--400--400--400--400--400--400--400--400--400--400--400--400--400--400--400--400--400--400--400--400--400--400--400--400--400--400--400--400--400--400--400--400--400--400--400--400--400--400--400--400--400--400--400--400--400--400--400--400--400--400--400--400--400--400--400--400--400--400--400--400--400--400--400--400--400--400--400--400--400--400--400--400--400--400--400--400--400--400--400--400--400--400--400--400--400--400--400--400--400--400--400--400--400--400--400--400--400--400--400--400--400--400--400--400--400--400--400--400--400--400--400--400--400--400--400--400--400--400--400--400--400--400--400--400--400--400--400--400--400--400--400--400--400--400--400--400--400--400--400--400--400--400--400--400--400--400--400--400--400--400--400--400--400--400--400--400--400--400--400--400--400--400--400--400--400--400--400--400--400--400--400--400--400--400--400--400--400--400--400--400--400--400--400--400--400--400--400--400--400--400--400--400--400--400--400--400--400--400--400--400--400--400--400--400--400--400--400--400--400--400--400--400--400--400--400--400--400--400--400--400--400--400--400--400--400--400--400--400--400--400--400--400--400--400--400--400--400--400--400--400--400--400--400--400--400--400--400--400--400--400--400--400--400--400--400--400--400--400--400--400--400--400--400--400--400--400--400--400--400--400--400--400--400--400--400--400--400--400--400--400--400--400--400--400--400--400--400--400--400--400--400--400--400--400--400--400--400--400--400--400--400--400--400--400--400--400--400--400--400--400--400--400--400--400--400--400--400--400--400--400--400--400--400--400--400--400--400--400--400--400--400--400--400--400--400--400--400--400--400--400--400--400--400--400--400--400--400--400--400--400--400--400--400--400--400--400--400--400--400--400--400--400--400--400--400--400--400--400--400--400--400--400--400--400--400--400--400--400--400--400--400--400--400--400--400--400--400--400--400--400--400--400--400--400--400--400--400--400--400--400--400--400--400--400--400--400--400--400--400--400--400--400--400--400--400--400--400--400--400--400--400--400--400--400--400--400--400--400--400--400--400--400--400--400--400--400--400--400--400--400--400--400--400--400--400--400--400--400--400--400--400--400--400--400--400--400--400--400--400--400--400--400--400--400--400--400--400--400--400--400--400--400--400--400--400--400--400--400--400--400--400--400--400--400--400--400--400--400--400--400--400--400--400--400--400--400--400--400--400--400--400--400--400--400--400--400--400--400--400--400--400--400--400--400--400--400--400--400--400--400--400--400--400--400--400--400--400--400--400--400--400--400--400--400--400--400--400--400--400--400--400--400--400--400--400--400--400--400--400--400--400--400--400--400--400--400--400--400--400--400--400--400--400--400--400--400--400--400--400--400--400--400--400--400--400--400--400--400--400--400--400--400--400--400--400--400--400--400--400--400--400--400--400--400--400--400--400--400--400--400--400--400--400--400--400--400--400--400--400--400--400--400--400--400--400--400--400--400--400--400--400--400--400--400--400--400--400--400--400--400--400--400--400--400--400--400--400--400--400--400--400--400--400--400--400--400--400--400--400--400--400--400--400--400--400--400--400--400--400--400--400--400--400--400--400--400--400--400--400--400--400--400--400--400--400--400--400--400--400--400--400--400--400--400--400--400--400--400--400--400--400--400--400--400--400--400--400--400--400--400--400--400--400--400--400--400--400--400--400--400--400--400--400--400--400--400--400--400--400--400--400--400--400--400--400--400--400--400--400--400--400--400--400--400--400--400--400--400--400--400--400--400--400--400--400--400--400--400--400--400--400--400--400--400--400--400--400--400--400--400--400--400--400--400--400--400--400--400--400--400--400--400--400--400--400--400--400--400--400--400--400--400--400--400--400--400--400--400--400--400--400--400--400--400--400--400--400--400--400--400--400--400--400--400--400--400--400--400--400--400--400--400--400--400--400--400--400--400--400--400--400--400--400--400--400--400--400--400--400--400--400--400--400--400--400--400--400--400--400--400--400--400--400--400--400--400--400--400--400--400--400--400--400--400--400--400--400--400--400--400--400--400--400--400--400--400--400--400--400--400--400--400--400--400--400--400--400--400--400--400--400--400--400--400--400--400--400--400--400--400--400--400--400--400--400--400--400--400--400--400--400--400--400--400--400--400--400--400--400--400--400--400--400--400--400--400--400--400--400--400--400--400--400--400--400--400--400--400--400--400--400--400--400--400--400--400--400--400--400--400--400--400--400--400--400--400--400--400--400--400--400--400--400--400--400--400--400--400--400--400--400--400--400--400--400--400--400--400--400--400--400--400--400--400--400--400--400--400--400--400--400--400--400--400--400--400--400--400--400--400--400--400--400--400--400--400--400--400--400--400--400--400--400--400--400--400--400--400--400--400--400--400--400--400--400--400--400--400--400--400--400--400--400--400--400--400--400--400--400--400--400--400--400--400--400--400--400--400--400--400--400--400--400--400--400--400--400--400--400--400--400--400--400--400--400--400--400--400--400--400--400--400--400--400--400--400--400--400--400--400--400--400--400--400--400--400--400--400--400--400--400--400--400--400--400--400--400--400--400--400--400--400--400--400--400--400--400--400--400--400--400--400--400--400--400--400--400--400--400--400--400--400--400--400--400--400--400--400--400--400--400--400--400--400--400--400--400--400--400--400--400--400--400--400--400--400--400--400--400--400--400--400--400--400--400--400--400--400--400--400--400--400--400--400--400--400--400--400--400--400--400--400--400--400--400--400--400--400--400--400--400--400--400--400--400--400--400--400--400--400--400--400--400--400--400--400--400--400--400--400--400--400--400--400--400--400--400--400--400--400--400--400--400--400--400--400--400--400--400--400--400--400--400--400--400--400--400--400--400--400--400--400--400--400--400--400--400--400--400--400--400--400--400--400--400--400--400--400--400--400--400--400--400--400--400--400--400--400--400--400--400--400--400--400--400--400--400--400--400--400--400--400--400--400--400--400--400--400--400--400--400--400--400--400--400--400--400--400--400--400--400--400--400--400--400--400--400--400--400--400--400--400--400--400--400--400--400--400--400--400--400--400--400--400--400--400--400--400--400--400--400--400--400--400--400--400--400--400--400--400--400--400--400--400--400--400--400--400--400--400--400--400--400--400--400--400--400--400--400--400--400--400--400--400--400--400--400--400--400--400--400--400--400--400--400--400--400--400--400--400--400--400--400--400--400--400--400--400--400--400--400--400--400--400--400--400--400--400--400--400--400--400--400--400--400--400--400--400--400--400--400--400--400--400--400--400--400--400--400--400--400--400--400--400--400--400--400--400--400--400--400--400--400--400--400--400--400--400--400--400--400--400--400--400--400--400--400--400--400--400--400--400--400--400--400--400--400--400--400--400--400--400--400--400--400--400--400--400--400--400--400--400--400--400--400--400--400--400--400--400--400--400--400--400--400--400--400--400--400--400--400--400--400--400--400--400--400--400--400--400--400--400--400--400--400--400--400--400--400--400--400--400--400--400--400--400--400--400--400--400--400--400--400--400--400--400--400--400--400--400--400--400--400--400--400--400--400--400--400--400--400--400--400--400--400--400--400--400--400--400--400--400--400--400--400--400--400--400--400--400--400--400--400--400--400--400--400--400--400--400--400--400--400--400--400--400--400--400--400--400--400--400--400--400--400--400--400--400--400--400--400--400--400--400--400--400--400--400--400--400--400--400--400--400--400--400--400--400--400--400--400--400--400--400--400--400--400--400--400--400--400--400--400--400--400--400--400--400--400--400--400--400--400--400--400--400--400--400--400--400--400--400--400--400--400--400--400--400--400--400--400--400--400--400--400--400--400--400--400--400--400--400--400--400--400--400--400--400--400--400--400--400--400--400--400--400--400--400--400--400--400--400--400--400--400--400--400--400--400--400--400--400--400--400--400--400--400--400--400--400--400--400--400--400--400--400--400--400--400--400--400--400--400--400--400--400--400--400--400--400--400--400--400--400--400--400--400--400--400--400--400--400--400--400--400--400--400--400--400--400--400--400--400--400--400--400--400--400--400--400--400--400--400--400--400--400--400--400--400--400--400--400--400--400--400--400--400--400--400--400--400--400--400--400--400--400--400--400--400--400--400--400--400--400--400--400--400--400--400--400--400--400--400--400--400--400--400--400--400--400--400--400--400--400--400--400--400--400--400--400--400--400--400--400--400--400--400--400--400--400--400--400--400--400--400--400--400--400--400--400--400--400--400--400--400--400--400--400--400--400--400--400--400--400--400--400--400--400--400--400--400--400--400--400--400--400--400--400--400--400--400--400--400--400--400--400--400--400--400--400--400--400--400--400--400--400--400--400--400--400--400--400--400--400--400--400--400--400--400--400--400--400--400--400--400--400--400--400--400--400--400--400--400--400--400--400--400--400--400--400--400--400--400--400--400--400--400--400--400--400--400--400--400--400--400--400--400--400--400--400--400--400--400--400--400--400--400--400--400--400--400--400--400--400--400--400--400--400--400--400--400--400--400--400--400--400--400--400--400--400--400--400--400--400--400--400--400--400--400--400--400--400--400--400--400--400--400--400--400--400--400--400--400--400--400--400--400--400--400--400--400--400--400--400--400--400--400--400--400--400--400--400--400--400--400--400--400--400--400--400--400--400--400--400--400--400--400--400--400--400--400--400--400--400--400--400--400--400--400--400--400--400--400--400--400--400--400--400--400--400--400--400--400--400--400--400--400--400--400--400--400--400--400--400--400--400--400--400--"
          ]
        }
      ],
      "source": [
        "for i in x_train:\n",
        "    print (len(i),end=\"--\")"
      ]
    },
    {
      "cell_type": "code",
      "execution_count": 36,
      "metadata": {
        "colab": {
          "base_uri": "https://localhost:8080/"
        },
        "id": "st2F_x9FuMEW",
        "outputId": "5c1d03a0-8f49-4e4d-9d9d-9a765ba4a0d0"
      },
      "outputs": [
        {
          "output_type": "stream",
          "name": "stdout",
          "text": [
            "30570\n"
          ]
        },
        {
          "output_type": "execute_result",
          "data": {
            "text/plain": [
              "30570"
            ]
          },
          "metadata": {},
          "execution_count": 36
        }
      ],
      "source": [
        "print(len(y_train))\n",
        "len(x_train)"
      ]
    },
    {
      "cell_type": "code",
      "source": [
        "y_train[0]"
      ],
      "metadata": {
        "colab": {
          "base_uri": "https://localhost:8080/"
        },
        "id": "IBZsCDc3g_aH",
        "outputId": "e4a5ea70-b02f-4593-f71c-458d5612dbc3"
      },
      "execution_count": 37,
      "outputs": [
        {
          "output_type": "execute_result",
          "data": {
            "text/plain": [
              "[0, 0, 1, 0, 0, 0, 0, 0, 0, 0, 0, 0, 0, 0, 0]"
            ]
          },
          "metadata": {},
          "execution_count": 37
        }
      ]
    },
    {
      "cell_type": "code",
      "source": [
        "import tensorflow_addons as tfa"
      ],
      "metadata": {
        "id": "kexCNLWBmsA9"
      },
      "execution_count": 38,
      "outputs": []
    },
    {
      "cell_type": "code",
      "execution_count": 39,
      "metadata": {
        "id": "7J2K6EXIgYQG"
      },
      "outputs": [],
      "source": [
        "import tensorflow as tf\n",
        "from tensorflow.keras.callbacks import ModelCheckpoint\n",
        "model_name=\"PoLaCa\"\n",
        "def scheduler(epoch, lr):\n",
        "       #return 0.00003\n",
        "        \n",
        "    maxx=0.00001\n",
        "    minn=0.01\n",
        "    frekvency=3\n",
        "    o=(epoch % frekvency)/frekvency * (maxx-minn)+minn\n",
        "    return o\n",
        "\n",
        "        \n",
        "    if epoch<50:\n",
        "        return 0.001\n",
        "    elif epoch <100:\n",
        "        return 0.001\n",
        "    elif epoch <1200:\n",
        "        return 0.0001\n",
        "    return 0.001\n",
        "    \n",
        "callback_LR = tf.keras.callbacks.LearningRateScheduler(scheduler)\n",
        "\n",
        "callbacks = [#callback_LR,\n",
        "            \n",
        "            #savemodela,\n",
        "            ModelCheckpoint(filepath=model_name+\"_LOSS_{loss:.5f}_VACC_{val_Accuracy:.4f}_VF1.hdf5\", monitor='loss',\n",
        "                            verbose=1, save_best_only=True, mode='min')]"
      ]
    },
    {
      "cell_type": "code",
      "execution_count": null,
      "metadata": {
        "colab": {
          "base_uri": "https://localhost:8080/"
        },
        "id": "op-I834SFpUX",
        "outputId": "b7223509-2a13-4ed9-edaf-e96f6d1c6b28"
      },
      "outputs": [
        {
          "output_type": "stream",
          "name": "stdout",
          "text": [
            "Epoch 1/42\n",
            "955/956 [============================>.] - ETA: 0s - loss: 2.0042 - Accuracy: 0.3303 - f1_score: 0.0775\n",
            "Epoch 00001: loss improved from inf to 2.00399, saving model to PoLaCa_LOSS_2.00399_VACC_0.3700_VF1.hdf5\n",
            "956/956 [==============================] - 99s 102ms/step - loss: 2.0040 - Accuracy: 0.3303 - f1_score: 0.0775 - val_loss: 2.0434 - val_Accuracy: 0.3700 - val_f1_score: 0.0696\n"
          ]
        }
      ],
      "source": [
        "# Illesszük az adatra a modellt\n",
        "history=model.fit(\n",
        "        x=x_train,\n",
        "        y=y_train, \n",
        "        epochs=42, \n",
        "        batch_size=32,\n",
        "        validation_data=(x_valid,y_valid) ,         \n",
        "        callbacks=[callbacks]          \n",
        "        )\n"
      ]
    },
    {
      "cell_type": "code",
      "execution_count": null,
      "metadata": {
        "id": "4UV9VOXARdCK"
      },
      "outputs": [],
      "source": [
        "model.save_weights(\"model1.hdf5\")"
      ]
    },
    {
      "cell_type": "code",
      "execution_count": null,
      "metadata": {
        "id": "Y_CHGgYja_bB"
      },
      "outputs": [],
      "source": [
        "pred=model.predict(x_train,)"
      ]
    },
    {
      "cell_type": "code",
      "execution_count": null,
      "metadata": {
        "id": "loCl2-qmA6SL"
      },
      "outputs": [],
      "source": [
        "def maxpos(alist):\n",
        "    temp = max(alist)\n",
        "    res = [i for i, j in enumerate(alist) if j == temp]\n",
        "    return res[0]  \n"
      ]
    },
    {
      "cell_type": "code",
      "execution_count": null,
      "metadata": {
        "id": "CIFRZ753bMNi"
      },
      "outputs": [],
      "source": [
        "def show_difference(pred,ytrain,df,verbose=False):\n",
        "    ecounter=0\n",
        "    for i in range(len(pred)):\n",
        "        predi=pred[i]\n",
        "        traini=y_train[i]\n",
        "        if maxpos(traini)!=maxpos(predi):\n",
        "            ecounter+=1\n",
        "            if verbose:\n",
        "                print(f\"{i}, {predi}, {traini}\")\n",
        "                print(f\"---Text: {df.iloc[i].text}\")\n",
        "    print(f\"Hiba szám: {ecounter:6}, arány: {ecounter/len(df)*100}% \")\n"
      ]
    },
    {
      "cell_type": "code",
      "execution_count": null,
      "metadata": {
        "id": "IWKt2DCcFbKc"
      },
      "outputs": [],
      "source": [
        "show_difference(pred,ytrain,df_train)"
      ]
    },
    {
      "cell_type": "code",
      "execution_count": null,
      "metadata": {
        "id": "x39xe3TmGHJ_"
      },
      "outputs": [],
      "source": [
        "---"
      ]
    },
    {
      "cell_type": "markdown",
      "metadata": {
        "id": "hlKyrRqfG6GP"
      },
      "source": [
        "### Model usage"
      ]
    },
    {
      "cell_type": "code",
      "execution_count": null,
      "metadata": {
        "id": "vvmmKvBIF4n8"
      },
      "outputs": [],
      "source": [
        "test_df=pd.read_csv(\"test_200.csv\")"
      ]
    },
    {
      "cell_type": "code",
      "execution_count": null,
      "metadata": {
        "id": "Mc0vyTmcHRvY"
      },
      "outputs": [],
      "source": [
        "print(len(test_df))"
      ]
    },
    {
      "cell_type": "code",
      "execution_count": null,
      "metadata": {
        "id": "5utaqxGNHU7y"
      },
      "outputs": [],
      "source": [
        "test_df.head()"
      ]
    },
    {
      "cell_type": "code",
      "execution_count": null,
      "metadata": {
        "id": "ykk17oAEoPwM"
      },
      "outputs": [],
      "source": [
        "__MAXWORD__=200\n",
        "test_word_list=list(test_df.Words_in_Numbers)\n",
        "x_test=create_x(test_word_list,maxword=__MAXWORD__)"
      ]
    },
    {
      "cell_type": "code",
      "execution_count": null,
      "metadata": {
        "id": "Yg0DqmUWoj5s"
      },
      "outputs": [],
      "source": [
        "y_pred=model.predict(x_test)"
      ]
    },
    {
      "cell_type": "code",
      "execution_count": null,
      "metadata": {
        "id": "itw7lX_hqO5m"
      },
      "outputs": [],
      "source": [
        "o=[\"kitaifa\",\"michezo\",\"biashara\",\"kamataifa\",\"burudani\"]"
      ]
    },
    {
      "cell_type": "code",
      "execution_count": null,
      "metadata": {
        "id": "JOQFlEC2oj2i"
      },
      "outputs": [],
      "source": [
        "def data_generator(y_pred):\n",
        "    out=[]\n",
        "    for pred in y_pred:\n",
        "        t1=[0,0,0,0,0]\n",
        "        ox=pred.argmax()\n",
        "        t1[ox]=1\n",
        "        out.append(t1) \n",
        "    return(out)"
      ]
    },
    {
      "cell_type": "code",
      "execution_count": null,
      "metadata": {
        "id": "tSRQc0kWojzb"
      },
      "outputs": [],
      "source": [
        "output=data_generator(y_pred)\n",
        "\n",
        "output0=[x[0] for x in output]\n",
        "output1=[x[1] for x in output]\n",
        "output2=[x[2] for x in output]\n",
        "output3=[x[3] for x in output]\n",
        "output4=[x[4] for x in output]"
      ]
    },
    {
      "cell_type": "code",
      "execution_count": null,
      "metadata": {
        "id": "G88pQ7jYojvu"
      },
      "outputs": [],
      "source": [
        "df_csv=pd.DataFrame()\n",
        "df_csv[\"test_id\"]=test_df[\"swahili_id\"]\n",
        "df_csv[o[0]]=output0\n",
        "df_csv[o[1]]=output1\n",
        "df_csv[o[2]]=output2\n",
        "df_csv[o[3]]=output3\n",
        "df_csv[o[4]]=output4"
      ]
    },
    {
      "cell_type": "code",
      "execution_count": null,
      "metadata": {
        "id": "3NSaY0zkyu1t"
      },
      "outputs": [],
      "source": [
        "df_csv.head()"
      ]
    },
    {
      "cell_type": "code",
      "execution_count": null,
      "metadata": {
        "id": "hw4CUPobbH7A"
      },
      "outputs": [],
      "source": [
        "from datetime  import datetime"
      ]
    },
    {
      "cell_type": "code",
      "execution_count": null,
      "metadata": {
        "id": "CAbhqmcPdF6U"
      },
      "outputs": [],
      "source": [
        "a=datetime.now().strftime(\"%Y%m%d_%H%M%S\")"
      ]
    },
    {
      "cell_type": "code",
      "execution_count": null,
      "metadata": {
        "id": "MiOwO9UTdeUt"
      },
      "outputs": [],
      "source": [
        "fname=\"submission_\"+a+\".csv\""
      ]
    },
    {
      "cell_type": "code",
      "execution_count": null,
      "metadata": {
        "id": "8ELciPC_OpWA"
      },
      "outputs": [],
      "source": [
        "df_csv.to_csv(fname,index=False)"
      ]
    },
    {
      "cell_type": "code",
      "execution_count": null,
      "metadata": {
        "id": "wvmaQZGBYM_7"
      },
      "outputs": [],
      "source": [
        "!head $fname"
      ]
    },
    {
      "cell_type": "code",
      "execution_count": null,
      "metadata": {
        "id": "OrtPBTgcYwtg"
      },
      "outputs": [],
      "source": [
        ""
      ]
    }
  ],
  "metadata": {
    "accelerator": "GPU",
    "colab": {
      "collapsed_sections": [
        "YDQLvAy5gI0C",
        "0RCD1OKy7kJr",
        "YdZa4d2H7nO8",
        "hlKyrRqfG6GP"
      ],
      "name": "Programming_language_ID_convolution_20211230.ipynb",
      "provenance": [],
      "history_visible": true,
      "include_colab_link": true
    },
    "kernelspec": {
      "display_name": "Python 3",
      "name": "python3"
    },
    "language_info": {
      "name": "python"
    }
  },
  "nbformat": 4,
  "nbformat_minor": 0
}